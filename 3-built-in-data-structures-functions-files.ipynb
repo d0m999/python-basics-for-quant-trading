{
 "cells": [
  {
   "cell_type": "markdown",
   "id": "bfae364b",
   "metadata": {},
   "source": [
    "# 3.1 Data Structures and Sequences"
   ]
  },
  {
   "cell_type": "markdown",
   "id": "e6953d4b",
   "metadata": {},
   "source": [
    "## Tuple\n",
    "fixed-length, immutable sequence"
   ]
  },
  {
   "cell_type": "code",
   "execution_count": 1,
   "id": "9ad443b5",
   "metadata": {},
   "outputs": [
    {
     "data": {
      "text/plain": [
       "(1, 2, 3)"
      ]
     },
     "execution_count": 1,
     "metadata": {},
     "output_type": "execute_result"
    }
   ],
   "source": [
    "tuple([1,2,3])"
   ]
  },
  {
   "cell_type": "code",
   "execution_count": 5,
   "id": "c4bfcf36",
   "metadata": {},
   "outputs": [
    {
     "data": {
      "text/plain": [
       "('s', 't', 'r', 'i', 'n', 'g')"
      ]
     },
     "execution_count": 5,
     "metadata": {},
     "output_type": "execute_result"
    }
   ],
   "source": [
    "a = tuple('string')\n",
    "a"
   ]
  },
  {
   "cell_type": "code",
   "execution_count": 6,
   "id": "6708f047",
   "metadata": {},
   "outputs": [
    {
     "data": {
      "text/plain": [
       "'s'"
      ]
     },
     "execution_count": 6,
     "metadata": {},
     "output_type": "execute_result"
    }
   ],
   "source": [
    "a[0]"
   ]
  },
  {
   "cell_type": "code",
   "execution_count": null,
   "id": "846dc5c1",
   "metadata": {},
   "outputs": [
    {
     "data": {
      "text/plain": [
       "(1, 2, (3, 4, 5), 6)"
      ]
     },
     "execution_count": 7,
     "metadata": {},
     "output_type": "execute_result"
    }
   ],
   "source": [
    "nested_tup = 1, 2, (3, 4, 5), 6 # 创建 tuple 可以省略()\n",
    "nested_tup"
   ]
  },
  {
   "cell_type": "code",
   "execution_count": 8,
   "id": "b2f18dbd",
   "metadata": {},
   "outputs": [
    {
     "data": {
      "text/plain": [
       "(3, 4, 5)"
      ]
     },
     "execution_count": 8,
     "metadata": {},
     "output_type": "execute_result"
    }
   ],
   "source": [
    "nested_tup[2]"
   ]
  },
  {
   "cell_type": "markdown",
   "id": "b144946a",
   "metadata": {},
   "source": [
    "tuple中的对象可以修改的条件：\n",
    "\n",
    "✅ 对象本身是可变类型（list, dict, set等）\n",
    "✅ 通过对象的方法修改其内容\n",
    "❌ 不能替换tuple中的引用\n",
    "❌ 不能修改tuple的结构\n",
    "\n",
    "记忆要点：tuple保护的是引用的不变性，而不是对象内容的不变性。\n",
    "\n",
    "❌ 不能改变引用本身\n",
    "\n",
    "<tup[0] = [4, 5, 6]  # TypeError: 'tuple' object does not support item assignment>\n",
    "\n",
    "这试图让 tup[0] 指向一个新的列表对象\n",
    "但tuple不允许改变其存储的引用"
   ]
  },
  {
   "cell_type": "code",
   "execution_count": null,
   "id": "47f3f31d",
   "metadata": {},
   "outputs": [
    {
     "data": {
      "text/plain": [
       "[1, 2, 3, 4]"
      ]
     },
     "execution_count": 29,
     "metadata": {},
     "output_type": "execute_result"
    }
   ],
   "source": [
    "tup = ([1, 2, 3], 'hello')\n",
    "# tuple对象: tup = ([1, 2, 3], 'hello')\n",
    "#                       ↓        ↓        \n",
    "#            内存布局:  [引用1]  [引用2]\n",
    "#                       ↓        ↓\n",
    "#            实际对象:  list对象  str对象\n",
    "#                      [1,2,3]   'hello'\n",
    "#                      (可变)    (不可变)\n",
    "\n",
    "tup[0].append(4)\n",
    "tup[0]\n",
    "# 步骤解析：\n",
    "# 1. tup[0] 获取第一个引用，指向list对象\n",
    "# 2. .append(4) 在该list对象上调用方法\n",
    "# 3. list对象内容改变，但引用不变\n",
    "# 4. tuple仍然指向同一个list对象"
   ]
  },
  {
   "cell_type": "code",
   "execution_count": 11,
   "id": "dc3a1247",
   "metadata": {},
   "outputs": [
    {
     "ename": "TypeError",
     "evalue": "'tuple' object does not support item assignment",
     "output_type": "error",
     "traceback": [
      "\u001b[0;31m---------------------------------------------------------------------------\u001b[0m",
      "\u001b[0;31mTypeError\u001b[0m                                 Traceback (most recent call last)",
      "Cell \u001b[0;32mIn[11], line 2\u001b[0m\n\u001b[1;32m      1\u001b[0m tup \u001b[38;5;241m=\u001b[39m (\u001b[38;5;124m'\u001b[39m\u001b[38;5;124mfoo\u001b[39m\u001b[38;5;124m'\u001b[39m, [\u001b[38;5;241m1\u001b[39m, \u001b[38;5;241m2\u001b[39m], \u001b[38;5;28;01mTrue\u001b[39;00m)\n\u001b[0;32m----> 2\u001b[0m \u001b[43mtup\u001b[49m\u001b[43m[\u001b[49m\u001b[38;5;241;43m2\u001b[39;49m\u001b[43m]\u001b[49m \u001b[38;5;241m=\u001b[39m \u001b[38;5;28;01mFalse\u001b[39;00m\n",
      "\u001b[0;31mTypeError\u001b[0m: 'tuple' object does not support item assignment"
     ]
    }
   ],
   "source": [
    "tup = ('foo', [1, 2], True)\n",
    "tup[2] = False"
   ]
  },
  {
   "cell_type": "code",
   "execution_count": 13,
   "id": "16af8570",
   "metadata": {},
   "outputs": [
    {
     "data": {
      "text/plain": [
       "('foo', [1, 2, 4, 4], True)"
      ]
     },
     "execution_count": 13,
     "metadata": {},
     "output_type": "execute_result"
    }
   ],
   "source": [
    "tup[1].append(4)\n",
    "tup"
   ]
  },
  {
   "cell_type": "code",
   "execution_count": 14,
   "id": "2b45b225",
   "metadata": {},
   "outputs": [
    {
     "data": {
      "text/plain": [
       "(4, None, 'foo', 5, 6, 'bar')"
      ]
     },
     "execution_count": 14,
     "metadata": {},
     "output_type": "execute_result"
    }
   ],
   "source": [
    "(4, None, 'foo') + (5, 6) + ('bar',)"
   ]
  },
  {
   "cell_type": "code",
   "execution_count": 15,
   "id": "74ef11db",
   "metadata": {},
   "outputs": [
    {
     "data": {
      "text/plain": [
       "('dom', 'emma', 'dom', 'emma')"
      ]
     },
     "execution_count": 15,
     "metadata": {},
     "output_type": "execute_result"
    }
   ],
   "source": [
    "('dom', 'emma')*2"
   ]
  },
  {
   "cell_type": "markdown",
   "id": "6a297c09",
   "metadata": {},
   "source": [
    "Unpacking tuples"
   ]
  },
  {
   "cell_type": "code",
   "execution_count": 17,
   "id": "9d5e9ac3",
   "metadata": {},
   "outputs": [
    {
     "data": {
      "text/plain": [
       "2"
      ]
     },
     "execution_count": 17,
     "metadata": {},
     "output_type": "execute_result"
    }
   ],
   "source": [
    "tup = 1,2,3,4\n",
    "a,b,c,d = tup\n",
    "b"
   ]
  },
  {
   "cell_type": "code",
   "execution_count": 18,
   "id": "b588e945",
   "metadata": {},
   "outputs": [
    {
     "data": {
      "text/plain": [
       "7"
      ]
     },
     "execution_count": 18,
     "metadata": {},
     "output_type": "execute_result"
    }
   ],
   "source": [
    "tup = 4, 5, (6, 7)\n",
    "a, b, (c, d) = tup\n",
    "d"
   ]
  },
  {
   "cell_type": "markdown",
   "id": "07fe25e0",
   "metadata": {},
   "source": [
    "Unpacking tuple 变量解包的一个常见用途是迭代元组或列表序列："
   ]
  },
  {
   "cell_type": "code",
   "execution_count": 20,
   "id": "fea2acc7",
   "metadata": {},
   "outputs": [
    {
     "name": "stdout",
     "output_type": "stream",
     "text": [
      "a=1,b=2,c=3\n",
      "a=4,b=5,c=6\n",
      "a=7,b=8,c=9\n"
     ]
    }
   ],
   "source": [
    "seq = [(1,2,3), (4,5,6), (7,8,9)]\n",
    "for a,b,c in seq:\n",
    "    print(f\"a={a},b={b},c={c}\")"
   ]
  },
  {
   "cell_type": "code",
   "execution_count": null,
   "id": "216e0f71",
   "metadata": {},
   "outputs": [
    {
     "name": "stdout",
     "output_type": "stream",
     "text": [
      "[4, 5, 6]\n"
     ]
    }
   ],
   "source": [
    "values = 1,2,3,4,5,6\n",
    "a,b,c,*_ = values  # *_表示忽略, *后可以跟任何变量名，*rest，*dom 等等\n",
    "print(_) # * 后的值会保存在变量中"
   ]
  },
  {
   "cell_type": "markdown",
   "id": "ba0ff2a9",
   "metadata": {},
   "source": [
    "tuple methods"
   ]
  },
  {
   "cell_type": "code",
   "execution_count": null,
   "id": "30dff0e0",
   "metadata": {},
   "outputs": [
    {
     "data": {
      "text/plain": [
       "4"
      ]
     },
     "execution_count": 27,
     "metadata": {},
     "output_type": "execute_result"
    }
   ],
   "source": [
    "a = (1,2,2,2,3,2,4)\n",
    "a.count(2) # how many 2 in a "
   ]
  },
  {
   "cell_type": "markdown",
   "id": "194bf8ff",
   "metadata": {},
   "source": [
    "## List\n",
    "variable length and their contents can be modified in place"
   ]
  },
  {
   "cell_type": "code",
   "execution_count": 31,
   "id": "c031bc2b",
   "metadata": {},
   "outputs": [
    {
     "data": {
      "text/plain": [
       "[2, 3, 7, None]"
      ]
     },
     "execution_count": 31,
     "metadata": {},
     "output_type": "execute_result"
    }
   ],
   "source": [
    "a_list = [2, 3, 7, None]\n",
    "a_list"
   ]
  },
  {
   "cell_type": "code",
   "execution_count": 32,
   "id": "af315d43",
   "metadata": {},
   "outputs": [
    {
     "data": {
      "text/plain": [
       "'bar'"
      ]
     },
     "execution_count": 32,
     "metadata": {},
     "output_type": "execute_result"
    }
   ],
   "source": [
    "tup = (\"foo\", \"bar\", \"baz\")\n",
    "b_list = list(tup)\n",
    "b_list[1]"
   ]
  },
  {
   "cell_type": "code",
   "execution_count": 33,
   "id": "92d2fcdc",
   "metadata": {},
   "outputs": [
    {
     "data": {
      "text/plain": [
       "range(0, 10)"
      ]
     },
     "execution_count": 33,
     "metadata": {},
     "output_type": "execute_result"
    }
   ],
   "source": [
    "gen = range(10)\n",
    "gen"
   ]
  },
  {
   "cell_type": "code",
   "execution_count": 34,
   "id": "08c06ef6",
   "metadata": {},
   "outputs": [
    {
     "data": {
      "text/plain": [
       "[0, 1, 2, 3, 4, 5, 6, 7, 8, 9]"
      ]
     },
     "execution_count": 34,
     "metadata": {},
     "output_type": "execute_result"
    }
   ],
   "source": [
    "list(gen)"
   ]
  },
  {
   "cell_type": "markdown",
   "id": "dfbc07a2",
   "metadata": {},
   "source": [
    "### Adding and removing elements"
   ]
  },
  {
   "cell_type": "code",
   "execution_count": null,
   "id": "b4c91d4e",
   "metadata": {},
   "outputs": [
    {
     "data": {
      "text/plain": [
       "['foo', 'bar', 'baz', 'shift']"
      ]
     },
     "execution_count": 35,
     "metadata": {},
     "output_type": "execute_result"
    }
   ],
   "source": [
    "b_list.append('shift') # 加到 list 末尾\n",
    "b_list"
   ]
  },
  {
   "cell_type": "code",
   "execution_count": null,
   "id": "a767b12a",
   "metadata": {},
   "outputs": [
    {
     "data": {
      "text/plain": [
       "['foo', 'emma', 'bar', 'baz', 'shift']"
      ]
     },
     "execution_count": 36,
     "metadata": {},
     "output_type": "execute_result"
    }
   ],
   "source": [
    "b_list.insert(1,\"emma\") # 插入到指定位置\n",
    "b_list"
   ]
  },
  {
   "cell_type": "code",
   "execution_count": null,
   "id": "766ae91c",
   "metadata": {},
   "outputs": [
    {
     "data": {
      "text/plain": [
       "'bar'"
      ]
     },
     "execution_count": 37,
     "metadata": {},
     "output_type": "execute_result"
    }
   ],
   "source": [
    "b_list.pop(2) \n",
    "# 删除第三个元素,并返回该元素。\n",
    "# remove()方法删除指定元素，pop()方法删除指定索引位置的元素。\n",
    "# 且 pop()方法返回被删除的元素，remove()方法返回None。"
   ]
  },
  {
   "cell_type": "code",
   "execution_count": 38,
   "id": "037e2e44",
   "metadata": {},
   "outputs": [
    {
     "data": {
      "text/plain": [
       "['foo', 'emma', 'baz', 'shift']"
      ]
     },
     "execution_count": 38,
     "metadata": {},
     "output_type": "execute_result"
    }
   ],
   "source": [
    "b_list"
   ]
  },
  {
   "cell_type": "code",
   "execution_count": 39,
   "id": "0212e481",
   "metadata": {},
   "outputs": [
    {
     "data": {
      "text/plain": [
       "['foo', 'baz', 'shift']"
      ]
     },
     "execution_count": 39,
     "metadata": {},
     "output_type": "execute_result"
    }
   ],
   "source": [
    "b_list.remove('emma')\n",
    "b_list"
   ]
  },
  {
   "cell_type": "code",
   "execution_count": null,
   "id": "8a2d2652",
   "metadata": {},
   "outputs": [
    {
     "data": {
      "text/plain": [
       "True"
      ]
     },
     "execution_count": 40,
     "metadata": {},
     "output_type": "execute_result"
    }
   ],
   "source": [
    "'foo' in b_list # chexk if 'foo' exists in list"
   ]
  },
  {
   "cell_type": "code",
   "execution_count": 41,
   "id": "fdf24bb4",
   "metadata": {},
   "outputs": [
    {
     "data": {
      "text/plain": [
       "True"
      ]
     },
     "execution_count": 41,
     "metadata": {},
     "output_type": "execute_result"
    }
   ],
   "source": [
    "'shit' not in b_list"
   ]
  },
  {
   "cell_type": "markdown",
   "id": "0eb84f3b",
   "metadata": {},
   "source": [
    "### Concatenating and combining lists 链接列表"
   ]
  },
  {
   "cell_type": "code",
   "execution_count": 42,
   "id": "79f2bbcc",
   "metadata": {},
   "outputs": [
    {
     "data": {
      "text/plain": [
       "[4, None, 'foo', 7, 8, (2, 3)]"
      ]
     },
     "execution_count": 42,
     "metadata": {},
     "output_type": "execute_result"
    }
   ],
   "source": [
    "[4, None, \"foo\"] + [7, 8, (2, 3)]"
   ]
  },
  {
   "cell_type": "code",
   "execution_count": 43,
   "id": "64f3b5e1",
   "metadata": {},
   "outputs": [
    {
     "ename": "TypeError",
     "evalue": "list.extend() takes exactly one argument (3 given)",
     "output_type": "error",
     "traceback": [
      "\u001b[0;31m---------------------------------------------------------------------------\u001b[0m",
      "\u001b[0;31mTypeError\u001b[0m                                 Traceback (most recent call last)",
      "Cell \u001b[0;32mIn[43], line 2\u001b[0m\n\u001b[1;32m      1\u001b[0m x \u001b[38;5;241m=\u001b[39m [\u001b[38;5;241m4\u001b[39m, \u001b[38;5;28;01mNone\u001b[39;00m, \u001b[38;5;124m\"\u001b[39m\u001b[38;5;124mfoo\u001b[39m\u001b[38;5;124m\"\u001b[39m]\n\u001b[0;32m----> 2\u001b[0m \u001b[43mx\u001b[49m\u001b[38;5;241;43m.\u001b[39;49m\u001b[43mextend\u001b[49m\u001b[43m(\u001b[49m\u001b[38;5;241;43m1\u001b[39;49m\u001b[43m,\u001b[49m\u001b[38;5;241;43m2\u001b[39;49m\u001b[43m,\u001b[49m\u001b[43m(\u001b[49m\u001b[38;5;241;43m3\u001b[39;49m\u001b[43m,\u001b[49m\u001b[38;5;241;43m4\u001b[39;49m\u001b[43m)\u001b[49m\u001b[43m)\u001b[49m\n\u001b[1;32m      3\u001b[0m \u001b[38;5;28mprint\u001b[39m(x)\n",
      "\u001b[0;31mTypeError\u001b[0m: list.extend() takes exactly one argument (3 given)"
     ]
    }
   ],
   "source": [
    "x = [4, None, \"foo\"]\n",
    "x.extend(1,2,(3,4))\n",
    "print(x)"
   ]
  },
  {
   "cell_type": "code",
   "execution_count": 44,
   "id": "e48c3d88",
   "metadata": {},
   "outputs": [
    {
     "data": {
      "text/plain": [
       "[4, None, 'foo', 1, 2, (3, 4)]"
      ]
     },
     "execution_count": 44,
     "metadata": {},
     "output_type": "execute_result"
    }
   ],
   "source": [
    "x = [4, None, \"foo\"]\n",
    "x.extend([1,2,(3,4)])\n",
    "x"
   ]
  },
  {
   "cell_type": "markdown",
   "id": "e90eb484",
   "metadata": {},
   "source": [
    "请注意，通过加法串联列表是一个相对昂贵的作，因为必须创建一个新列表并复制对象。使用 extend 将元素附加到现有列表，尤其是在构建大型列表时，通常更可取。"
   ]
  },
  {
   "cell_type": "code",
   "execution_count": null,
   "id": "7bbb3060",
   "metadata": {},
   "outputs": [],
   "source": [
    "everything = []\n",
    "for chunk in list_of_lists:\n",
    "    everything.extend(chunk)"
   ]
  },
  {
   "cell_type": "markdown",
   "id": "37ac0007",
   "metadata": {},
   "source": [
    "比串联替代方法更快："
   ]
  },
  {
   "cell_type": "code",
   "execution_count": null,
   "id": "d2ed2152",
   "metadata": {},
   "outputs": [],
   "source": [
    "everything = []\n",
    "for chunk in list_of_lists:\n",
    "    everything = everything + chunk"
   ]
  },
  {
   "cell_type": "markdown",
   "id": "0d92af51",
   "metadata": {},
   "source": [
    "### Sorting"
   ]
  },
  {
   "cell_type": "code",
   "execution_count": 46,
   "id": "8365610a",
   "metadata": {},
   "outputs": [
    {
     "data": {
      "text/plain": [
       "[1, 2, 3, 5, 7]"
      ]
     },
     "execution_count": 46,
     "metadata": {},
     "output_type": "execute_result"
    }
   ],
   "source": [
    "a = [7, 2, 5, 1, 3]\n",
    "a.sort()\n",
    "a"
   ]
  },
  {
   "cell_type": "code",
   "execution_count": 47,
   "id": "8f9d94b6",
   "metadata": {},
   "outputs": [
    {
     "data": {
      "text/plain": [
       "['He', 'saw', 'six', 'small', 'foxes']"
      ]
     },
     "execution_count": 47,
     "metadata": {},
     "output_type": "execute_result"
    }
   ],
   "source": [
    "b = [\"saw\", \"small\", \"He\", \"foxes\", \"six\"]\n",
    "b.sort(key=len)\n",
    "b"
   ]
  },
  {
   "cell_type": "markdown",
   "id": "8f4e7717",
   "metadata": {},
   "source": [
    "### Slicing"
   ]
  },
  {
   "cell_type": "markdown",
   "id": "59cccb8f",
   "metadata": {},
   "source": [
    "python 的 [start:stop] 语法都一样，包含起始索引，但不包含结束索引。"
   ]
  },
  {
   "cell_type": "code",
   "execution_count": 48,
   "id": "01ef11a8",
   "metadata": {},
   "outputs": [
    {
     "data": {
      "text/plain": [
       "[2, 3, 7, 5]"
      ]
     },
     "execution_count": 48,
     "metadata": {},
     "output_type": "execute_result"
    }
   ],
   "source": [
    "seq = [7, 2, 3, 7, 5, 6, 0, 1]\n",
    "seq[1:5]"
   ]
  },
  {
   "cell_type": "code",
   "execution_count": null,
   "id": "8a584a34",
   "metadata": {},
   "outputs": [
    {
     "data": {
      "text/plain": [
       "[7, 2, 10, 20, 5, 6, 0, 1]"
      ]
     },
     "execution_count": 49,
     "metadata": {},
     "output_type": "execute_result"
    }
   ],
   "source": [
    "seq[2:4] = [10, 20] # 替换索引为2和3的元素\n",
    "seq"
   ]
  },
  {
   "cell_type": "code",
   "execution_count": 50,
   "id": "775d6c48",
   "metadata": {},
   "outputs": [
    {
     "data": {
      "text/plain": [
       "[7, 2, 10, 20, 5]"
      ]
     },
     "execution_count": 50,
     "metadata": {},
     "output_type": "execute_result"
    }
   ],
   "source": [
    "seq[:5]"
   ]
  },
  {
   "cell_type": "code",
   "execution_count": 51,
   "id": "9f57312b",
   "metadata": {},
   "outputs": [
    {
     "data": {
      "text/plain": [
       "[20, 5, 6, 0, 1]"
      ]
     },
     "execution_count": 51,
     "metadata": {},
     "output_type": "execute_result"
    }
   ],
   "source": [
    "seq[3:]"
   ]
  },
  {
   "cell_type": "code",
   "execution_count": 52,
   "id": "bd0382c1",
   "metadata": {},
   "outputs": [
    {
     "data": {
      "text/plain": [
       "[5, 6, 0, 1]"
      ]
     },
     "execution_count": 52,
     "metadata": {},
     "output_type": "execute_result"
    }
   ],
   "source": [
    "seq[-4:]"
   ]
  },
  {
   "cell_type": "code",
   "execution_count": 53,
   "id": "e402ac53",
   "metadata": {},
   "outputs": [
    {
     "data": {
      "text/plain": [
       "[10, 20, 5, 6]"
      ]
     },
     "execution_count": 53,
     "metadata": {},
     "output_type": "execute_result"
    }
   ],
   "source": [
    "seq[-6:-2]"
   ]
  },
  {
   "attachments": {
    "image.png": {
     "image/png": "[encoded data removed]"
    }
   },
   "cell_type": "markdown",
   "id": "9e199aac",
   "metadata": {},
   "source": [
    "![image.png](attachment:image.png)\n",
    "\n",
    "也可以在第二个冒号之后使用一个 step 来获取元素："
   ]
  },
  {
   "cell_type": "code",
   "execution_count": 54,
   "id": "05a597dd",
   "metadata": {},
   "outputs": [
    {
     "data": {
      "text/plain": [
       "[1, 3, 5, 7, 9]"
      ]
     },
     "execution_count": 54,
     "metadata": {},
     "output_type": "execute_result"
    }
   ],
   "source": [
    "seq1 = [1,2,3,4,5,6,7,8,9,10]\n",
    "seq1[::2]"
   ]
  },
  {
   "cell_type": "code",
   "execution_count": 55,
   "id": "a75c8ae2",
   "metadata": {},
   "outputs": [
    {
     "data": {
      "text/plain": [
       "[10, 9, 8, 7, 6, 5, 4, 3, 2, 1]"
      ]
     },
     "execution_count": 55,
     "metadata": {},
     "output_type": "execute_result"
    }
   ],
   "source": [
    "seq1[::-1]"
   ]
  },
  {
   "cell_type": "markdown",
   "id": "cde350d4",
   "metadata": {},
   "source": [
    "## Dictionary\n",
    "dictionary stores a collection of key-value pairs"
   ]
  },
  {
   "cell_type": "code",
   "execution_count": 79,
   "id": "e66fd969",
   "metadata": {},
   "outputs": [
    {
     "data": {
      "text/plain": [
       "{'a': 'dom', 'b': [1, 3, 1, 4], 'c': 'emma'}"
      ]
     },
     "execution_count": 79,
     "metadata": {},
     "output_type": "execute_result"
    }
   ],
   "source": [
    "empty_dict = {}\n",
    "d1 = {\"a\": \"dom\", \"b\": [1,3,1,4], \"c\": 'emma'}\n",
    "d1"
   ]
  },
  {
   "cell_type": "code",
   "execution_count": 80,
   "id": "938491ad",
   "metadata": {},
   "outputs": [
    {
     "data": {
      "text/plain": [
       "{'a': 'dom', 'b': [1, 3, 1, 4], 'c': 'emma', 'd': 'forever'}"
      ]
     },
     "execution_count": 80,
     "metadata": {},
     "output_type": "execute_result"
    }
   ],
   "source": [
    "# 在末尾插入键值对\n",
    "d1['d'] = 'forever'\n",
    "d1"
   ]
  },
  {
   "cell_type": "code",
   "execution_count": null,
   "id": "c202cff9",
   "metadata": {},
   "outputs": [
    {
     "data": {
      "text/plain": [
       "{'a': 'dom', 'b': [1, 3, 1, 4], 'c': 'emma'}"
      ]
     },
     "execution_count": 81,
     "metadata": {},
     "output_type": "execute_result"
    }
   ],
   "source": [
    "del d1['d'] # 删除字典中的键d\n",
    "d1"
   ]
  },
  {
   "cell_type": "code",
   "execution_count": 82,
   "id": "b840c546",
   "metadata": {},
   "outputs": [
    {
     "data": {
      "text/plain": [
       "[1, 3, 1, 4]"
      ]
     },
     "execution_count": 82,
     "metadata": {},
     "output_type": "execute_result"
    }
   ],
   "source": [
    "ret = d1.pop('b')\n",
    "ret"
   ]
  },
  {
   "cell_type": "code",
   "execution_count": 83,
   "id": "4b64c448",
   "metadata": {},
   "outputs": [
    {
     "data": {
      "text/plain": [
       "{'a': 'dom', 'c': 'emma'}"
      ]
     },
     "execution_count": 83,
     "metadata": {},
     "output_type": "execute_result"
    }
   ],
   "source": [
    "d1"
   ]
  },
  {
   "cell_type": "code",
   "execution_count": 84,
   "id": "4e5df466",
   "metadata": {},
   "outputs": [
    {
     "data": {
      "text/plain": [
       "['a', 'c']"
      ]
     },
     "execution_count": 84,
     "metadata": {},
     "output_type": "execute_result"
    }
   ],
   "source": [
    "list(d1.keys())"
   ]
  },
  {
   "cell_type": "code",
   "execution_count": 85,
   "id": "9572710c",
   "metadata": {},
   "outputs": [
    {
     "data": {
      "text/plain": [
       "[('a', 'dom'), ('c', 'emma')]"
      ]
     },
     "execution_count": 85,
     "metadata": {},
     "output_type": "execute_result"
    }
   ],
   "source": [
    "list(d1.items())"
   ]
  },
  {
   "cell_type": "code",
   "execution_count": 87,
   "id": "d16f2ac4",
   "metadata": {},
   "outputs": [
    {
     "data": {
      "text/plain": [
       "{'a': 'dom', 'c': 'emma', 'd': [1, 3, 1, 4], 'e': 'forever'}"
      ]
     },
     "execution_count": 87,
     "metadata": {},
     "output_type": "execute_result"
    }
   ],
   "source": [
    "d1.update({'d': [1,3,1,4], 'e': 'forever'})\n",
    "d1"
   ]
  },
  {
   "cell_type": "markdown",
   "id": "2e607539",
   "metadata": {},
   "source": [
    "### Creating dictionaries from sequences"
   ]
  },
  {
   "cell_type": "markdown",
   "id": "7eef5e4d",
   "metadata": {},
   "source": [
    "快速创建字典"
   ]
  },
  {
   "cell_type": "code",
   "execution_count": 88,
   "id": "06b7f450",
   "metadata": {},
   "outputs": [
    {
     "data": {
      "text/plain": [
       "<zip at 0x11180ca40>"
      ]
     },
     "execution_count": 88,
     "metadata": {},
     "output_type": "execute_result"
    }
   ],
   "source": [
    "tuples = zip(range(5),reversed(range(5)))\n",
    "\n",
    "tuples"
   ]
  },
  {
   "cell_type": "code",
   "execution_count": 89,
   "id": "6732eae4",
   "metadata": {},
   "outputs": [
    {
     "data": {
      "text/plain": [
       "{0: 4, 1: 3, 2: 2, 3: 1, 4: 0}"
      ]
     },
     "execution_count": 89,
     "metadata": {},
     "output_type": "execute_result"
    }
   ],
   "source": [
    "mapping = dict(tuples)\n",
    "mapping"
   ]
  },
  {
   "cell_type": "markdown",
   "id": "a9b5025e",
   "metadata": {},
   "source": [
    "快速返回默认值"
   ]
  },
  {
   "cell_type": "code",
   "execution_count": 96,
   "id": "1fcfebd3",
   "metadata": {},
   "outputs": [
    {
     "data": {
      "text/plain": [
       "1"
      ]
     },
     "execution_count": 96,
     "metadata": {},
     "output_type": "execute_result"
    }
   ],
   "source": [
    "some_dict = {\n",
    "    'a': 1,\n",
    "    'b': 2,\n",
    "    'c': 3,\n",
    "    'd': 4,\n",
    "    'e': 5\n",
    "}\n",
    "zzz = some_dict.get('a', 'there is no a key in dict')\n",
    "zzz"
   ]
  },
  {
   "cell_type": "code",
   "execution_count": 97,
   "id": "bb1ed440",
   "metadata": {},
   "outputs": [
    {
     "data": {
      "text/plain": [
       "'default'"
      ]
     },
     "execution_count": 97,
     "metadata": {},
     "output_type": "execute_result"
    }
   ],
   "source": [
    "xxx = some_dict.get('key', 'default')\n",
    "xxx"
   ]
  },
  {
   "cell_type": "code",
   "execution_count": null,
   "id": "906e360e",
   "metadata": {},
   "outputs": [
    {
     "data": {
      "text/plain": [
       "{'a': 1, 'b': 2, 'c': 3, 'd': 4, 'e': 5}"
      ]
     },
     "execution_count": 101,
     "metadata": {},
     "output_type": "execute_result"
    }
   ],
   "source": [
    "some_dict # .get() 不会返回默认值，但不修改 dict"
   ]
  },
  {
   "cell_type": "code",
   "execution_count": null,
   "id": "69c85c59",
   "metadata": {},
   "outputs": [
    {
     "data": {
      "text/plain": [
       "{'a': ['apple', 'atom'], 'b': ['bat', 'bar', 'book']}"
      ]
     },
     "execution_count": 91,
     "metadata": {},
     "output_type": "execute_result"
    }
   ],
   "source": [
    "words = [\"apple\", \"bat\", \"bar\", \"atom\", \"book\"]\n",
    "\n",
    "by_letter = {}\n",
    "\n",
    "for word in words:\n",
    "    letter = word[0]\n",
    "    if letter not in by_letter:\n",
    "        by_letter[letter] = [word] # 创建一个列表\n",
    "    else:\n",
    "        by_letter[letter].append(word)\n",
    "\n",
    "by_letter"
   ]
  },
  {
   "cell_type": "code",
   "execution_count": 92,
   "id": "65c8a470",
   "metadata": {},
   "outputs": [
    {
     "data": {
      "text/plain": [
       "{'a': ['apple', 'atom'], 'b': ['bat', 'bar', 'book']}"
      ]
     },
     "execution_count": 92,
     "metadata": {},
     "output_type": "execute_result"
    }
   ],
   "source": [
    "by_letter = {}\n",
    "\n",
    "for word in words:\n",
    "    letter = word[0]\n",
    "    by_letter.setdefault(letter, []).append(word)\n",
    "\n",
    "by_letter"
   ]
  },
  {
   "cell_type": "code",
   "execution_count": 100,
   "id": "e269c7ba",
   "metadata": {},
   "outputs": [
    {
     "data": {
      "text/plain": [
       "defaultdict(list,\n",
       "            {'a': ['apple'],\n",
       "             'b': ['banana'],\n",
       "             'c': ['cherry'],\n",
       "             'd': ['date'],\n",
       "             'e': ['elderberry'],\n",
       "             'f': ['fig'],\n",
       "             'g': ['grape'],\n",
       "             'h': ['honeydew'],\n",
       "             'k': ['kiwi'],\n",
       "             'l': ['lemon']})"
      ]
     },
     "execution_count": 100,
     "metadata": {},
     "output_type": "execute_result"
    }
   ],
   "source": [
    "from collections import defaultdict\n",
    "\n",
    "words2 = ['apple', 'banana', 'cherry', 'date', 'elderberry', 'fig', 'grape', 'honeydew', 'kiwi', 'lemon']\n",
    "\n",
    "by_letter = defaultdict(list)\n",
    "\n",
    "for word in words2:\n",
    "    by_letter[word[0]].append(word)\n",
    "\n",
    "by_letter"
   ]
  },
  {
   "cell_type": "markdown",
   "id": "1d352aac",
   "metadata": {},
   "source": [
    "### Valid dictionary key types\n",
    "虽然字典的值可以是任何 Python 对象，但键通常必须是不可变对象，例如标量类型（int、float、string）或元组（元组中的所有对象也需要是不可变的）。这里的技术术语是hashability 。您可以使用哈希函数检查对象是否可哈希（可用作字典中的键）："
   ]
  },
  {
   "cell_type": "code",
   "execution_count": 102,
   "id": "bf662f9c",
   "metadata": {},
   "outputs": [
    {
     "data": {
      "text/plain": [
       "4703696380698050637"
      ]
     },
     "execution_count": 102,
     "metadata": {},
     "output_type": "execute_result"
    }
   ],
   "source": [
    "hash('dom')"
   ]
  },
  {
   "cell_type": "code",
   "execution_count": null,
   "id": "5193819f",
   "metadata": {},
   "outputs": [
    {
     "ename": "TypeError",
     "evalue": "unhashable type: 'list'",
     "output_type": "error",
     "traceback": [
      "\u001b[0;31m---------------------------------------------------------------------------\u001b[0m",
      "\u001b[0;31mTypeError\u001b[0m                                 Traceback (most recent call last)",
      "Cell \u001b[0;32mIn[105], line 1\u001b[0m\n\u001b[0;32m----> 1\u001b[0m \u001b[38;5;28;43mhash\u001b[39;49m\u001b[43m(\u001b[49m\u001b[43m(\u001b[49m\u001b[38;5;241;43m1\u001b[39;49m\u001b[43m,\u001b[49m\u001b[38;5;241;43m2\u001b[39;49m\u001b[43m,\u001b[49m\u001b[43m[\u001b[49m\u001b[38;5;241;43m3\u001b[39;49m\u001b[43m,\u001b[49m\u001b[38;5;241;43m4\u001b[39;49m\u001b[43m]\u001b[49m\u001b[43m)\u001b[49m\u001b[43m)\u001b[49m\n",
      "\u001b[0;31mTypeError\u001b[0m: unhashable type: 'list'"
     ]
    }
   ],
   "source": [
    "hash((1,2,[3,4])) # fails because lists are mutable"
   ]
  },
  {
   "cell_type": "code",
   "execution_count": 106,
   "id": "e8d8b185",
   "metadata": {},
   "outputs": [
    {
     "data": {
      "text/plain": [
       "3794340727080330424"
      ]
     },
     "execution_count": 106,
     "metadata": {},
     "output_type": "execute_result"
    }
   ],
   "source": [
    "hash((1,2,(3,4)))"
   ]
  },
  {
   "cell_type": "markdown",
   "id": "eedb0b83",
   "metadata": {},
   "source": [
    "## Set\n",
    "集合是唯一元素的无序集合"
   ]
  },
  {
   "cell_type": "code",
   "execution_count": 109,
   "id": "da2fa937",
   "metadata": {},
   "outputs": [
    {
     "data": {
      "text/plain": [
       "{1, 2, 3}"
      ]
     },
     "execution_count": 109,
     "metadata": {},
     "output_type": "execute_result"
    }
   ],
   "source": [
    "set([1,1,2,2,3,3])"
   ]
  },
  {
   "cell_type": "code",
   "execution_count": null,
   "id": "d7d18ee2",
   "metadata": {},
   "outputs": [
    {
     "data": {
      "text/plain": [
       "{1, 2}"
      ]
     },
     "execution_count": 110,
     "metadata": {},
     "output_type": "execute_result"
    }
   ],
   "source": [
    "set((1,2,2,2)) \n",
    "# 使用 tuple 或者list作为 set 函数的参数，是因为 set 函数只接受一个参数"
   ]
  },
  {
   "cell_type": "markdown",
   "id": "0b825d2c",
   "metadata": {},
   "source": [
    "集合支持数学集合运算 ，如并集、交集、差分和对称差分"
   ]
  },
  {
   "cell_type": "code",
   "execution_count": 111,
   "id": "34a32263",
   "metadata": {},
   "outputs": [
    {
     "data": {
      "text/plain": [
       "{1, 2, 3, 4, 5, 6, 7, 8, 9, 10, 11, 12, 13, 14, 15}"
      ]
     },
     "execution_count": 111,
     "metadata": {},
     "output_type": "execute_result"
    }
   ],
   "source": [
    " a = {1,2,3,4,5,6,7,8,9,10}\n",
    " b = {6,7,8,9,10,11,12,13,14,15}\n",
    " \n",
    " a.union(b)"
   ]
  },
  {
   "cell_type": "code",
   "execution_count": 112,
   "id": "0cc6b5dc",
   "metadata": {},
   "outputs": [
    {
     "data": {
      "text/plain": [
       "{6, 7, 8, 9, 10}"
      ]
     },
     "execution_count": 112,
     "metadata": {},
     "output_type": "execute_result"
    }
   ],
   "source": [
    "a.intersection(b)"
   ]
  },
  {
   "cell_type": "code",
   "execution_count": 113,
   "id": "1c0a9477",
   "metadata": {},
   "outputs": [
    {
     "data": {
      "text/plain": [
       "True"
      ]
     },
     "execution_count": 113,
     "metadata": {},
     "output_type": "execute_result"
    }
   ],
   "source": [
    "a_set = {1, 2, 3, 4, 5}\n",
    "{1,2,3}.issubset(a_set)"
   ]
  },
  {
   "cell_type": "code",
   "execution_count": 115,
   "id": "fa059c53",
   "metadata": {},
   "outputs": [
    {
     "data": {
      "text/plain": [
       "True"
      ]
     },
     "execution_count": 115,
     "metadata": {},
     "output_type": "execute_result"
    }
   ],
   "source": [
    "a_set.issuperset({1, 2, 3})"
   ]
  },
  {
   "cell_type": "code",
   "execution_count": 116,
   "id": "4f433f1d",
   "metadata": {},
   "outputs": [
    {
     "data": {
      "text/plain": [
       "True"
      ]
     },
     "execution_count": 116,
     "metadata": {},
     "output_type": "execute_result"
    }
   ],
   "source": [
    "{1,2,3} == {3,2,1}"
   ]
  },
  {
   "cell_type": "markdown",
   "id": "45822a9b",
   "metadata": {},
   "source": [
    "## Built-In Sequence Functions"
   ]
  },
  {
   "cell_type": "markdown",
   "id": "aa8fc03f",
   "metadata": {},
   "source": [
    "### enumerate\n",
    "enumerate() 为可迭代对象的每个元素自动添加索引，让你同时获得：\n",
    "\n",
    "索引位置 (index)\n",
    "元素值 (value)"
   ]
  },
  {
   "cell_type": "code",
   "execution_count": 1,
   "id": "81d5ba8e",
   "metadata": {},
   "outputs": [
    {
     "name": "stdout",
     "output_type": "stream",
     "text": [
      "索引=>0: apple\n",
      "索引=>1: banana\n",
      "索引=>2: orange\n"
     ]
    }
   ],
   "source": [
    "# enumerate(iterable, start=0)\n",
    "\n",
    "fruits = ['apple', 'banana', 'orange']\n",
    "for index, value in enumerate(fruits):\n",
    "    print(f\"索引=>{index}: {value}\")"
   ]
  },
  {
   "cell_type": "markdown",
   "id": "3d1ebdd5",
   "metadata": {},
   "source": [
    "### sorted 排序"
   ]
  },
  {
   "cell_type": "code",
   "execution_count": 2,
   "id": "4ec5e439",
   "metadata": {},
   "outputs": [
    {
     "data": {
      "text/plain": [
       "[1, 2, 3, 8, 56, 100]"
      ]
     },
     "execution_count": 2,
     "metadata": {},
     "output_type": "execute_result"
    }
   ],
   "source": [
    "sorted((1,3,2,8,100,56))\n"
   ]
  },
  {
   "cell_type": "code",
   "execution_count": 3,
   "id": "687d2dd9",
   "metadata": {},
   "outputs": [
    {
     "data": {
      "text/plain": [
       "[99, 56, 45, 9, 3, 2, 1]"
      ]
     },
     "execution_count": 3,
     "metadata": {},
     "output_type": "execute_result"
    }
   ],
   "source": [
    "sorted([1,3,2,9,99,56,45], reverse=True)"
   ]
  },
  {
   "cell_type": "code",
   "execution_count": 4,
   "id": "7451cea3",
   "metadata": {},
   "outputs": [
    {
     "data": {
      "text/plain": [
       "[' ',\n",
       " ' ',\n",
       " ' ',\n",
       " 'e',\n",
       " 'e',\n",
       " 'e',\n",
       " 'e',\n",
       " 'h',\n",
       " 'i',\n",
       " 'l',\n",
       " 'm',\n",
       " 'n',\n",
       " 'n',\n",
       " 'o',\n",
       " 'o',\n",
       " 'o',\n",
       " 'o',\n",
       " 'r',\n",
       " 's',\n",
       " 's',\n",
       " 'y',\n",
       " 'z',\n",
       " 'z',\n",
       " 'z']"
      ]
     },
     "execution_count": 4,
     "metadata": {},
     "output_type": "execute_result"
    }
   ],
   "source": [
    "sorted(\"mihoyo zenless zero zone\")"
   ]
  },
  {
   "cell_type": "markdown",
   "id": "bc5b5ef5",
   "metadata": {},
   "source": [
    "### zip\n",
    "将多个 list, tuple, string, dict 配对在一个 tuple 中"
   ]
  },
  {
   "cell_type": "code",
   "execution_count": null,
   "id": "5e8d7b76",
   "metadata": {},
   "outputs": [
    {
     "data": {
      "text/plain": [
       "[('domi', 'genshin'), ('emma', 'love and deepsky'), ('alice', 'zzz')]"
      ]
     },
     "execution_count": 6,
     "metadata": {},
     "output_type": "execute_result"
    }
   ],
   "source": [
    "seq1 = ('domi', 'emma', 'alice') # 可以是 tuple\n",
    "seq2 = ['genshin', 'love and deepsky', 'zzz'] # 也可以是 list\n",
    "list(zip(seq1, seq2))"
   ]
  },
  {
   "cell_type": "code",
   "execution_count": null,
   "id": "536f4523",
   "metadata": {},
   "outputs": [
    {
     "data": {
      "text/plain": [
       "[('domi', 'genshin', 'mihoyo'), ('emma', 'love and deepsky', 'netease')]"
      ]
     },
     "execution_count": 7,
     "metadata": {},
     "output_type": "execute_result"
    }
   ],
   "source": [
    "seq3 = {'mihoyo': 2020, 'netease': 2022} \n",
    "# 当zip函数处理字典时，默认只迭代字典的键(keys)，这是字典的默认迭代行为。\n",
    "list(zip(seq1, seq2, seq3))"
   ]
  },
  {
   "cell_type": "markdown",
   "id": "2484308f",
   "metadata": {},
   "source": [
    "配对字典的键值对"
   ]
  },
  {
   "cell_type": "code",
   "execution_count": null,
   "id": "e60ddddd",
   "metadata": {},
   "outputs": [],
   "source": [
    "配对键: zip(list, dict) 或 zip(list, dict.keys())\n",
    "配对值: zip(list, dict.values())\n",
    "配对键值对: zip(list, dict.items())"
   ]
  },
  {
   "cell_type": "code",
   "execution_count": 9,
   "id": "7f56d814",
   "metadata": {},
   "outputs": [
    {
     "data": {
      "text/plain": [
       "[('genshin', ('mihoyo', 2020)), ('love and deepsky', ('netease', 2022))]"
      ]
     },
     "execution_count": 9,
     "metadata": {},
     "output_type": "execute_result"
    }
   ],
   "source": [
    "info = list(zip(seq2, seq3.items()))\n",
    "info"
   ]
  },
  {
   "cell_type": "code",
   "execution_count": 10,
   "id": "82bc4dbd",
   "metadata": {},
   "outputs": [
    {
     "data": {
      "text/plain": [
       "{'domi': ('genshin', ('mihoyo', 2020)),\n",
       " 'emma': ('love and deepsky', ('netease', 2022))}"
      ]
     },
     "execution_count": 10,
     "metadata": {},
     "output_type": "execute_result"
    }
   ],
   "source": [
    "dict(zip(seq1, info))"
   ]
  },
  {
   "cell_type": "markdown",
   "id": "978bbde0",
   "metadata": {},
   "source": [
    "zip + enumerate"
   ]
  },
  {
   "cell_type": "code",
   "execution_count": 12,
   "id": "0be5cafe",
   "metadata": {},
   "outputs": [
    {
     "name": "stdout",
     "output_type": "stream",
     "text": [
      "1: genshin is from mihoyo at 2020\n",
      "2: love and deepsky is from netease at 2022\n"
     ]
    }
   ],
   "source": [
    "for index, (a,(b,c)) in enumerate(info):\n",
    "    print(f'{index+1}: {a} is from {b} at {c}')\n"
   ]
  },
  {
   "cell_type": "markdown",
   "id": "6e3680b7",
   "metadata": {},
   "source": [
    "### reversed\n",
    "与 sorted() 类似，reversed() 函数返回一个迭代器对象，该对象返回序列中的元素，但是顺序是相反的。"
   ]
  },
  {
   "cell_type": "code",
   "execution_count": 13,
   "id": "97daf5e9",
   "metadata": {},
   "outputs": [
    {
     "data": {
      "text/plain": [
       "[9, 8, 7, 6, 5, 4, 3, 2, 1, 0]"
      ]
     },
     "execution_count": 13,
     "metadata": {},
     "output_type": "execute_result"
    }
   ],
   "source": [
    "list(reversed(range(10)))"
   ]
  },
  {
   "cell_type": "markdown",
   "id": "877d830d",
   "metadata": {},
   "source": [
    "## List, Set, and Dict Comprehensions\n",
    "通过过滤集合的元素，将传递过滤器的元素转换为一个简洁的表达式来简洁地形成新列表。"
   ]
  },
  {
   "cell_type": "code",
   "execution_count": null,
   "id": "28689407",
   "metadata": {},
   "outputs": [],
   "source": [
    "[expr（要干嘛） for value in collection if condition（过滤器）]\n",
    "\n",
    "等效于：\n",
    "\n",
    "result = []\n",
    "for value in collection:\n",
    "    if condition:\n",
    "        result.append(expr)"
   ]
  },
  {
   "cell_type": "code",
   "execution_count": null,
   "id": "0dbde857",
   "metadata": {},
   "outputs": [
    {
     "data": {
      "text/plain": [
       "['BAT', 'CAR', 'DOVE', 'PYTHON']"
      ]
     },
     "execution_count": 14,
     "metadata": {},
     "output_type": "execute_result"
    }
   ],
   "source": [
    "# list comprehension\n",
    "strings = [\"a\", \"as\", \"bat\", \"car\", \"dove\", \"python\"]\n",
    "\n",
    "[word.upper() for word in strings if len(word) > 2]"
   ]
  },
  {
   "cell_type": "code",
   "execution_count": 17,
   "id": "dea1365a",
   "metadata": {},
   "outputs": [
    {
     "data": {
      "text/plain": [
       "{1, 2, 3, 4, 6}"
      ]
     },
     "execution_count": 17,
     "metadata": {},
     "output_type": "execute_result"
    }
   ],
   "source": [
    "# set comprehension\n",
    "unique_len = {len(w) for w in strings}\n",
    "unique_len"
   ]
  },
  {
   "cell_type": "code",
   "execution_count": 20,
   "id": "912d47a1",
   "metadata": {},
   "outputs": [
    {
     "data": {
      "text/plain": [
       "{1: 'a', 2: 'as', 3: 'bat', 4: 'car', 5: 'dove', 6: 'python'}"
      ]
     },
     "execution_count": 20,
     "metadata": {},
     "output_type": "execute_result"
    }
   ],
   "source": [
    "# dict compression\n",
    "index_words = {i+1: word for i, word in enumerate(strings)}\n",
    "index_words"
   ]
  },
  {
   "cell_type": "markdown",
   "id": "4b13598c",
   "metadata": {},
   "source": [
    "Nested list comprehensions"
   ]
  },
  {
   "cell_type": "code",
   "execution_count": null,
   "id": "6755a291",
   "metadata": {},
   "outputs": [
    {
     "data": {
      "text/plain": [
       "['Maria', 'Natalia']"
      ]
     },
     "execution_count": 30,
     "metadata": {},
     "output_type": "execute_result"
    }
   ],
   "source": [
    "all_data = [[\"John\", \"Emily\", \"Michael\", \"Mary\", \"Steven\"], \n",
    "            [\"Maria\", \"Juan\", \"Javier\", \"Natalia\", \"Pilar\"]]\n",
    "[classmate for groups in all_data \n",
    "            for classmate in groups \n",
    "            if classmate.count(\"a\") >= 2]"
   ]
  },
  {
   "cell_type": "code",
   "execution_count": 31,
   "id": "af3bd6d1",
   "metadata": {},
   "outputs": [
    {
     "data": {
      "text/plain": [
       "[6, 7, 8, 9]"
      ]
     },
     "execution_count": 31,
     "metadata": {},
     "output_type": "execute_result"
    }
   ],
   "source": [
    "some_tuples = [(1, 2, 3), (4, 5, 6), (7, 8, 9)]\n",
    "filter_5 = [num for t in some_tuples for num in t if num > 5]\n",
    "filter_5"
   ]
  },
  {
   "cell_type": "markdown",
   "id": "fc3583f8",
   "metadata": {},
   "source": [
    "您可以有任意多个级别的嵌套，但如果您有两个或三个以上的嵌套级别，您可能应该开始质疑从代码可读性的角度来看这是否有意义。\n",
    "\n",
    "接下来生成列表列表，而不是所有内部元素的列表。"
   ]
  },
  {
   "cell_type": "code",
   "execution_count": null,
   "id": "35cc6a79",
   "metadata": {},
   "outputs": [
    {
     "data": {
      "text/plain": [
       "[[1, 2, 3], [4, 5, 6], [7, 8, 9]]"
      ]
     },
     "execution_count": 32,
     "metadata": {},
     "output_type": "execute_result"
    }
   ],
   "source": [
    "[[num for num in t] \n",
    " for t in some_tuples]"
   ]
  },
  {
   "cell_type": "markdown",
   "id": "cabd5ee3",
   "metadata": {},
   "source": [
    "# 3.2 Functions"
   ]
  },
  {
   "cell_type": "code",
   "execution_count": 111,
   "id": "94aa9d1c",
   "metadata": {},
   "outputs": [
    {
     "data": {
      "text/plain": [
       "3"
      ]
     },
     "execution_count": 111,
     "metadata": {},
     "output_type": "execute_result"
    }
   ],
   "source": [
    "def function1(x,y):\n",
    "    return x+y\n",
    "function1(1,2)"
   ]
  },
  {
   "cell_type": "code",
   "execution_count": 112,
   "id": "bc94b1ae",
   "metadata": {},
   "outputs": [
    {
     "name": "stdout",
     "output_type": "stream",
     "text": [
      "hi man\n",
      "None\n"
     ]
    }
   ],
   "source": [
    "def function_with_noreturn(x):\n",
    "    print(x)\n",
    "\n",
    "result = function_with_noreturn('hi man') # hi man\n",
    "\n",
    "print(result) # None (no return)"
   ]
  },
  {
   "cell_type": "markdown",
   "id": "3d49b065",
   "metadata": {},
   "source": [
    "每个函数都可以有位置参数和关键字参数。关键字参数最常用于指定默认值或可选参数。"
   ]
  },
  {
   "cell_type": "code",
   "execution_count": 113,
   "id": "b658f62b",
   "metadata": {},
   "outputs": [
    {
     "name": "stdout",
     "output_type": "stream",
     "text": [
      "9\n",
      "-1.5\n"
     ]
    }
   ],
   "source": [
    "def function2(x, y, z = 3):\n",
    "    if z >= 2:\n",
    "        return z * (x + y)\n",
    "    else:\n",
    "        return z * (x - y)\n",
    "\n",
    "print(function2(1, 2))\n",
    "print(function2(1, 2, 1.5))"
   ]
  },
  {
   "cell_type": "code",
   "execution_count": 114,
   "id": "f130df09",
   "metadata": {},
   "outputs": [
    {
     "name": "stdout",
     "output_type": "stream",
     "text": [
      "a=1, b=2, c=3, d=40, e=50\n",
      "a=1, b=2, c=3, d=40, e=50\n"
     ]
    }
   ],
   "source": [
    "def mixed_params(a, b, c, d=10, e=20):\n",
    "    return f\"a={a}, b={b}, c={c}, d={d}, e={e}\"\n",
    "\n",
    "# ✅ 正确：位置参数在前，关键字参数在后\n",
    "result1 = mixed_params(1, 2, 3, d=40, e=50)\n",
    "print(result1)\n",
    "result2 = mixed_params(1, 2, 3, e=50, d=40)\n",
    "print(result2)# 关键字参数顺序可以颠倒\n",
    "\n",
    "# ❌ 错误：关键字参数后不能再有位置参数\n",
    "# result3 = mixed_params(1, 2, d=40, 3)  # SyntaxError"
   ]
  },
  {
   "cell_type": "markdown",
   "id": "e56015cc",
   "metadata": {},
   "source": [
    "## Namespaces, Scope, and Local Functions\n",
    "函数可以访问函数内部创建的变量以及函数外部在更高（甚至全局 ）范围内创建的变量"
   ]
  },
  {
   "cell_type": "code",
   "execution_count": 115,
   "id": "3973d685",
   "metadata": {},
   "outputs": [
    {
     "ename": "NameError",
     "evalue": "name 'bb' is not defined",
     "output_type": "error",
     "traceback": [
      "\u001b[0;31m---------------------------------------------------------------------------\u001b[0m",
      "\u001b[0;31mNameError\u001b[0m                                 Traceback (most recent call last)",
      "Cell \u001b[0;32mIn[115], line 6\u001b[0m\n\u001b[1;32m      4\u001b[0m         bb\u001b[38;5;241m.\u001b[39mappend(i)\n\u001b[1;32m      5\u001b[0m func()\n\u001b[0;32m----> 6\u001b[0m \u001b[43mbb\u001b[49m \u001b[38;5;66;03m# bb is destroyed when the function exits.\u001b[39;00m\n",
      "\u001b[0;31mNameError\u001b[0m: name 'bb' is not defined"
     ]
    }
   ],
   "source": [
    "def func():\n",
    "    bb = []\n",
    "    for i in range(5):\n",
    "        bb.append(i)\n",
    "func()\n",
    "bb # bb is destroyed when the function exits."
   ]
  },
  {
   "cell_type": "code",
   "execution_count": null,
   "id": "6a61a275",
   "metadata": {},
   "outputs": [
    {
     "data": {
      "text/plain": [
       "[0, 1, 2, 3, 4, 0, 1, 2, 3, 4, 0, 1, 2, 3, 4]"
      ]
     },
     "execution_count": 60,
     "metadata": {},
     "output_type": "execute_result"
    }
   ],
   "source": [
    "aa = [] # 在函数外定义一个空列表\n",
    "def func():\n",
    "    for i in range(5):\n",
    "        aa.append(i)\n",
    "\n",
    "func()\n",
    "aa"
   ]
  },
  {
   "cell_type": "code",
   "execution_count": null,
   "id": "a5e56faf",
   "metadata": {},
   "outputs": [
    {
     "data": {
      "text/plain": [
       "[1, 2]"
      ]
     },
     "execution_count": 63,
     "metadata": {},
     "output_type": "execute_result"
    }
   ],
   "source": [
    "cc = None\n",
    "def func3():\n",
    "    global cc # 使用 global 在函数作用域之外赋值变量\n",
    "    cc = [1,2]\n",
    "func3()\n",
    "cc\n"
   ]
  },
  {
   "cell_type": "markdown",
   "id": "fd750979",
   "metadata": {},
   "source": [
    "## Returning Multiple Values"
   ]
  },
  {
   "cell_type": "code",
   "execution_count": null,
   "id": "be0dcb42",
   "metadata": {},
   "outputs": [],
   "source": [
    "def f():\n",
    "    a = 1\n",
    "    b = 2\n",
    "    c = 3\n",
    "    return a, b, c\n",
    "# e, f, g = f()\n",
    "# print(e, f, g)\n",
    "# print(f)"
   ]
  },
  {
   "cell_type": "code",
   "execution_count": null,
   "id": "9d4552a5",
   "metadata": {},
   "outputs": [
    {
     "data": {
      "text/plain": [
       "(1, 2, 3)"
      ]
     },
     "execution_count": 98,
     "metadata": {},
     "output_type": "execute_result"
    }
   ],
   "source": [
    "value22 = f()\n",
    "value22 # 一个3-tuple值"
   ]
  },
  {
   "cell_type": "code",
   "execution_count": null,
   "id": "691aa7b5",
   "metadata": {},
   "outputs": [
    {
     "data": {
      "text/plain": [
       "{'a': 1, 'b': 2, 'c': 3}"
      ]
     },
     "execution_count": 85,
     "metadata": {},
     "output_type": "execute_result"
    }
   ],
   "source": [
    "def f1():\n",
    "    a = 1\n",
    "    b = 2\n",
    "    c = 3\n",
    "    return {'a': a, 'b': b, 'c': c}\n",
    "return_value = f1()\n",
    "return_value\n"
   ]
  },
  {
   "cell_type": "markdown",
   "id": "d63ea571",
   "metadata": {},
   "source": [
    "## Functions Are Objects"
   ]
  },
  {
   "cell_type": "markdown",
   "id": "dcba7525",
   "metadata": {},
   "source": [
    "任何曾经使用过用户提交的调查数据的人都见过这样混乱的结果。要使此字符串列表统一并准备好进行分析，需要做很多事情：去除空格、删除标点符号以及标准化正确的大小写。一种方法是使用内置字符串方法以及正则表达式的 re standard 库模块："
   ]
  },
  {
   "cell_type": "code",
   "execution_count": null,
   "id": "32460f3c",
   "metadata": {},
   "outputs": [
    {
     "data": {
      "text/plain": [
       "['Alabama',\n",
       " 'Georgia',\n",
       " 'Georgia',\n",
       " 'Georgia',\n",
       " 'Florida',\n",
       " 'South   Carolina',\n",
       " 'West Virginia']"
      ]
     },
     "execution_count": 108,
     "metadata": {},
     "output_type": "execute_result"
    }
   ],
   "source": [
    "import re\n",
    "\n",
    "states = [\"   Alabama \", \"Georgia!\", \"Georgia\", \"georgia\", \"FlOrIda\",\n",
    "          \"south   carolina##\", \"West virginia?\"]\n",
    "\n",
    "def clean_strings(strings):\n",
    "    result = []\n",
    "    for s in strings:\n",
    "        cleaned = re.sub('[!#$%?]', '', s) # 删除[]中特殊字符\n",
    "        cleaned = cleaned.strip() # 去除字符串前后空格\n",
    "        cleaned = cleaned.title()\n",
    "        result.append(cleaned)\n",
    "    return result\n",
    "\n",
    "clean_strings(states)"
   ]
  },
  {
   "cell_type": "markdown",
   "id": "41247138",
   "metadata": {},
   "source": [
    "函数模块化改写"
   ]
  },
  {
   "cell_type": "code",
   "execution_count": null,
   "id": "93c6fe68",
   "metadata": {},
   "outputs": [
    {
     "data": {
      "text/plain": [
       "['Alabama',\n",
       " 'Georgia',\n",
       " 'Georgia',\n",
       " 'Georgia',\n",
       " 'Florida',\n",
       " 'South   Carolina',\n",
       " 'West Virginia']"
      ]
     },
     "execution_count": 109,
     "metadata": {},
     "output_type": "execute_result"
    }
   ],
   "source": [
    "def remove_punctuation(text):\n",
    "    \"\"\"\n",
    "    Remove punctuation from a string.\n",
    "    \"\"\"\n",
    "    return re.sub('[!#$%?]', '', text)\n",
    "\n",
    "clean_prompt = [remove_punctuation, str.strip, str.title]\n",
    "\n",
    "def clean_strings2(strings, prompts):\n",
    "    result = []\n",
    "    for string in strings:\n",
    "        for prompt in prompts:\n",
    "            string = prompt(string)\n",
    "        result.append(string)\n",
    "    return result\n",
    "\n",
    "clean_strings2(states, clean_prompt)"
   ]
  },
  {
   "cell_type": "markdown",
   "id": "e6e02898",
   "metadata": {},
   "source": [
    "未绑定方法的使用"
   ]
  },
  {
   "cell_type": "code",
   "execution_count": null,
   "id": "a67930ec",
   "metadata": {},
   "outputs": [],
   "source": [
    "# 基本语法：类名.方法名(实例, 其他参数...)\n",
    "ClassName.method_name(instance, arg1, arg2, ...)\n",
    "\n",
    "# 绑定方法：实例.方法(参数1, 参数2, ...)\n",
    "instance.method(arg1, arg2, arg3)\n",
    "\n",
    "# 未绑定方法：类.方法(实例, 参数1, 参数2, ...)\n",
    "ClassName.method(instance, arg1, arg2, arg3)\n",
    "#                   ↑\n",
    "#           实例作为第一个参数\n"
   ]
  },
  {
   "cell_type": "code",
   "execution_count": null,
   "id": "d9de84ab",
   "metadata": {},
   "outputs": [
    {
     "name": "stdout",
     "output_type": "stream",
     "text": [
      "方式1结果: 'hello world'\n",
      "方式2结果: 'hello world'\n",
      "结果相等: True\n"
     ]
    }
   ],
   "source": [
    "# str.strip 是一个未绑定的方法\n",
    "# 它需要一个字符串实例作为第一个参数\n",
    "\n",
    "# 这两种调用方式是等价的：\n",
    "text = \"  hello world  \"\n",
    "\n",
    "# 方式1: 实例方法调用\n",
    "result1 = text.strip()\n",
    "\n",
    "# 方式2: 类方法调用 (传递实例作为第一个参数)\n",
    "result2 = str.strip(text)\n",
    "\n",
    "print(f\"方式1结果: '{result1}'\")  # 'hello world'\n",
    "print(f\"方式2结果: '{result2}'\")  # 'hello world'\n",
    "print(f\"结果相等: {result1 == result2}\")  # True"
   ]
  },
  {
   "cell_type": "markdown",
   "id": "dd8a2a51",
   "metadata": {},
   "source": [
    "map()函数"
   ]
  },
  {
   "cell_type": "code",
   "execution_count": null,
   "id": "2d0287d3",
   "metadata": {},
   "outputs": [],
   "source": [
    "# 基本模式\n",
    "map(function, iterable)\n",
    "\n",
    "# 多参数模式  \n",
    "map(function, iterable1, iterable2, ...)\n",
    "\n",
    "# 常用转换\n",
    "list(map(function, iterable))  # 转换为列表\n",
    "tuple(map(function, iterable)) # 转换为元组\n",
    "\n",
    "### **参数详解**\n",
    "\n",
    "- **function**: 要应用的函数（可以是普通函数、lambda函数、方法引用等）\n",
    "- **iterable**: 一个或多个可迭代对象（列表、元组、字符串等）\n",
    "\n",
    "### **返回值**\n",
    "\n",
    "返回一个 **map对象**（迭代器），需要转换为列表或其他形式才能查看结果"
   ]
  },
  {
   "cell_type": "code",
   "execution_count": null,
   "id": "76245fa1",
   "metadata": {},
   "outputs": [
    {
     "name": "stdout",
     "output_type": "stream",
     "text": [
      "   Alabama \n",
      "Georgia\n",
      "Georgia\n",
      "georgia\n",
      "FlOrIda\n",
      "south   carolina\n",
      "West virginia\n"
     ]
    },
    {
     "data": {
      "text/plain": [
       "['Alabama',\n",
       " 'Georgia!',\n",
       " 'Georgia',\n",
       " 'georgia',\n",
       " 'FlOrIda',\n",
       " 'south   carolina##',\n",
       " 'West virginia?']"
      ]
     },
     "execution_count": 121,
     "metadata": {},
     "output_type": "execute_result"
    }
   ],
   "source": [
    "for x in map(remove_punctuation, states):\n",
    "    print(x)\n",
    "\n",
    "list(map(str.strip, states)) # 使用未绑定的方法"
   ]
  },
  {
   "cell_type": "code",
   "execution_count": 131,
   "id": "38866587",
   "metadata": {},
   "outputs": [
    {
     "name": "stdout",
     "output_type": "stream",
     "text": [
      "<map object at 0x11654a4d0>\n",
      "[1, 4, 9, 16, 25]\n"
     ]
    }
   ],
   "source": [
    "def square(x):\n",
    "    return x*x\n",
    "numbers = [1,2,3,4,5]\n",
    "squares = map(square, numbers)\n",
    "print(squares) # 返回一个 map 对象（迭代器）\n",
    "print(list(squares))"
   ]
  },
  {
   "cell_type": "code",
   "execution_count": 134,
   "id": "3edc78b2",
   "metadata": {},
   "outputs": [
    {
     "name": "stdout",
     "output_type": "stream",
     "text": [
      "[]\n"
     ]
    }
   ],
   "source": [
    "test = [num for num in squares]\n",
    "print(test)"
   ]
  },
  {
   "cell_type": "markdown",
   "id": "bb89f5f8",
   "metadata": {},
   "source": [
    "## Lambda Functions 匿名函数，快速创建单语句函数\n",
    "Python 支持所谓的匿名或 lambda 函数，这是一种编写由单个语句组成的函数的方法，其结果是返回值。"
   ]
  },
  {
   "cell_type": "code",
   "execution_count": 139,
   "id": "9f905e42",
   "metadata": {},
   "outputs": [],
   "source": [
    "def short_function(x):  \n",
    "    return x * 2\n",
    "\n",
    "# 等效于：\n",
    "equiv_anon = lambda x: x * 2 # 单个语句函数"
   ]
  },
  {
   "cell_type": "code",
   "execution_count": null,
   "id": "0c7c932c",
   "metadata": {},
   "outputs": [
    {
     "data": {
      "text/plain": [
       "[8, 0, 2, 10, 12]"
      ]
     },
     "execution_count": 140,
     "metadata": {},
     "output_type": "execute_result"
    }
   ],
   "source": [
    "def apply_to_list(some_list, f):  \n",
    "    return [f(x) for x in some_list]\n",
    "\n",
    "ints = [4, 0, 1, 5, 6]\n",
    "\n",
    "apply_to_list(ints, equiv_anon) # 使用上面定义的 lambda 函数"
   ]
  },
  {
   "cell_type": "markdown",
   "id": "06a68c9f",
   "metadata": {},
   "source": [
    "## Generators"
   ]
  },
  {
   "cell_type": "code",
   "execution_count": 2,
   "id": "30af0385",
   "metadata": {},
   "outputs": [
    {
     "data": {
      "text/plain": [
       "<dict_keyiterator at 0x111d1c0e0>"
      ]
     },
     "execution_count": 2,
     "metadata": {},
     "output_type": "execute_result"
    }
   ],
   "source": [
    "some_dict = {\"a\": 1, \"b\": 2, \"c\": 3}\n",
    "dict_iterator = iter(some_dict)\n",
    "dict_iterator"
   ]
  },
  {
   "cell_type": "code",
   "execution_count": 3,
   "id": "288ec04e",
   "metadata": {},
   "outputs": [
    {
     "data": {
      "text/plain": [
       "['a', 'b', 'c']"
      ]
     },
     "execution_count": 3,
     "metadata": {},
     "output_type": "execute_result"
    }
   ],
   "source": [
    "list(dict_iterator)"
   ]
  },
  {
   "cell_type": "markdown",
   "id": "37891eb0",
   "metadata": {},
   "source": [
    "普通函数一次执行并返回一个结果，而生成器可以通过在每次使用生成器时暂停和恢复执行来返回多个值的序列。要创建生成器，请在函数中使用 yield 关键字而不是 return："
   ]
  },
  {
   "cell_type": "code",
   "execution_count": 7,
   "id": "8ecfd442",
   "metadata": {},
   "outputs": [
    {
     "data": {
      "text/plain": [
       "<generator object squares at 0x115919af0>"
      ]
     },
     "execution_count": 7,
     "metadata": {},
     "output_type": "execute_result"
    }
   ],
   "source": [
    "def squares(n=10):\n",
    "    print(f'Generating squares from 1 to {n ** 2}')\n",
    "    for number in range(1, n + 1):\n",
    "        yield number ** 2 # generator 使用yield\n",
    "\n",
    "gen = squares()\n",
    "gen"
   ]
  },
  {
   "cell_type": "code",
   "execution_count": 11,
   "id": "a9fab633",
   "metadata": {},
   "outputs": [
    {
     "data": {
      "text/plain": [
       "16"
      ]
     },
     "execution_count": 11,
     "metadata": {},
     "output_type": "execute_result"
    }
   ],
   "source": [
    "next(gen) # 每次执行迭代器，返回下一个值"
   ]
  },
  {
   "cell_type": "markdown",
   "id": "5a28913d",
   "metadata": {},
   "source": [
    "yield 🆚 return"
   ]
  },
  {
   "cell_type": "code",
   "execution_count": 15,
   "id": "8460c3db",
   "metadata": {},
   "outputs": [
    {
     "name": "stdout",
     "output_type": "stream",
     "text": [
      "=== 使用yield的版本 ===\n",
      "函数调用结果: <generator object squares at 0x1161d3370>\n",
      "类型: <class 'generator'>\n",
      "逐个获取值:\n",
      "Generating squares from 1 to 25\n",
      "第1个值: 1\n",
      "第2个值: 4\n",
      "第3个值: 9\n",
      "第4个值: 16\n",
      "第5个值: 25\n"
     ]
    }
   ],
   "source": [
    "def squares(n=10):\n",
    "    print(f'Generating squares from 1 to {n ** 2}')\n",
    "    for number in range(1, n + 1):\n",
    "        yield number ** 2  # 生成器使用yield\n",
    "\n",
    "# 使用yield版本\n",
    "print(\"=== 使用yield的版本 ===\")\n",
    "gen = squares(5)\n",
    "print(f\"函数调用结果: {gen}\")  # <generator object squares at 0x...>\n",
    "print(f\"类型: {type(gen)}\")    # <class 'generator'>\n",
    "\n",
    "print(\"逐个获取值:\")\n",
    "for i, value in enumerate(gen):\n",
    "    print(f\"第{i+1}个值: {value}\")"
   ]
  },
  {
   "cell_type": "code",
   "execution_count": 18,
   "id": "9e817043",
   "metadata": {},
   "outputs": [
    {
     "name": "stdout",
     "output_type": "stream",
     "text": [
      "\n",
      "=== 使用return的版本 ===\n",
      "Generating squares from 1 to 25\n",
      "函数调用结果: [1, 4, 9, 16, 25]\n",
      "类型: <class 'list'>\n",
      "遍历值:\n",
      "第1个值: 1\n",
      "第2个值: 4\n",
      "第3个值: 9\n",
      "第4个值: 16\n",
      "第5个值: 25\n"
     ]
    }
   ],
   "source": [
    "def squares_return(n=10):\n",
    "    print(f'Generating squares from 1 to {n ** 2}')\n",
    "    result = []\n",
    "    for number in range(1, n + 1):\n",
    "        result.append(number ** 2)\n",
    "    return result  # 一次性返回整个列表\n",
    "\n",
    "# 使用return版本\n",
    "print(\"\\n=== 使用return的版本 ===\")\n",
    "result = squares_return(5)\n",
    "print(f\"函数调用结果: {result}\")  # [1, 4, 9, 16, 25]\n",
    "print(f\"类型: {type(result)}\")    # <class 'list'>\n",
    "\n",
    "print(\"遍历值:\")\n",
    "for i, value in enumerate(result):\n",
    "    print(f\"第{i+1}个值: {value}\")"
   ]
  },
  {
   "cell_type": "markdown",
   "id": "a426f6a9",
   "metadata": {},
   "source": [
    "内存大小对比"
   ]
  },
  {
   "cell_type": "code",
   "execution_count": null,
   "id": "5f68b230",
   "metadata": {},
   "outputs": [
    {
     "name": "stdout",
     "output_type": "stream",
     "text": [
      "=== 内存使用对比 ===\n",
      "生成器对象大小: 104 字节\n",
      "列表对象大小: 800984 字节\n",
      "内存差异: 7701 倍\n"
     ]
    }
   ],
   "source": [
    "import sys\n",
    "\n",
    "def large_squares_yield(n):\n",
    "    \"\"\"使用yield的大数据生成器\"\"\"\n",
    "    for number in range(1, n + 1):\n",
    "        yield number ** 2\n",
    "\n",
    "def large_squares_return(n):\n",
    "    \"\"\"使用return的大数据函数\"\"\"\n",
    "    return [number ** 2 for number in range(1, n + 1)]\n",
    "\n",
    "# 内存使用对比\n",
    "n = 100000\n",
    "print(\"=== 内存使用对比 ===\")\n",
    "\n",
    "\n",
    "# yield版本\n",
    "gen = large_squares_yield(n)\n",
    "print(f\"生成器对象大小: {sys.getsizeof(gen)} 字节\")\n",
    "\n",
    "# return版本\n",
    "result_list = large_squares_return(n)\n",
    "print(f\"列表对象大小: {sys.getsizeof(result_list)} 字节\")\n",
    "print(f\"内存差异: {sys.getsizeof(result_list) // sys.getsizeof(gen)} 倍\")\n",
    "\n",
    "# 因为yield版本生成器对象一次只返回一个值，所以内存占用更小。\n",
    "# 但是return版本生成器对象一次返回了所有值，所以内存占用更大。 内存会存储所有值。"
   ]
  },
  {
   "cell_type": "markdown",
   "id": "2b515903",
   "metadata": {},
   "source": [
    "运行时机对比"
   ]
  },
  {
   "cell_type": "code",
   "execution_count": null,
   "id": "8ba7dd14",
   "metadata": {},
   "outputs": [
    {
     "name": "stdout",
     "output_type": "stream",
     "text": [
      "=== 执行时机对比 ===\n",
      "创建yield生成器:\n",
      "创建时间: 0.00秒\n",
      "注意：还没有执行任何计算！\n",
      "\n",
      "获取第一个值:\n",
      "🚀 开始生成 3 个平方数\n",
      "  计算中... 1\n",
      "第一个值: 1, 耗时: 0.10秒\n",
      "\n",
      "获取第二个值:\n",
      "  计算中... 2\n",
      "第二个值: 4, 耗时: 0.10秒\n",
      "创建 return_value 函数:\n",
      "🚀 开始生成 3 个平方数\n",
      "  计算中... 1\n",
      "  计算中... 2\n",
      "  计算中... 3\n",
      "返回值: [1, 4, 9], 耗时: 0.32秒\n"
     ]
    }
   ],
   "source": [
    "import time\n",
    "\n",
    "def slow_squares_yield(n):\n",
    "    \"\"\"慢速yield版本\"\"\"\n",
    "    print(f\"🚀 开始生成 {n} 个平方数\")\n",
    "    for number in range(1, n + 1):\n",
    "        print(f\"  计算中... {number}\")\n",
    "        time.sleep(0.1)  # 模拟耗时操作\n",
    "        yield number ** 2\n",
    "\n",
    "def slow_squares_return(n):\n",
    "    \"\"\"慢速return版本\"\"\"\n",
    "    print(f\"🚀 开始生成 {n} 个平方数\")\n",
    "    result = []\n",
    "    for number in range(1, n + 1):\n",
    "        print(f\"  计算中... {number}\")\n",
    "        time.sleep(0.1)  # 模拟耗时操作\n",
    "        result.append(number ** 2)\n",
    "    return result\n",
    "\n",
    "print(\"=== 执行时机对比 ===\")\n",
    "print(\"创建yield生成器:\")\n",
    "start_time = time.time()\n",
    "gen = slow_squares_yield(3)\n",
    "print(f\"创建时间: {time.time() - start_time:.2f}秒\")\n",
    "print(\"注意：还没有执行任何计算！\")\n",
    "\n",
    "print(\"\\n获取第一个值:\")\n",
    "start_time = time.time()\n",
    "first_value = next(gen)\n",
    "print(f\"第一个值: {first_value}, 耗时: {time.time() - start_time:.2f}秒\")\n",
    "\n",
    "print(\"\\n获取第二个值:\")\n",
    "start_time = time.time()\n",
    "second_value = next(gen)\n",
    "print(f\"第二个值: {second_value}, 耗时: {time.time() - start_time:.2f}秒\")\n",
    "\n",
    "print(\"创建 return_value 函数:\")\n",
    "start_time = time.time()\n",
    "return_value = slow_squares_return(3)\n",
    "print(f\"返回值: {return_value}, 耗时: {time.time() - start_time:.2f}秒\") \n",
    "\n"
   ]
  },
  {
   "cell_type": "markdown",
   "id": "785c8b91",
   "metadata": {},
   "source": [
    "函数内部参数状态可恢复"
   ]
  },
  {
   "cell_type": "code",
   "execution_count": null,
   "id": "eda09a28",
   "metadata": {},
   "outputs": [
    {
     "name": "stdout",
     "output_type": "stream",
     "text": [
      "=== 状态保持对比 ===\n",
      "yield版本（保持状态）:\n",
      "  内部计数: 1\n",
      "第1次调用: 1\n",
      "  内部计数: 2\n",
      "第2次调用: 2\n",
      "  内部计数: 3\n",
      "第3次调用: 3\n",
      "\n",
      "return版本（不保持状态）:\n",
      "  内部计数: 1\n",
      "第1次调用: 1\n",
      "  内部计数: 1\n",
      "第2次调用: 1\n",
      "  内部计数: 1\n",
      "第3次调用: 1\n"
     ]
    }
   ],
   "source": [
    "def counter_yield():\n",
    "    \"\"\"yield版本：保持状态\"\"\"\n",
    "    count = 0 # 内部计数器可以持久保存状态\n",
    "    while True:\n",
    "        count += 1\n",
    "        print(f\"  内部计数: {count}\")\n",
    "        yield count\n",
    "\n",
    "def counter_return():\n",
    "    \"\"\"return版本：无法保持状态\"\"\"\n",
    "    count = 0\n",
    "    count += 1\n",
    "    print(f\"  内部计数: {count}\")\n",
    "    return count\n",
    "\n",
    "print(\"=== 状态保持对比 ===\")\n",
    "print(\"yield版本（保持状态）:\")\n",
    "gen = counter_yield()\n",
    "print(f\"第1次调用: {next(gen)}\")\n",
    "print(f\"第2次调用: {next(gen)}\")\n",
    "print(f\"第3次调用: {next(gen)}\")\n",
    "\n",
    "print(\"\\nreturn版本（不保持状态）:\")\n",
    "print(f\"第1次调用: {counter_return()}\")\n",
    "print(f\"第2次调用: {counter_return()}\")\n",
    "print(f\"第3次调用: {counter_return()}\")"
   ]
  },
  {
   "cell_type": "markdown",
   "id": "b5872bff",
   "metadata": {},
   "source": [
    "性能过程对比"
   ]
  },
  {
   "cell_type": "code",
   "execution_count": null,
   "id": "5ef08f6e",
   "metadata": {},
   "outputs": [
    {
     "name": "stdout",
     "output_type": "stream",
     "text": [
      "只需要前3个值的情况:\n",
      "yield版本:\n",
      "yield计算: 0\n",
      "yield计算: 1\n",
      "yield计算: 2\n",
      "获得: [0, 1, 4]\n",
      "\\nreturn版本:\n",
      "return计算: 0\n",
      "return计算: 1\n",
      "return计算: 2\n",
      "return计算: 3\n",
      "return计算: 4\n",
      "获得: [0, 1, 4]\n"
     ]
    }
   ],
   "source": [
    "# 只需要前几个值的情况\n",
    "def performance_test():\n",
    "    # yield版本：只计算需要的值\n",
    "    def yield_version(n):\n",
    "        for i in range(n):\n",
    "            print(f\"yield计算: {i}\")\n",
    "            yield i ** 2\n",
    "\n",
    "    # return版本：计算所有值\n",
    "    def return_version(n):\n",
    "        result = []\n",
    "        for i in range(n):\n",
    "            print(f\"return计算: {i}\")\n",
    "            result.append(i ** 2)\n",
    "        return result\n",
    "\n",
    "    print(\"只需要前3个值的情况:\")\n",
    "    print(\"yield版本:\")\n",
    "    gen = yield_version(1000)\n",
    "    first_three = [next(gen) for _ in range(3)]\n",
    "    print(f\"获得: {first_three}\")\n",
    "\n",
    "    # return版本会计算所有1000个值（这里用小数据演示）\n",
    "    print(\"\\\\nreturn版本:\")\n",
    "    result = return_version(5)  # 小数据仅作演示，因为 return 会计算所有值\n",
    "    first_three = result[:3]\n",
    "    print(f\"获得: {first_three}\")\n",
    "\n",
    "performance_test()"
   ]
  },
  {
   "cell_type": "markdown",
   "id": "7713713e",
   "metadata": {},
   "source": [
    "### Generator expressions"
   ]
  },
  {
   "cell_type": "code",
   "execution_count": 22,
   "id": "b0b5a408",
   "metadata": {},
   "outputs": [
    {
     "data": {
      "text/plain": [
       "<generator object <genexpr> at 0x115c31e70>"
      ]
     },
     "execution_count": 22,
     "metadata": {},
     "output_type": "execute_result"
    }
   ],
   "source": [
    "gen = (x ** 2 for x in range(10))\n",
    "gen"
   ]
  },
  {
   "cell_type": "code",
   "execution_count": 27,
   "id": "2f918a27",
   "metadata": {},
   "outputs": [
    {
     "name": "stdout",
     "output_type": "stream",
     "text": [
      "9\n"
     ]
    }
   ],
   "source": [
    "print(next(gen))"
   ]
  },
  {
   "cell_type": "code",
   "execution_count": 30,
   "id": "ac3c03d4",
   "metadata": {},
   "outputs": [
    {
     "data": {
      "text/plain": [
       "328350"
      ]
     },
     "execution_count": 30,
     "metadata": {},
     "output_type": "execute_result"
    }
   ],
   "source": [
    "sum((x ** 2 for x in range(1, 100)))"
   ]
  },
  {
   "cell_type": "code",
   "execution_count": 38,
   "id": "f1b09dbc",
   "metadata": {},
   "outputs": [
    {
     "data": {
      "text/plain": [
       "{0: 0, 1: 1, 2: 4, 3: 9, 4: 16}"
      ]
     },
     "execution_count": 38,
     "metadata": {},
     "output_type": "execute_result"
    }
   ],
   "source": [
    "dict(([i, i ** 2] for i in range(5)))"
   ]
  },
  {
   "cell_type": "markdown",
   "id": "4cc006b1",
   "metadata": {},
   "source": [
    "### itertools module"
   ]
  },
  {
   "cell_type": "code",
   "execution_count": null,
   "id": "ea168514",
   "metadata": {},
   "outputs": [
    {
     "data": {
      "text/plain": [
       "{'A': <itertools._grouper at 0x115d70c70>,\n",
       " 'W': <itertools._grouper at 0x115da2ad0>,\n",
       " 'S': <itertools._grouper at 0x115da38b0>}"
      ]
     },
     "execution_count": 44,
     "metadata": {},
     "output_type": "execute_result"
    }
   ],
   "source": [
    "import itertools\n",
    "\n",
    "def first_letter(x):\n",
    "    return x[0]\n",
    "\n",
    "names = [\"Alan\", \"Adam\", \"Wes\", \"Will\", \"Albert\", \"Steven\"]\n",
    "\n",
    "see = itertools.groupby(names, first_letter) # names is a generator\n",
    "\n",
    "dict(see) # itertools.groupby(iterable, key=<function>)\n"
   ]
  },
  {
   "cell_type": "code",
   "execution_count": 45,
   "id": "b31ad9e0",
   "metadata": {},
   "outputs": [
    {
     "name": "stdout",
     "output_type": "stream",
     "text": [
      "A ['Alan', 'Adam']\n",
      "W ['Wes', 'Will']\n",
      "A ['Albert']\n",
      "S ['Steven']\n"
     ]
    }
   ],
   "source": [
    "for letter, names in itertools.groupby(names, first_letter):\n",
    "    print(letter, list(names))"
   ]
  },
  {
   "cell_type": "markdown",
   "id": "4a169ed2",
   "metadata": {},
   "source": [
    "## Errors and Exception Handling"
   ]
  },
  {
   "cell_type": "code",
   "execution_count": 46,
   "id": "0fea4ec3",
   "metadata": {},
   "outputs": [
    {
     "data": {
      "text/plain": [
       "1.2345"
      ]
     },
     "execution_count": 46,
     "metadata": {},
     "output_type": "execute_result"
    }
   ],
   "source": [
    "float('1.2345')"
   ]
  },
  {
   "cell_type": "code",
   "execution_count": 47,
   "id": "b47116b2",
   "metadata": {},
   "outputs": [
    {
     "ename": "ValueError",
     "evalue": "could not convert string to float: 'something'",
     "output_type": "error",
     "traceback": [
      "\u001b[0;31m---------------------------------------------------------------------------\u001b[0m",
      "\u001b[0;31mValueError\u001b[0m                                Traceback (most recent call last)",
      "Cell \u001b[0;32mIn[47], line 1\u001b[0m\n\u001b[0;32m----> 1\u001b[0m \u001b[38;5;28;43mfloat\u001b[39;49m\u001b[43m(\u001b[49m\u001b[38;5;124;43m'\u001b[39;49m\u001b[38;5;124;43msomething\u001b[39;49m\u001b[38;5;124;43m'\u001b[39;49m\u001b[43m)\u001b[49m\n",
      "\u001b[0;31mValueError\u001b[0m: could not convert string to float: 'something'"
     ]
    }
   ],
   "source": [
    "float('something')"
   ]
  },
  {
   "cell_type": "code",
   "execution_count": null,
   "id": "c8288745",
   "metadata": {},
   "outputs": [
    {
     "data": {
      "text/plain": [
       "[1.0, 2.3, 4.0, 'lipton', 5.6]"
      ]
     },
     "execution_count": 63,
     "metadata": {},
     "output_type": "execute_result"
    }
   ],
   "source": [
    "def attempt_float(value):\n",
    "    result = []\n",
    "    for i in value:\n",
    "        try:\n",
    "            a = float(i)\n",
    "        except:\n",
    "            a = i\n",
    "        result.append(a)\n",
    "    return result\n",
    "\n",
    "value = ['1', '2.3', '4', 'lipton', '5.6']\n",
    "\n",
    "attempt_float(value)"
   ]
  },
  {
   "cell_type": "code",
   "execution_count": null,
   "id": "07f3a910",
   "metadata": {},
   "outputs": [],
   "source": []
  }
 ],
 "metadata": {
  "kernelspec": {
   "display_name": "jupyter_env",
   "language": "python",
   "name": "python3"
  },
  "language_info": {
   "codemirror_mode": {
    "name": "ipython",
    "version": 3
   },
   "file_extension": ".py",
   "mimetype": "text/x-python",
   "name": "python",
   "nbconvert_exporter": "python",
   "pygments_lexer": "ipython3",
   "version": "3.10.16"
  }
 },
 "nbformat": 4,
 "nbformat_minor": 5
}
