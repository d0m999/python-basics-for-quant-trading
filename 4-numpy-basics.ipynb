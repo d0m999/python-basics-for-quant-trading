{
 "cells": [
  {
   "cell_type": "markdown",
   "metadata": {},
   "source": [
    "Numpy 的优点：\n",
    "ndarray，一个高效的多维数组，提供快速的面向数组的算术运算和灵活的广播功能\n",
    "数学函数，用于对整个数据数组进行快速作，而无需编写循环\n",
    "用于将阵列数据读取/写入磁盘以及处理内存映射文件的工具\n",
    "线性代数、随机数生成和傅里叶变换能力\n",
    "用于将 NumPy 与用 C、C++ 或 FORTRAN 编写的库连接起来的 C API\n",
    "\n",
    "由于 NumPy 提供了全面且有据可查的 C API，因此将数据传递给用低级语言编写的外部库，以及外部库将数据作为 NumPy 数组返回给 Python 非常简单。此功能使 Python 成为包装旧版 C、C++ 或 FORTRAN 代码库并为其提供动态且可访问的界面的首选语言。"
   ]
  },
  {
   "cell_type": "markdown",
   "metadata": {},
   "source": [
    "# 4.1 The NumPy ndarray: A Multidimensional Array Object"
   ]
  },
  {
   "cell_type": "code",
   "execution_count": 3,
   "metadata": {},
   "outputs": [
    {
     "name": "stdout",
     "output_type": "stream",
     "text": [
      "CPU times: user 12.4 ms, sys: 12.8 ms, total: 25.3 ms\n",
      "Wall time: 37.2 ms\n",
      "CPU times: user 497 ms, sys: 187 ms, total: 685 ms\n",
      "Wall time: 1.07 s\n"
     ]
    }
   ],
   "source": [
    "import numpy as np\n",
    "\n",
    "my_arr = np.arange(1_000_000)\n",
    "\n",
    "my_list = list(range(1_000_000))\n",
    "\n",
    "%time for _ in range(10): my_arr2 = my_arr * 2\n",
    "\n",
    "%time for _ in range(10): my_list2 = [x * 2 for x in my_list]"
   ]
  },
  {
   "cell_type": "code",
   "execution_count": 6,
   "metadata": {},
   "outputs": [
    {
     "data": {
      "text/plain": [
       "array([[ 1.5, -0.1,  3. ],\n",
       "       [ 2. ,  0.5,  1. ]])"
      ]
     },
     "execution_count": 6,
     "metadata": {},
     "output_type": "execute_result"
    }
   ],
   "source": [
    "data = np.array([[1.5, -0.1, 3], [2, 0.5, 1]])\n",
    "# ndarray 是元组的嵌套，数组内的元素必须是相同类型\n",
    "# ndarray 的形状是一个元组，元组的长度就是数组的维度\n",
    "data"
   ]
  },
  {
   "cell_type": "code",
   "execution_count": 7,
   "metadata": {},
   "outputs": [
    {
     "data": {
      "text/plain": [
       "array([[15., -1., 30.],\n",
       "       [20.,  5., 10.]])"
      ]
     },
     "execution_count": 7,
     "metadata": {},
     "output_type": "execute_result"
    }
   ],
   "source": [
    "data * 10"
   ]
  },
  {
   "cell_type": "code",
   "execution_count": 8,
   "metadata": {},
   "outputs": [
    {
     "data": {
      "text/plain": [
       "array([[ 3. , -0.2,  6. ],\n",
       "       [ 4. ,  1. ,  2. ]])"
      ]
     },
     "execution_count": 8,
     "metadata": {},
     "output_type": "execute_result"
    }
   ],
   "source": [
    "data + data"
   ]
  },
  {
   "cell_type": "code",
   "execution_count": 10,
   "metadata": {},
   "outputs": [
    {
     "name": "stdout",
     "output_type": "stream",
     "text": [
      "float64\n",
      "(2, 3)\n"
     ]
    }
   ],
   "source": [
    "print(data.dtype)\n",
    "print(data.shape)"
   ]
  },
  {
   "cell_type": "markdown",
   "metadata": {},
   "source": [
    "## Creating ndarrays"
   ]
  },
  {
   "cell_type": "markdown",
   "metadata": {},
   "source": [
    "因为 numpy 主要用于数学计算，所以如果不明说，ndarray 的 type 是 float64"
   ]
  },
  {
   "cell_type": "code",
   "execution_count": 11,
   "metadata": {},
   "outputs": [
    {
     "data": {
      "text/plain": [
       "array([6. , 7.5, 8. , 0. , 1. ])"
      ]
     },
     "execution_count": 11,
     "metadata": {},
     "output_type": "execute_result"
    }
   ],
   "source": [
    "data1 = [6, 7.5, 8, 0, 1]\n",
    "arr1 = np.array(data1)\n",
    "arr1"
   ]
  },
  {
   "cell_type": "code",
   "execution_count": null,
   "metadata": {},
   "outputs": [
    {
     "name": "stdout",
     "output_type": "stream",
     "text": [
      "[[1 2 3 4]\n",
      " [5 6 7 8]]\n",
      "[[[1 2 3]\n",
      "  [4 5 6]]]\n"
     ]
    }
   ],
   "source": [
    "data2 = ([1, 2, 3, 4], [5, 6, 7, 8]) # nested tuple\n",
    "data3 =[[[1, 2, 3], [4, 5, 6]]] # nested list\n",
    "arr2 = np.array(data2)\n",
    "arr3 = np.array(data3)\n",
    "\n",
    "print(arr2)\n",
    "print(arr3)"
   ]
  },
  {
   "cell_type": "code",
   "execution_count": null,
   "metadata": {},
   "outputs": [
    {
     "name": "stdout",
     "output_type": "stream",
     "text": [
      "2\n",
      "(2, 4)\n",
      "8\n",
      "float64\n",
      "int64\n"
     ]
    }
   ],
   "source": [
    "print(arr2.ndim) # 获取维度,how many dimensions?\n",
    "print(arr2.shape) # (n_rows, n_cols) 行， 列\n",
    "print(arr2.size) # size = n_rows * n_cols\n",
    "print(arr1.dtype)\n",
    "print(arr2.dtype)\n"
   ]
  },
  {
   "cell_type": "code",
   "execution_count": null,
   "metadata": {},
   "outputs": [
    {
     "data": {
      "text/plain": [
       "array([0., 0., 0., 0., 0., 0., 0., 0., 0., 0.])"
      ]
     },
     "execution_count": 21,
     "metadata": {},
     "output_type": "execute_result"
    }
   ],
   "source": [
    "np.zeros(10) # 创建一个长度为10的零向量\n"
   ]
  },
  {
   "cell_type": "code",
   "execution_count": null,
   "metadata": {},
   "outputs": [
    {
     "data": {
      "text/plain": [
       "array([[1., 1., 1., 1., 1., 1.],\n",
       "       [1., 1., 1., 1., 1., 1.],\n",
       "       [1., 1., 1., 1., 1., 1.]])"
      ]
     },
     "execution_count": 23,
     "metadata": {},
     "output_type": "execute_result"
    }
   ],
   "source": [
    "np.ones((3, 6)) # 创建一个 3x6 的全 1 数组"
   ]
  },
  {
   "cell_type": "code",
   "execution_count": null,
   "metadata": {},
   "outputs": [
    {
     "name": "stdout",
     "output_type": "stream",
     "text": [
      "[[[0. 0.]\n",
      "  [0. 0.]\n",
      "  [0. 0.]]\n",
      "\n",
      " [[0. 0.]\n",
      "  [0. 0.]\n",
      "  [0. 0.]]]\n",
      "(2, 3, 2)\n"
     ]
    }
   ],
   "source": [
    "empty1 = np.empty((2, 3, 2)) # 创建一个空的数组\n",
    "print(empty1)\n",
    "print(empty1.shape) # (n_rows, n_cols, n_channels)"
   ]
  },
  {
   "cell_type": "code",
   "execution_count": 11,
   "metadata": {},
   "outputs": [
    {
     "data": {
      "text/plain": [
       "array([ 0,  1,  2,  3,  4,  5,  6,  7,  8,  9, 10, 11, 12, 13, 14])"
      ]
     },
     "execution_count": 11,
     "metadata": {},
     "output_type": "execute_result"
    }
   ],
   "source": [
    "np.arange(15)"
   ]
  },
  {
   "cell_type": "code",
   "execution_count": 40,
   "metadata": {},
   "outputs": [
    {
     "data": {
      "text/plain": [
       "array([[ 0,  1,  2,  3,  4],\n",
       "       [ 5,  6,  7,  8,  9],\n",
       "       [10, 11, 12, 13, 14]])"
      ]
     },
     "execution_count": 40,
     "metadata": {},
     "output_type": "execute_result"
    }
   ],
   "source": [
    "np.arange(15).reshape(3, 5) # 定义一个3行5列的数组"
   ]
  },
  {
   "cell_type": "code",
   "execution_count": null,
   "metadata": {},
   "outputs": [
    {
     "data": {
      "text/plain": [
       "array([[-0.76441509, -0.10344674,  1.48576886, -1.47186611],\n",
       "       [ 0.36758231, -0.1056503 , -0.16033925,  0.13947908],\n",
       "       [-2.00807741,  0.26751224, -1.5630986 , -0.96588658],\n",
       "       [-1.02092705,  0.92362875,  1.04925465,  0.18824814]])"
      ]
     },
     "execution_count": 41,
     "metadata": {},
     "output_type": "execute_result"
    }
   ],
   "source": [
    "np.random.randn(4, 4)"
   ]
  },
  {
   "cell_type": "markdown",
   "metadata": {},
   "source": [
    "## Data Types for ndarrays"
   ]
  },
  {
   "cell_type": "code",
   "execution_count": 24,
   "metadata": {},
   "outputs": [
    {
     "name": "stdout",
     "output_type": "stream",
     "text": [
      "int32\n",
      "float64\n"
     ]
    }
   ],
   "source": [
    " arr1 = np.array([1, 2, 3, 4, 5], dtype=np.int32)\n",
    " arr2 = np.array([6, 7, 8, 9, 10], dtype=np.float64)\n",
    " \n",
    "print(arr1.dtype)\n",
    "print(arr2.dtype)"
   ]
  },
  {
   "cell_type": "code",
   "execution_count": 25,
   "metadata": {},
   "outputs": [
    {
     "name": "stdout",
     "output_type": "stream",
     "text": [
      "[1. 2. 3. 4. 5.]\n",
      "float64\n"
     ]
    }
   ],
   "source": [
    "arr1_float = arr1.astype(np.float64)\n",
    "print(arr1_float)\n",
    "print(arr1_float.dtype)"
   ]
  },
  {
   "cell_type": "markdown",
   "metadata": {},
   "source": [
    "将 float 转化为 int 会发生什么？"
   ]
  },
  {
   "cell_type": "code",
   "execution_count": null,
   "metadata": {},
   "outputs": [
    {
     "name": "stdout",
     "output_type": "stream",
     "text": [
      "[ 3 -1 -2  0 12 10]\n",
      "int32\n"
     ]
    }
   ],
   "source": [
    "arr = np.array([3.7, -1.2, -2.6, 0.5, 12.9, 10.1])\n",
    "arr_int = arr.astype(np.int32) # 直接删掉小数位，而不是四舍五入\n",
    "print(arr_int)\n",
    "print(arr_int.dtype)"
   ]
  },
  {
   "cell_type": "code",
   "execution_count": null,
   "metadata": {},
   "outputs": [
    {
     "data": {
      "text/plain": [
       "array([ 1.25, -9.6 , 42.  ])"
      ]
     },
     "execution_count": 30,
     "metadata": {},
     "output_type": "execute_result"
    }
   ],
   "source": [
    "numeric_strings = np.array([\"1.25\", \"-9.6\", \"42\"], dtype=np.bytes_) # 将字符串数组转换为浮点数\n",
    "numeric_strings.astype(float)"
   ]
  },
  {
   "cell_type": "code",
   "execution_count": null,
   "metadata": {},
   "outputs": [
    {
     "name": "stdout",
     "output_type": "stream",
     "text": [
      "[0. 1. 2. 3. 4. 5. 6. 7. 8. 9.]\n",
      "int32\n"
     ]
    }
   ],
   "source": [
    "int_array = np.array(range(10), dtype=np.int32)\n",
    "calibers = np.array([.22, .270, .357, .380, .44, .50], dtype=np.float64)\n",
    "print(int_array.astype(calibers.dtype))\n",
    "print(int_array.dtype)\n",
    "# 调用 astype 始终会创建一个新数组（数据的副本），即使新数据类型与旧数据类型相同。"
   ]
  },
  {
   "cell_type": "markdown",
   "metadata": {},
   "source": []
  },
  {
   "cell_type": "markdown",
   "metadata": {},
   "source": [
    "## Arithmetic with NumPy Arrays"
   ]
  },
  {
   "cell_type": "markdown",
   "metadata": {},
   "source": [
    "数组很重要，因为它们使您能够在不编写任何 for 循环的情况下表达对数据的批处理作。NumPy 用户称之为矢量化 。大小相等的数组之间的任何算术运算都按元素应用运算："
   ]
  },
  {
   "cell_type": "code",
   "execution_count": 35,
   "metadata": {},
   "outputs": [
    {
     "name": "stdout",
     "output_type": "stream",
     "text": [
      "[[ 1.  4.  9.]\n",
      " [16. 25. 36.]]\n",
      "[[0. 0. 0.]\n",
      " [0. 0. 0.]]\n"
     ]
    }
   ],
   "source": [
    "arr = np.array([[1., 2., 3.], [4., 5., 6.]])\n",
    "print(arr * arr)\n",
    "print(arr - arr)"
   ]
  },
  {
   "cell_type": "code",
   "execution_count": 37,
   "metadata": {},
   "outputs": [
    {
     "data": {
      "text/plain": [
       "array([[False,  True, False],\n",
       "       [ True, False,  True]])"
      ]
     },
     "execution_count": 37,
     "metadata": {},
     "output_type": "execute_result"
    }
   ],
   "source": [
    "arr2 = np.array([[0., 4., 1.], [7., 2., 12.]])\n",
    "\n",
    "arr2 > arr"
   ]
  },
  {
   "cell_type": "markdown",
   "metadata": {},
   "source": [
    "## Basic Indexing and Slicing"
   ]
  },
  {
   "cell_type": "code",
   "execution_count": 5,
   "metadata": {},
   "outputs": [
    {
     "name": "stdout",
     "output_type": "stream",
     "text": [
      "6\n",
      "[6 7 8]\n"
     ]
    }
   ],
   "source": [
    "arr = np.array([1, 2, 3, 4, 5, 6, 7, 8, 9, 10])\n",
    "print(arr[5])\n",
    "print(arr[5:8])"
   ]
  },
  {
   "cell_type": "code",
   "execution_count": 6,
   "metadata": {},
   "outputs": [
    {
     "data": {
      "text/plain": [
       "array([   1,    2,    3,    4,    5, 1279, 1279, 1279,    9,   10])"
      ]
     },
     "execution_count": 6,
     "metadata": {},
     "output_type": "execute_result"
    }
   ],
   "source": [
    "arr[5:8] = 1279\n",
    "arr"
   ]
  },
  {
   "cell_type": "code",
   "execution_count": 7,
   "metadata": {},
   "outputs": [
    {
     "data": {
      "text/plain": [
       "array([   1,    2,    3,    4,    5, 1279,  999, 1279,    9,   10])"
      ]
     },
     "execution_count": 7,
     "metadata": {},
     "output_type": "execute_result"
    }
   ],
   "source": [
    "arr_slice = arr[5:8]\n",
    "arr_slice[1] = 999\n",
    "# 当在 arr_slice 中更改值时，突变会反映在原始数组 arr 中：\n",
    "arr"
   ]
  },
  {
   "cell_type": "code",
   "execution_count": 8,
   "metadata": {},
   "outputs": [
    {
     "data": {
      "text/plain": [
       "array([ 1,  2,  3,  4,  5, 64, 64, 64,  9, 10])"
      ]
     },
     "execution_count": 8,
     "metadata": {},
     "output_type": "execute_result"
    }
   ],
   "source": [
    "arr_slice[:] = 64 # 赋值给全部的arr_slice\n",
    "arr"
   ]
  },
  {
   "cell_type": "markdown",
   "metadata": {},
   "source": [
    "由于 NumPy 被设计为能够处理非常大的数组，因此如果 NumPy 坚持始终复制数据，您可以想象性能和内存问题。"
   ]
  },
  {
   "cell_type": "markdown",
   "metadata": {},
   "source": [
    "如果你想要的是 ndarray 切片的副本而不是视图，则需要显式复制该数组，例如 arr[5:8].copy() 。正如你所见，pandas 也是这样工作的。\n",
    "Numpy为了更高效地处理数据，因此与普通 python 不同，不允许频繁复制。"
   ]
  },
  {
   "cell_type": "code",
   "execution_count": null,
   "metadata": {},
   "outputs": [
    {
     "data": {
      "text/plain": [
       "array([ 1,  2,  3,  4,  5, 64, 64, 64,  9, 10])"
      ]
     },
     "execution_count": 9,
     "metadata": {},
     "output_type": "execute_result"
    }
   ],
   "source": [
    "arr_copy = arr[5:8].copy() # 用copy()方法创建一个数组的副本\n",
    "arr_copy = 13\n",
    "arr"
   ]
  },
  {
   "cell_type": "code",
   "execution_count": 10,
   "metadata": {},
   "outputs": [
    {
     "data": {
      "text/plain": [
       "array([7, 8, 9])"
      ]
     },
     "execution_count": 10,
     "metadata": {},
     "output_type": "execute_result"
    }
   ],
   "source": [
    "arr2d = np.array([[1, 2, 3], [4, 5, 6], [7, 8, 9]])\n",
    "arr2d[2]"
   ]
  },
  {
   "cell_type": "code",
   "execution_count": 11,
   "metadata": {},
   "outputs": [
    {
     "data": {
      "text/plain": [
       "np.int64(3)"
      ]
     },
     "execution_count": 11,
     "metadata": {},
     "output_type": "execute_result"
    }
   ],
   "source": [
    "arr2d[0][2] # 0行2列"
   ]
  },
  {
   "cell_type": "code",
   "execution_count": 12,
   "metadata": {},
   "outputs": [
    {
     "data": {
      "text/plain": [
       "np.int64(3)"
      ]
     },
     "execution_count": 12,
     "metadata": {},
     "output_type": "execute_result"
    }
   ],
   "source": [
    "arr2d[0,2] # 0行2列\n",
    "# 与上一段代码等价"
   ]
  },
  {
   "cell_type": "code",
   "execution_count": 13,
   "metadata": {},
   "outputs": [
    {
     "data": {
      "text/plain": [
       "array([[[ 1,  2,  3],\n",
       "        [ 4,  5,  6]],\n",
       "\n",
       "       [[ 7,  8,  9],\n",
       "        [10, 11, 12]]])"
      ]
     },
     "execution_count": 13,
     "metadata": {},
     "output_type": "execute_result"
    }
   ],
   "source": [
    "arr3d = np.array([[[1, 2, 3], [4, 5, 6]], [[7, 8, 9], [10, 11, 12]]])\n",
    "arr3d"
   ]
  },
  {
   "cell_type": "code",
   "execution_count": 14,
   "metadata": {},
   "outputs": [
    {
     "data": {
      "text/plain": [
       "array([[ 7,  8,  9],\n",
       "       [10, 11, 12]])"
      ]
     },
     "execution_count": 14,
     "metadata": {},
     "output_type": "execute_result"
    }
   ],
   "source": [
    "arr3d[1]"
   ]
  },
  {
   "cell_type": "code",
   "execution_count": null,
   "metadata": {},
   "outputs": [
    {
     "data": {
      "text/plain": [
       "array([[[ 1,  2,  3],\n",
       "        [ 4,  5,  6]],\n",
       "\n",
       "       [[12, 12, 12],\n",
       "        [12, 12, 12]]])"
      ]
     },
     "execution_count": 15,
     "metadata": {},
     "output_type": "execute_result"
    }
   ],
   "source": [
    "old_values = arr3d[1].copy()\n",
    "arr3d[1] = 12 # 赋值\n",
    "arr3d"
   ]
  },
  {
   "cell_type": "code",
   "execution_count": null,
   "metadata": {},
   "outputs": [
    {
     "data": {
      "text/plain": [
       "array([[[ 1,  2,  3],\n",
       "        [ 4,  5,  6]],\n",
       "\n",
       "       [[ 7,  8,  9],\n",
       "        [10, 11, 12]]])"
      ]
     },
     "execution_count": 16,
     "metadata": {},
     "output_type": "execute_result"
    }
   ],
   "source": [
    "arr3d[1] = old_values # 再次赋值\n",
    "arr3d"
   ]
  },
  {
   "cell_type": "code",
   "execution_count": 20,
   "metadata": {},
   "outputs": [
    {
     "data": {
      "text/plain": [
       "array([7, 8, 9])"
      ]
     },
     "execution_count": 20,
     "metadata": {},
     "output_type": "execute_result"
    }
   ],
   "source": [
    "arr3d[1,0]"
   ]
  },
  {
   "cell_type": "code",
   "execution_count": 21,
   "metadata": {},
   "outputs": [
    {
     "data": {
      "text/plain": [
       "array([1, 2, 3])"
      ]
     },
     "execution_count": 21,
     "metadata": {},
     "output_type": "execute_result"
    }
   ],
   "source": [
    "x = arr3d[0]\n",
    "\n",
    "x[0]"
   ]
  },
  {
   "cell_type": "code",
   "execution_count": 19,
   "metadata": {},
   "outputs": [
    {
     "data": {
      "text/plain": [
       "array([ 1,  2,  3,  4,  5, 64, 64, 64,  9, 10])"
      ]
     },
     "execution_count": 19,
     "metadata": {},
     "output_type": "execute_result"
    }
   ],
   "source": [
    "arr"
   ]
  },
  {
   "cell_type": "code",
   "execution_count": 23,
   "metadata": {},
   "outputs": [
    {
     "data": {
      "text/plain": [
       "array([ 2,  3,  4,  5, 64])"
      ]
     },
     "execution_count": 23,
     "metadata": {},
     "output_type": "execute_result"
    }
   ],
   "source": [
    "arr[1:6] \n",
    "# 索引第 2 到第 6 个元素\n",
    "# 从1开始，到6结束，不包括6\n",
    "# 索引从0开始"
   ]
  },
  {
   "cell_type": "code",
   "execution_count": 24,
   "metadata": {},
   "outputs": [
    {
     "data": {
      "text/plain": [
       "array([[1, 2, 3],\n",
       "       [4, 5, 6],\n",
       "       [7, 8, 9]])"
      ]
     },
     "execution_count": 24,
     "metadata": {},
     "output_type": "execute_result"
    }
   ],
   "source": [
    "arr2d"
   ]
  },
  {
   "cell_type": "code",
   "execution_count": 25,
   "metadata": {},
   "outputs": [
    {
     "data": {
      "text/plain": [
       "array([[1, 2, 3],\n",
       "       [4, 5, 6]])"
      ]
     },
     "execution_count": 25,
     "metadata": {},
     "output_type": "execute_result"
    }
   ],
   "source": [
    "arr2d[:2]"
   ]
  },
  {
   "cell_type": "code",
   "execution_count": null,
   "metadata": {},
   "outputs": [
    {
     "data": {
      "text/plain": [
       "array([[2, 3],\n",
       "       [5, 6]])"
      ]
     },
     "execution_count": 26,
     "metadata": {},
     "output_type": "execute_result"
    }
   ],
   "source": [
    "arr2d[:2, 1:]"
   ]
  },
  {
   "cell_type": "code",
   "execution_count": 28,
   "metadata": {},
   "outputs": [
    {
     "data": {
      "text/plain": [
       "array([4, 5])"
      ]
     },
     "execution_count": 28,
     "metadata": {},
     "output_type": "execute_result"
    }
   ],
   "source": [
    "lower_dim_slice = arr2d[1, :2]\n",
    "lower_dim_slice"
   ]
  },
  {
   "cell_type": "code",
   "execution_count": 29,
   "metadata": {},
   "outputs": [
    {
     "data": {
      "text/plain": [
       "(2,)"
      ]
     },
     "execution_count": 29,
     "metadata": {},
     "output_type": "execute_result"
    }
   ],
   "source": [
    "lower_dim_slice.shape"
   ]
  },
  {
   "cell_type": "code",
   "execution_count": 51,
   "metadata": {},
   "outputs": [
    {
     "data": {
      "text/plain": [
       "array([[3],\n",
       "       [6]])"
      ]
     },
     "execution_count": 51,
     "metadata": {},
     "output_type": "execute_result"
    }
   ],
   "source": [
    "arr2d[:2, 2:]"
   ]
  },
  {
   "cell_type": "code",
   "execution_count": 52,
   "metadata": {},
   "outputs": [
    {
     "data": {
      "text/plain": [
       "array([3, 6])"
      ]
     },
     "execution_count": 52,
     "metadata": {},
     "output_type": "execute_result"
    }
   ],
   "source": [
    "arr2d[:2,2]"
   ]
  },
  {
   "cell_type": "code",
   "execution_count": 53,
   "metadata": {},
   "outputs": [
    {
     "data": {
      "text/plain": [
       "array([[1],\n",
       "       [4],\n",
       "       [7]])"
      ]
     },
     "execution_count": 53,
     "metadata": {},
     "output_type": "execute_result"
    }
   ],
   "source": [
    "arr2d[:, :1]"
   ]
  },
  {
   "attachments": {
    "image.png": {
     "image/png": "[encoded data removed]"
    }
   },
   "cell_type": "markdown",
   "metadata": {},
   "source": [
    "![image.png](attachment:image.png)"
   ]
  },
  {
   "cell_type": "markdown",
   "metadata": {},
   "source": [
    "## Boolean Indexing"
   ]
  },
  {
   "cell_type": "code",
   "execution_count": 31,
   "metadata": {},
   "outputs": [
    {
     "data": {
      "text/plain": [
       "array(['bob', 'joe', 'will', 'bob', 'will', 'joe', 'joe'], dtype='<U4')"
      ]
     },
     "execution_count": 31,
     "metadata": {},
     "output_type": "execute_result"
    }
   ],
   "source": [
    "names = np.array([\"bob\", \"joe\", \"will\", \"bob\", \"will\", \"joe\", \"joe\"])\n",
    "\n",
    "data =  np.array([[4, 7], [0, 2], [-5, 6], [0, 12], [-1, 12], [7, 4], [2, -5]])\n",
    "\n",
    "names"
   ]
  },
  {
   "cell_type": "code",
   "execution_count": 32,
   "metadata": {},
   "outputs": [
    {
     "data": {
      "text/plain": [
       "array([[ 4,  7],\n",
       "       [ 0,  2],\n",
       "       [-5,  6],\n",
       "       [ 0, 12],\n",
       "       [-1, 12],\n",
       "       [ 7,  4],\n",
       "       [ 2, -5]])"
      ]
     },
     "execution_count": 32,
     "metadata": {},
     "output_type": "execute_result"
    }
   ],
   "source": [
    "data"
   ]
  },
  {
   "cell_type": "code",
   "execution_count": 33,
   "metadata": {},
   "outputs": [
    {
     "data": {
      "text/plain": [
       "array([ True, False, False,  True, False, False, False])"
      ]
     },
     "execution_count": 33,
     "metadata": {},
     "output_type": "execute_result"
    }
   ],
   "source": [
    "names == 'bob'"
   ]
  },
  {
   "cell_type": "code",
   "execution_count": null,
   "metadata": {},
   "outputs": [
    {
     "data": {
      "text/plain": [
       "array([[ 4,  7],\n",
       "       [ 0, 12]])"
      ]
     },
     "execution_count": 34,
     "metadata": {},
     "output_type": "execute_result"
    }
   ],
   "source": [
    "data[names == 'bob']"
   ]
  },
  {
   "cell_type": "code",
   "execution_count": null,
   "metadata": {},
   "outputs": [],
   "source": [
    "# boolean match method\n",
    "array([[ 4,  7],  True\n",
    "       [ 0,  2],  False\n",
    "       [-5,  6],  False\n",
    "       [ 0, 12],  True\n",
    "       [-1, 12],  False\n",
    "       [ 7,  4],  False\n",
    "       [ 2, -5]]) False"
   ]
  },
  {
   "cell_type": "code",
   "execution_count": 35,
   "metadata": {},
   "outputs": [
    {
     "data": {
      "text/plain": [
       "array([[ 7],\n",
       "       [12]])"
      ]
     },
     "execution_count": 35,
     "metadata": {},
     "output_type": "execute_result"
    }
   ],
   "source": [
    "data[names == 'bob', 1:]"
   ]
  },
  {
   "cell_type": "code",
   "execution_count": 36,
   "metadata": {},
   "outputs": [
    {
     "data": {
      "text/plain": [
       "array([ 7, 12])"
      ]
     },
     "execution_count": 36,
     "metadata": {},
     "output_type": "execute_result"
    }
   ],
   "source": [
    "data[names == 'bob', 1]"
   ]
  },
  {
   "cell_type": "code",
   "execution_count": 38,
   "metadata": {},
   "outputs": [
    {
     "name": "stdout",
     "output_type": "stream",
     "text": [
      "[False  True  True False  True  True  True]\n",
      "[False  True  True False  True  True  True]\n"
     ]
    }
   ],
   "source": [
    "print(~(names == 'bob'))\n",
    "# “～”语法是取布尔值的相反值，在复杂布尔值算法下，非常方便。\n",
    "print((names != 'bob'))"
   ]
  },
  {
   "cell_type": "code",
   "execution_count": 39,
   "metadata": {},
   "outputs": [
    {
     "data": {
      "text/plain": [
       "array([[ 0,  2],\n",
       "       [-5,  6],\n",
       "       [-1, 12],\n",
       "       [ 7,  4],\n",
       "       [ 2, -5]])"
      ]
     },
     "execution_count": 39,
     "metadata": {},
     "output_type": "execute_result"
    }
   ],
   "source": [
    "data[names != 'bob']"
   ]
  },
  {
   "cell_type": "code",
   "execution_count": 40,
   "metadata": {},
   "outputs": [
    {
     "data": {
      "text/plain": [
       "array([[ 0,  2],\n",
       "       [-5,  6],\n",
       "       [-1, 12],\n",
       "       [ 7,  4],\n",
       "       [ 2, -5]])"
      ]
     },
     "execution_count": 40,
     "metadata": {},
     "output_type": "execute_result"
    }
   ],
   "source": [
    "cond = names == 'bob'\n",
    "\n",
    "data[~cond]"
   ]
  },
  {
   "cell_type": "markdown",
   "metadata": {},
   "source": [
    "通过布尔索引从数组中选择数据并将结果分配给新变量始终会创建数据的副本，即使返回的数组没有改变。\n",
    "\n",
    "Python 关键字 and 和 or 不适用于布尔数组。请使用 & （与）和 | （或）代替。"
   ]
  },
  {
   "cell_type": "code",
   "execution_count": 44,
   "metadata": {},
   "outputs": [
    {
     "data": {
      "text/plain": [
       "array([ True, False,  True,  True,  True, False, False])"
      ]
     },
     "execution_count": 44,
     "metadata": {},
     "output_type": "execute_result"
    }
   ],
   "source": [
    "mask = (names == 'bob') | (names == 'will')\n",
    "mask"
   ]
  },
  {
   "cell_type": "code",
   "execution_count": 52,
   "metadata": {},
   "outputs": [
    {
     "data": {
      "text/plain": [
       "array([False, False, False, False, False, False, False])"
      ]
     },
     "execution_count": 52,
     "metadata": {},
     "output_type": "execute_result"
    }
   ],
   "source": [
    "mask2 = (names == 'bob') & (names == 'will')\n",
    "mask2"
   ]
  },
  {
   "cell_type": "markdown",
   "metadata": {},
   "source": [
    "使用布尔数组设置值的方法"
   ]
  },
  {
   "cell_type": "code",
   "execution_count": null,
   "metadata": {},
   "outputs": [
    {
     "data": {
      "text/plain": [
       "array([[ 4,  7],\n",
       "       [ 0,  2],\n",
       "       [55,  6],\n",
       "       [ 0, 12],\n",
       "       [55, 12],\n",
       "       [ 7,  4],\n",
       "       [ 2, 55]])"
      ]
     },
     "execution_count": 46,
     "metadata": {},
     "output_type": "execute_result"
    }
   ],
   "source": [
    "data[data < 0] = 55 # Set all negative values to 55\n",
    "data"
   ]
  },
  {
   "cell_type": "code",
   "execution_count": 50,
   "metadata": {},
   "outputs": [
    {
     "data": {
      "text/plain": [
       "array([[7, 1],\n",
       "       [0, 1],\n",
       "       [7, 1],\n",
       "       [7, 1],\n",
       "       [7, 1],\n",
       "       [7, 1],\n",
       "       [2, 1]])"
      ]
     },
     "execution_count": 50,
     "metadata": {},
     "output_type": "execute_result"
    }
   ],
   "source": [
    "data[:, 1] = 1\n",
    "data"
   ]
  },
  {
   "cell_type": "code",
   "execution_count": 51,
   "metadata": {},
   "outputs": [
    {
     "data": {
      "text/plain": [
       "array([[7, 1],\n",
       "       [0, 1],\n",
       "       [7, 1],\n",
       "       [7, 1],\n",
       "       [7, 1],\n",
       "       [7, 1],\n",
       "       [2, 1]])"
      ]
     },
     "execution_count": 51,
     "metadata": {},
     "output_type": "execute_result"
    }
   ],
   "source": [
    "data[names != 'joe', 0] = 7\n",
    "data"
   ]
  },
  {
   "cell_type": "markdown",
   "metadata": {},
   "source": [
    "## fancy indexing\n",
    "与普通索引的区别\n",
    "- 普通索引 arr[1:3] 会选择连续的行（从索引1到索引2）\n",
    "- 花式索引 arr[[4, 3, 0, 6]] 允许您选择任意行并按照您指定的顺序排列"
   ]
  },
  {
   "cell_type": "code",
   "execution_count": 53,
   "metadata": {},
   "outputs": [
    {
     "data": {
      "text/plain": [
       "array([[0., 0., 0., 0.],\n",
       "       [0., 0., 0., 0.],\n",
       "       [0., 0., 0., 0.],\n",
       "       [0., 0., 0., 0.],\n",
       "       [0., 0., 0., 0.],\n",
       "       [0., 0., 0., 0.],\n",
       "       [0., 0., 0., 0.],\n",
       "       [0., 0., 0., 0.]])"
      ]
     },
     "execution_count": 53,
     "metadata": {},
     "output_type": "execute_result"
    }
   ],
   "source": [
    "arr = np.zeros((8,4))\n",
    "arr"
   ]
  },
  {
   "cell_type": "code",
   "execution_count": 59,
   "metadata": {},
   "outputs": [
    {
     "data": {
      "text/plain": [
       "array([[0., 0., 0., 0.],\n",
       "       [1., 1., 1., 1.],\n",
       "       [2., 2., 2., 2.],\n",
       "       [3., 3., 3., 3.],\n",
       "       [4., 4., 4., 4.],\n",
       "       [5., 5., 5., 5.],\n",
       "       [6., 6., 6., 6.],\n",
       "       [7., 7., 7., 7.]])"
      ]
     },
     "execution_count": 59,
     "metadata": {},
     "output_type": "execute_result"
    }
   ],
   "source": [
    "for i in range(8):\n",
    "    arr[i] = i # 为数组赋值1-8\n",
    "arr"
   ]
  },
  {
   "cell_type": "code",
   "execution_count": 60,
   "metadata": {},
   "outputs": [
    {
     "data": {
      "text/plain": [
       "array([[4., 4., 4., 4.],\n",
       "       [3., 3., 3., 3.],\n",
       "       [0., 0., 0., 0.],\n",
       "       [6., 6., 6., 6.]])"
      ]
     },
     "execution_count": 60,
     "metadata": {},
     "output_type": "execute_result"
    }
   ],
   "source": [
    "# 按特定顺序选择行的子集\n",
    "arr[[4, 3, 0, 6]] # 双中括号 == 花式索引"
   ]
  },
  {
   "cell_type": "code",
   "execution_count": 61,
   "metadata": {},
   "outputs": [
    {
     "data": {
      "text/plain": [
       "array([[5., 5., 5., 5.],\n",
       "       [3., 3., 3., 3.],\n",
       "       [1., 1., 1., 1.]])"
      ]
     },
     "execution_count": 61,
     "metadata": {},
     "output_type": "execute_result"
    }
   ],
   "source": [
    "arr[[-3, -5, -7]]"
   ]
  },
  {
   "cell_type": "code",
   "execution_count": 83,
   "metadata": {},
   "outputs": [
    {
     "data": {
      "text/plain": [
       "array([[ 0,  1,  2,  3],\n",
       "       [ 4,  5,  6,  7],\n",
       "       [ 8,  9, 10, 11],\n",
       "       [12, 13, 14, 15],\n",
       "       [16, 17, 18, 19],\n",
       "       [20, 21, 22, 23],\n",
       "       [24, 25, 26, 27],\n",
       "       [28, 29, 30, 31]])"
      ]
     },
     "execution_count": 83,
     "metadata": {},
     "output_type": "execute_result"
    }
   ],
   "source": [
    "arr =  np.arange(32).reshape((8,4))\n",
    "arr"
   ]
  },
  {
   "cell_type": "code",
   "execution_count": 84,
   "metadata": {},
   "outputs": [
    {
     "data": {
      "text/plain": [
       "array([ 4, 23, 29, 10])"
      ]
     },
     "execution_count": 84,
     "metadata": {},
     "output_type": "execute_result"
    }
   ],
   "source": [
    "index_arr = arr[[1, 5, 7, 2], [0, 3, 1, 2]]\n",
    "index_arr\n",
    "#  * 第一个列表 [1, 5, 7, 2] 是 行索引。\n",
    "#  * 第二个列表 [0, 3, 1, 2] 是 列索引。\n",
    "# 现在，我们根据这些坐标从原始数组 arr 中提取对应的元素：\n",
    "#  * arr[1, 0] -> 在 arr 中找到第1行、第0列的元素，即 4。\n",
    "#  * arr[5, 3] -> 在 arr 中找到第5行、第3列的元素，即 23。\n",
    "#  * arr[7, 1] -> 在 arr 中找到第7行、第1列的元素，即 29。\n",
    "#  * arr[2, 2] -> 在 arr 中找到第2行、第2列的元素，即 10"
   ]
  },
  {
   "cell_type": "code",
   "execution_count": 85,
   "metadata": {},
   "outputs": [
    {
     "name": "stdout",
     "output_type": "stream",
     "text": [
      "[[ 0  1  2  3]\n",
      " [ 4  5  6  7]\n",
      " [ 8  9 10 11]\n",
      " [12 13 14 15]\n",
      " [16 17 18 19]\n",
      " [20 21 22 23]\n",
      " [24 25 26 27]\n",
      " [28 29 30 31]]\n",
      "[0 0 0 0]\n"
     ]
    }
   ],
   "source": [
    "index_arr[:] = 0\n",
    "print(arr)\n",
    "print(index_arr)"
   ]
  },
  {
   "cell_type": "code",
   "execution_count": 71,
   "metadata": {},
   "outputs": [
    {
     "data": {
      "text/plain": [
       "array([[ 0,  1,  2,  3],\n",
       "       [ 0,  5,  6,  7],\n",
       "       [ 8,  9,  0, 11],\n",
       "       [12, 13, 14, 15],\n",
       "       [16, 17, 18, 19],\n",
       "       [20, 21, 22,  0],\n",
       "       [24, 25, 26, 27],\n",
       "       [28,  0, 30, 31]])"
      ]
     },
     "execution_count": 71,
     "metadata": {},
     "output_type": "execute_result"
    }
   ],
   "source": [
    "arr[[1, 5, 7, 2], [0, 3, 1, 2]] = 0\n",
    "arr"
   ]
  },
  {
   "cell_type": "code",
   "execution_count": null,
   "metadata": {},
   "outputs": [
    {
     "data": {
      "text/plain": [
       "array([[32, 33, 34, 35],\n",
       "       [36, 37, 38, 39],\n",
       "       [40, 41, 42, 43],\n",
       "       [44, 45, 46, 47],\n",
       "       [48, 49, 50, 51],\n",
       "       [52, 53, 54, 55],\n",
       "       [56, 57, 58, 59],\n",
       "       [60, 61, 62, 63]])"
      ]
     },
     "execution_count": 74,
     "metadata": {},
     "output_type": "execute_result"
    }
   ],
   "source": [
    "arr_chain = np.arange(32,64).reshape(8, 4)\n",
    "arr_chain"
   ]
  },
  {
   "cell_type": "code",
   "execution_count": 75,
   "metadata": {},
   "outputs": [
    {
     "data": {
      "text/plain": [
       "array([[36, 39, 37, 38],\n",
       "       [52, 55, 53, 54],\n",
       "       [60, 63, 61, 62],\n",
       "       [40, 43, 41, 42]])"
      ]
     },
     "execution_count": 75,
     "metadata": {},
     "output_type": "execute_result"
    }
   ],
   "source": [
    "arr_chain[[1, 5, 7, 2]][:, [0, 3, 1, 2]]"
   ]
  },
  {
   "cell_type": "code",
   "execution_count": null,
   "metadata": {},
   "outputs": [
    {
     "name": "stdout",
     "output_type": "stream",
     "text": [
      "--- 行为1: 变量重新赋值 ---\n",
      "index_arr2_reassigned 的值现在是: 0\n",
      "[[ 0  1  2  3]\n",
      " [ 0  5  6  7]\n",
      " [ 8  9  0 11]\n",
      " [12 13 14 15]\n",
      " [16 17 18 19]\n",
      " [20 21 22  0]]\n",
      "\n",
      "==============================\n",
      "\n",
      "--- 行为2: 就地修改视图内容 ---\n",
      "index_arr2_view 的值现在是:\n",
      "[[0 0 0 0]\n",
      " [0 0 0 0]\n",
      " [0 0 0 0]\n",
      " [0 0 0 0]\n",
      " [0 0 0 0]]\n",
      "原数组 arr 是否改变？\n",
      "[[ 0  0  0  0]\n",
      " [ 0  0  0  0]\n",
      " [ 0  0  0  0]\n",
      " [ 0  0  0  0]\n",
      " [ 0  0  0  0]\n",
      " [20 21 22  0]]\n"
     ]
    }
   ],
   "source": [
    "# 原始数组\n",
    "arr = np.array([[ 0,  1,  2,  3],\n",
    "                [ 0,  5,  6,  7],\n",
    "                [ 8,  9,  0, 11],\n",
    "                [12, 13, 14, 15],\n",
    "                [16, 17, 18, 19],\n",
    "                [20, 21, 22,  0]])\n",
    "\n",
    "# --- 你的操作：变量重新赋值 ---\n",
    "print(\"--- 行为1: 变量重新赋值 ---\")\n",
    "index_arr2_reassigned = arr[0:5]\n",
    "index_arr2_reassigned = 0 # 只是让变量名指向了整数0\n",
    "print(f\"index_arr2_reassigned 的值现在是: {index_arr2_reassigned}\")\n",
    "\n",
    "print(arr) # arr 没有任何变化\n",
    "\n",
    "# --- 正确的修改方式：就地修改 ---\n",
    "print(\"--- 行为2: 就地修改视图内容 ---\")\n",
    "# 重新获取视图，避免被上面的操作影响\n",
    "index_arr2_view = arr[0:5]\n",
    "index_arr2_view[:] = 0 # 修改视图的所有元素内容\n",
    "print(f\"index_arr2_view 的值现在是:\\n{index_arr2_view}\")\n",
    "print(arr) # arr 的前5行被成功修改为"
   ]
  },
  {
   "cell_type": "markdown",
   "metadata": {},
   "source": [
    "## Transposing Arrays and Swapping Axes"
   ]
  },
  {
   "cell_type": "code",
   "execution_count": 87,
   "metadata": {},
   "outputs": [
    {
     "name": "stdout",
     "output_type": "stream",
     "text": [
      "[[ 0  1  2  3  4]\n",
      " [ 5  6  7  8  9]\n",
      " [10 11 12 13 14]]\n",
      "[[ 0  5 10]\n",
      " [ 1  6 11]\n",
      " [ 2  7 12]\n",
      " [ 3  8 13]\n",
      " [ 4  9 14]]\n"
     ]
    }
   ],
   "source": [
    "arr_t = np.arange(15).reshape(3,5)\n",
    "print(arr_t)\n",
    "print(arr_t.T)"
   ]
  },
  {
   "cell_type": "markdown",
   "metadata": {},
   "source": [
    "矩阵乘法的规则是：结果矩阵中第 i 行、第 j 列的元素，等于第一个矩阵的第 i 行与第二个矩阵的第 j 列的点积\n"
   ]
  },
  {
   "cell_type": "code",
   "execution_count": 89,
   "metadata": {},
   "outputs": [
    {
     "name": "stdout",
     "output_type": "stream",
     "text": [
      "[[ 0  1  0]\n",
      " [ 1  2 -2]\n",
      " [ 6  3  2]\n",
      " [-1  0 -1]\n",
      " [ 1  0  1]]\n"
     ]
    },
    {
     "data": {
      "text/plain": [
       "array([[39, 20, 12],\n",
       "       [20, 14,  2],\n",
       "       [12,  2, 10]])"
      ]
     },
     "execution_count": 89,
     "metadata": {},
     "output_type": "execute_result"
    }
   ],
   "source": [
    "arr = np.array([[0, 1, 0], [1, 2, -2], [6, 3, 2], [-1, 0, -1], [1, 0, 1]])\n",
    "\n",
    "print(arr)\n",
    "\n",
    "np.dot(arr.T, arr)"
   ]
  },
  {
   "cell_type": "code",
   "execution_count": null,
   "metadata": {},
   "outputs": [],
   "source": [
    "      我们来手动计算结果矩阵的第一个元素 `[0, 0]` (值为39) 是如何得到的：\n",
    "\n",
    "       * 取 arr.T 的 第0行: [0, 1, 6, -1, 1]\n",
    "       * 取 arr 的 第0列: [0, 1, 6, -1, 1]\n",
    "       * 计算它们的点积：\n",
    "          (0*0) + (1*1) + (6*6) + (-1*-1) + (1*1) = 0 + 1 + 36 + 1 + 1 = 39\n",
    "\n",
    "      再来计算一个，比如结果矩阵的 `[1, 2]` 元素 (值为2)：\n",
    "\n",
    "       * 取 arr.T 的 第1行: [1, 2, 3, 0, 0]\n",
    "       * 取 arr 的 第2列: [0, -2, 2, -1, 1]\n",
    "       * 计算它们的点积：\n",
    "          (1*0) + (2*-2) + (3*2) + (0*-1) + (0*1) = 0 - 4 + 6 + 0 + 0 = 2\n",
    "\n",
    "      以此类推，计算出整个 3x3 矩阵的所有元素。\n",
    "      \n",
    "   * 维度匹配: 只有当第一个矩阵的列数 (arr.T 的列数 = 5) 等于第二个矩阵的行数 (arr 的行数 = 5) 时，矩阵乘法才能进行。\n",
    "   * 结果维度: 结果矩阵的形状由第一个矩阵的行数和第二个矩阵的列数决定，即 (3, 3)。\n",
    "   * 应用: 这个操作在很多领域都有应用，例如在统计学中计算协方差矩阵，或是在机器学习中用于降维算法（如PCA）的计算。"
   ]
  },
  {
   "cell_type": "code",
   "execution_count": null,
   "metadata": {},
   "outputs": [
    {
     "data": {
      "text/plain": [
       "array([[39, 20, 12],\n",
       "       [20, 14,  2],\n",
       "       [12,  2, 10]])"
      ]
     },
     "execution_count": 90,
     "metadata": {},
     "output_type": "execute_result"
    }
   ],
   "source": [
    "arr.T @ arr # matrix multiplication 等效于 np.dot(arr, arr)"
   ]
  },
  {
   "cell_type": "code",
   "execution_count": 91,
   "metadata": {},
   "outputs": [
    {
     "data": {
      "text/plain": [
       "array([[ 0,  1,  6, -1,  1],\n",
       "       [ 1,  2,  3,  0,  0],\n",
       "       [ 0, -2,  2, -1,  1]])"
      ]
     },
     "execution_count": 91,
     "metadata": {},
     "output_type": "execute_result"
    }
   ],
   "source": [
    "arr.swapaxes(0, 1) # 等效于 arr.T"
   ]
  },
  {
   "cell_type": "markdown",
   "metadata": {},
   "source": [
    "# 4.2 Pseudorandom Number Generation 伪随机生成"
   ]
  },
  {
   "cell_type": "markdown",
   "metadata": {},
   "source": [
    "numpy.random 模块补充了内置的 Python  随机模块，其中包含从多种概率分布中高效生成整个样本值数组的函数。例如，您可以使用 numpy.random.standard_normal 以下命令从标准正态分布中获得 4 × 4 个样本数组："
   ]
  },
  {
   "cell_type": "code",
   "execution_count": 92,
   "metadata": {},
   "outputs": [
    {
     "data": {
      "text/plain": [
       "array([[ 1.13100194,  1.15464906,  0.12326616,  0.71308105],\n",
       "       [ 0.36021689, -0.25096   ,  2.05267325, -0.86824966],\n",
       "       [-0.13533463,  0.86761491, -0.43994816, -0.37370725],\n",
       "       [ 0.5207618 ,  1.52162393, -0.29357451,  0.15722341]])"
      ]
     },
     "execution_count": 92,
     "metadata": {},
     "output_type": "execute_result"
    }
   ],
   "source": [
    "samples = np.random.standard_normal(size = (4,4))\n",
    "samples"
   ]
  },
  {
   "cell_type": "markdown",
   "metadata": {},
   "source": [
    "python built-in method 🆚 numpy method"
   ]
  },
  {
   "cell_type": "code",
   "execution_count": 93,
   "metadata": {},
   "outputs": [
    {
     "name": "stdout",
     "output_type": "stream",
     "text": [
      "485 ms ± 13.9 ms per loop (mean ± std. dev. of 7 runs, 1 loop each)\n",
      "33.6 ms ± 1.07 ms per loop (mean ± std. dev. of 7 runs, 10 loops each)\n"
     ]
    }
   ],
   "source": [
    "from random import normalvariate\n",
    "\n",
    "N = 1_000_000\n",
    "\n",
    "%timeit samples = [normalvariate(0, 1) for _ in range(N)]\n",
    "%timeit np.random.standard_normal(N)"
   ]
  },
  {
   "cell_type": "markdown",
   "metadata": {},
   "source": [
    "explicit generator 显式生成器"
   ]
  },
  {
   "cell_type": "code",
   "execution_count": 95,
   "metadata": {},
   "outputs": [
    {
     "data": {
      "text/plain": [
       "array([[-1.42382504,  1.26372846, -0.87066174],\n",
       "       [-0.25917323, -0.07534331, -0.74088465]])"
      ]
     },
     "execution_count": 95,
     "metadata": {},
     "output_type": "execute_result"
    }
   ],
   "source": [
    "rng = np.random.default_rng(seed=12345)\n",
    "data = rng.standard_normal((2,3))\n",
    "data"
   ]
  },
  {
   "cell_type": "code",
   "execution_count": 96,
   "metadata": {},
   "outputs": [
    {
     "data": {
      "text/plain": [
       "numpy.random._generator.Generator"
      ]
     },
     "execution_count": 96,
     "metadata": {},
     "output_type": "execute_result"
    }
   ],
   "source": [
    "type(rng)"
   ]
  },
  {
   "cell_type": "markdown",
   "metadata": {},
   "source": [
    "# 4.3 Universal Functions: Fast Element-Wise Array Functions\n",
    "快速元素数组函数"
   ]
  },
  {
   "cell_type": "code",
   "execution_count": null,
   "metadata": {},
   "outputs": [
    {
     "name": "stdout",
     "output_type": "stream",
     "text": [
      "[0.         1.         1.41421356 1.73205081 2.         2.23606798\n",
      " 2.44948974 2.64575131 2.82842712 3.        ]\n",
      "[1.00000000e+00 2.71828183e+00 7.38905610e+00 2.00855369e+01\n",
      " 5.45981500e+01 1.48413159e+02 4.03428793e+02 1.09663316e+03\n",
      " 2.98095799e+03 8.10308393e+03]\n"
     ]
    }
   ],
   "source": [
    "arr = np.arange(10)\n",
    "print(np.sqrt(arr)) # sqrt ^0.5\n",
    "print(np.exp(arr)) # e^x"
   ]
  },
  {
   "cell_type": "code",
   "execution_count": null,
   "metadata": {},
   "outputs": [
    {
     "name": "stdout",
     "output_type": "stream",
     "text": [
      "[ 0.7519394  -0.65876032 -1.22867499  0.25755777  0.31290292]\n",
      "[-0.13081169  1.26998312 -0.09296246 -0.06615089 -1.10821447]\n",
      "[ 0.7519394   1.26998312 -0.09296246  0.25755777  0.31290292]\n",
      "[ 0.62112771  0.6112228  -1.32163744  0.19140688 -0.79531155]\n"
     ]
    }
   ],
   "source": [
    "x = rng.standard_normal(5)\n",
    "y = rng.standard_normal(5)\n",
    "print(x)\n",
    "print(y)\n",
    "print(np.maximum(x,y)) \n",
    "print(np.add(x,y)) "
   ]
  },
  {
   "cell_type": "code",
   "execution_count": 103,
   "metadata": {},
   "outputs": [
    {
     "data": {
      "text/plain": [
       "array([0.67978425, 6.73538882, 0.3057201 , 0.354573  , 2.16827269,\n",
       "       1.3874183 , 2.65126193])"
      ]
     },
     "execution_count": 103,
     "metadata": {},
     "output_type": "execute_result"
    }
   ],
   "source": [
    "arr = rng.standard_normal(7) * 5\n",
    "arr"
   ]
  },
  {
   "cell_type": "code",
   "execution_count": null,
   "metadata": {},
   "outputs": [
    {
     "name": "stdout",
     "output_type": "stream",
     "text": [
      "[0.67978425 0.73538882 0.3057201  0.354573   0.16827269 0.3874183\n",
      " 0.65126193]\n"
     ]
    },
    {
     "data": {
      "text/plain": [
       "array([0., 6., 0., 0., 2., 1., 2.])"
      ]
     },
     "execution_count": 105,
     "metadata": {},
     "output_type": "execute_result"
    }
   ],
   "source": [
    "remainder, whole_part = np.modf(arr) # 返回小数部分和整数部分\n",
    "print(remainder)\n",
    "whole_part"
   ]
  },
  {
   "cell_type": "markdown",
   "metadata": {},
   "source": [
    "Ufuncs 接受一个可选的 out 参数，该参数允许它们将结果分配给现有数组（通常为 out = np.empty_like(x) 或 原对象），而不是创建一个新数组。因为 ufuncs 每运行一次，就会创建一块新的内存，所以通常情况下，out 参数省内存"
   ]
  },
  {
   "cell_type": "code",
   "execution_count": null,
   "metadata": {},
   "outputs": [
    {
     "name": "stdout",
     "output_type": "stream",
     "text": [
      "[0.67978425 6.73538882 0.3057201  0.354573   2.16827269 1.3874183\n",
      " 2.65126193]\n",
      "[1.67978425 7.73538882 1.3057201  1.354573   3.16827269 2.3874183\n",
      " 3.65126193]\n",
      "[1.67978425 7.73538882 1.3057201  1.354573   3.16827269 2.3874183\n",
      " 3.65126193]\n"
     ]
    }
   ],
   "source": [
    "arr\n",
    "print(arr)\n",
    "\n",
    "out = np.zeros_like(arr)\n",
    "# 输出：[0. 0. 0. 0. 0. 0. 0.]\n",
    "\n",
    "np.add(arr, 1, out=out) # 将数组状态存到out中\n",
    "np.add(arr, 1, out=arr) # 将结果存到arr中\n",
    "\n",
    "print(out)\n",
    "print(arr)\n",
    "# 结果相同"
   ]
  },
  {
   "cell_type": "markdown",
   "metadata": {},
   "source": [
    "# 4.4 Array-Oriented Programming with Arrays\n",
    "面向数组的编程"
   ]
  },
  {
   "cell_type": "markdown",
   "metadata": {},
   "source": [
    "使用 NumPy 数组使您能够将多种类型的数据处理任务表示为简洁的数组表达式，否则可能需要编写循环。这种用数组表达式替换显式循环的做法被一些人称为矢量化 。一般来说，矢量化数组运算通常比纯 Python 等效运算快得多。"
   ]
  },
  {
   "cell_type": "code",
   "execution_count": 115,
   "metadata": {},
   "outputs": [
    {
     "name": "stdout",
     "output_type": "stream",
     "text": [
      "[-50 -49 -48 -47 -46 -45 -44 -43 -42 -41 -40 -39 -38 -37 -36 -35 -34 -33\n",
      " -32 -31 -30 -29 -28 -27 -26 -25 -24 -23 -22 -21 -20 -19 -18 -17 -16 -15\n",
      " -14 -13 -12 -11 -10  -9  -8  -7  -6  -5  -4  -3  -2  -1   0   1   2   3\n",
      "   4   5   6   7   8   9  10  11  12  13  14  15  16  17  18  19  20  21\n",
      "  22  23  24  25  26  27  28  29  30  31  32  33  34  35  36  37  38  39\n",
      "  40  41  42  43  44  45  46  47  48  49]\n"
     ]
    }
   ],
   "source": [
    "points = np.arange(-50, 50, 1) # numpy.arange([start, ]stop, [step, ], dtype=None)\n",
    "# -5到5之间，步长为1\n",
    "print(points)"
   ]
  },
  {
   "cell_type": "markdown",
   "metadata": {},
   "source": [
    "meshgrid 的作用不是创建坐标系本身，而是在坐标系中生成一个用于计算的“坐标网格”。\n",
    "\n",
    "  这是一个很重要的区别，我们可以用一个比喻来理解：\n",
    "\n",
    "   * 坐标系 (Coordinate System): 就像一张空白的坐标纸。它定义了规则，比如有 x 轴和 y\n",
    "     轴，并且互相垂直。这个“框架”是抽象的，一直都存在。\n",
    "   * `meshgrid`: 就像你拿着一支铅笔，在这张坐标纸上，把你关心的区域（比如 x 从-5到5，y\n",
    "     从-5到5）内，所有的格点交叉处都点上一个点。\n",
    "\n",
    "  所以，meshgrid 做的是一个具体化、实例化的工作。它不说“这是一个坐标系”，而是说“在当前坐标系\n",
    "  里，给我所有这些我感兴趣的点 (x, y) 的坐标，并且把它们整理好”。"
   ]
  },
  {
   "cell_type": "code",
   "execution_count": 116,
   "metadata": {},
   "outputs": [
    {
     "data": {
      "text/plain": [
       "array([[-50, -50, -50, ..., -50, -50, -50],\n",
       "       [-49, -49, -49, ..., -49, -49, -49],\n",
       "       [-48, -48, -48, ..., -48, -48, -48],\n",
       "       ...,\n",
       "       [ 47,  47,  47, ...,  47,  47,  47],\n",
       "       [ 48,  48,  48, ...,  48,  48,  48],\n",
       "       [ 49,  49,  49, ...,  49,  49,  49]], shape=(100, 100))"
      ]
     },
     "execution_count": 116,
     "metadata": {},
     "output_type": "execute_result"
    }
   ],
   "source": [
    "xs, ys = np.meshgrid(points, points)\n",
    "ys"
   ]
  },
  {
   "cell_type": "code",
   "execution_count": 118,
   "metadata": {},
   "outputs": [
    {
     "data": {
      "text/plain": [
       "array([[70.71067812, 70.00714249, 69.3108938 , ..., 68.62215386,\n",
       "        69.3108938 , 70.00714249],\n",
       "       [70.00714249, 69.29646456, 68.59300256, ..., 67.89698079,\n",
       "        68.59300256, 69.29646456],\n",
       "       [69.3108938 , 68.59300256, 67.88225099, ..., 67.17886572,\n",
       "        67.88225099, 68.59300256],\n",
       "       ...,\n",
       "       [68.62215386, 67.89698079, 67.17886572, ..., 66.46803743,\n",
       "        67.17886572, 67.89698079],\n",
       "       [69.3108938 , 68.59300256, 67.88225099, ..., 67.17886572,\n",
       "        67.88225099, 68.59300256],\n",
       "       [70.00714249, 69.29646456, 68.59300256, ..., 67.89698079,\n",
       "        68.59300256, 69.29646456]], shape=(100, 100))"
      ]
     },
     "execution_count": 118,
     "metadata": {},
     "output_type": "execute_result"
    }
   ],
   "source": [
    " z = np.sqrt(xs ** 2 + ys ** 2)\n",
    " z"
   ]
  },
  {
   "cell_type": "code",
   "execution_count": 4,
   "metadata": {},
   "outputs": [
    {
     "name": "stdout",
     "output_type": "stream",
     "text": [
      "[[1 2 3]\n",
      " [1 2 3]]\n",
      "[[4 4 4]\n",
      " [5 5 5]]\n"
     ]
    }
   ],
   "source": [
    "a = [1, 2, 3]\n",
    "b = [4, 5]\n",
    "x, y = np.meshgrid(a, b) # 向量化之后，才能用于 numpy ufuncs 的计算\n",
    "print(x)\n",
    "print(y)"
   ]
  },
  {
   "cell_type": "code",
   "execution_count": 5,
   "metadata": {},
   "outputs": [
    {
     "data": {
      "text/plain": [
       "array([[2.23606798, 2.44948974, 2.64575131],\n",
       "       [2.44948974, 2.64575131, 2.82842712]])"
      ]
     },
     "execution_count": 5,
     "metadata": {},
     "output_type": "execute_result"
    }
   ],
   "source": [
    "cal = np.sqrt(x + y)\n",
    "cal"
   ]
  },
  {
   "cell_type": "code",
   "execution_count": 127,
   "metadata": {},
   "outputs": [
    {
     "name": "stderr",
     "output_type": "stream",
     "text": [
      "Matplotlib is building the font cache; this may take a moment.\n"
     ]
    },
    {
     "data": {
      "text/plain": [
       "<matplotlib.image.AxesImage at 0x117aa8f70>"
      ]
     },
     "execution_count": 127,
     "metadata": {},
     "output_type": "execute_result"
    },
    {
     "data": {
      "image/png": "[encoded data removed]",
      "text/plain": [
       "<Figure size 640x480 with 1 Axes>"
      ]
     },
     "metadata": {},
     "output_type": "display_data"
    }
   ],
   "source": [
    "import matplotlib.pyplot as plt\n",
    "plt.imshow(z, cmap=plt.cm.gray, extent=[-5, 5, -5, 5])"
   ]
  },
  {
   "cell_type": "code",
   "execution_count": 1,
   "metadata": {},
   "outputs": [
    {
     "ename": "NameError",
     "evalue": "name 'plt' is not defined",
     "output_type": "error",
     "traceback": [
      "\u001b[0;31m---------------------------------------------------------------------------\u001b[0m",
      "\u001b[0;31mNameError\u001b[0m                                 Traceback (most recent call last)",
      "Cell \u001b[0;32mIn[1], line 1\u001b[0m\n\u001b[0;32m----> 1\u001b[0m \u001b[43mplt\u001b[49m\u001b[38;5;241m.\u001b[39mclose(\u001b[38;5;124m\"\u001b[39m\u001b[38;5;124mall\u001b[39m\u001b[38;5;124m\"\u001b[39m)\n",
      "\u001b[0;31mNameError\u001b[0m: name 'plt' is not defined"
     ]
    }
   ],
   "source": [
    "plt.close(\"all\")"
   ]
  },
  {
   "cell_type": "markdown",
   "metadata": {},
   "source": [
    "## Expressing Conditional Logic as Array Operations"
   ]
  },
  {
   "cell_type": "markdown",
   "metadata": {},
   "source": [
    "numpy.where 函数是三元表达式 x if 条件 else y 的矢量化版本。"
   ]
  },
  {
   "cell_type": "code",
   "execution_count": null,
   "metadata": {},
   "outputs": [
    {
     "name": "stdout",
     "output_type": "stream",
     "text": [
      "[np.float64(1.1), np.float64(2.2), np.float64(1.3), np.float64(1.4), np.float64(2.5)]\n"
     ]
    }
   ],
   "source": [
    "import numpy as np\n",
    "xarr = np.array([1.1, 1.2, 1.3, 1.4, 1.5])\n",
    "yarr = np.array([2.1, 2.2, 2.3, 2.4, 2.5])\n",
    "cond = np.array([True, False, True, True, False])\n",
    "result1 = [(x if c else y) \n",
    "           for x, y, c in zip(xarr, yarr, cond)]\n",
    "print(result1)"
   ]
  },
  {
   "cell_type": "code",
   "execution_count": 5,
   "metadata": {},
   "outputs": [
    {
     "data": {
      "text/plain": [
       "array([1.1, 2.2, 1.3, 1.4, 2.5])"
      ]
     },
     "execution_count": 5,
     "metadata": {},
     "output_type": "execute_result"
    }
   ],
   "source": [
    "result = np.where(cond, xarr, yarr)\n",
    "result"
   ]
  },
  {
   "cell_type": "code",
   "execution_count": 9,
   "metadata": {},
   "outputs": [
    {
     "name": "stdout",
     "output_type": "stream",
     "text": [
      "[[-1.42382504  1.26372846 -0.87066174 -0.25917323]\n",
      " [-0.07534331 -0.74088465 -1.3677927   0.6488928 ]\n",
      " [ 0.36105811 -1.95286306  2.34740965  0.96849691]\n",
      " [-0.75938718  0.90219827 -0.46695317 -0.06068952]]\n",
      "[[False  True False False]\n",
      " [False False False  True]\n",
      " [ True False  True  True]\n",
      " [False  True False False]]\n",
      "[[-2  2 -2 -2]\n",
      " [-2 -2 -2  2]\n",
      " [ 2 -2  2  2]\n",
      " [-2  2 -2 -2]]\n",
      "[[-1.42382504  2.         -0.87066174 -0.25917323]\n",
      " [-0.07534331 -0.74088465 -1.3677927   2.        ]\n",
      " [ 2.         -1.95286306  2.          2.        ]\n",
      " [-0.75938718  2.         -0.46695317 -0.06068952]]\n"
     ]
    }
   ],
   "source": [
    "rng = np.random.default_rng(seed = 12345) # 创建显式生成器\n",
    "\n",
    "arr = rng.standard_normal((4,4))\n",
    "print(arr)\n",
    "\n",
    "print(arr > 0)\n",
    "\n",
    "result2 = np.where(arr > 0, 2, -2) # 2 if arr > 0 else -2\n",
    "print(result2)\n",
    "\n",
    "result3 = np.where(arr > 0, 2, arr) # 2 if arr > 0 else arr\n",
    "print(result3)"
   ]
  },
  {
   "cell_type": "markdown",
   "metadata": {},
   "source": [
    "## Mathematical and Statistical Methods"
   ]
  },
  {
   "cell_type": "code",
   "execution_count": null,
   "metadata": {},
   "outputs": [
    {
     "name": "stdout",
     "output_type": "stream",
     "text": [
      "[[ 0.78884434 -1.25666813  0.57585751  1.39897899]\n",
      " [ 1.32229806 -0.29969852  0.90291934 -1.62158273]\n",
      " [-0.15818926  0.44948393 -1.34360107 -0.08168759]\n",
      " [ 1.72473993  2.61815943  0.77736134  0.8286332 ]\n",
      " [-0.95898831 -1.20938829 -1.41229201  0.54154683]]\n",
      "0.17933634979615845\n",
      "0.17933634979615845\n",
      "3.586726995923169\n"
     ]
    }
   ],
   "source": [
    "from cgi import print_arguments\n",
    "\n",
    "\n",
    "arr = rng.standard_normal((5,4))\n",
    "print(arr)\n",
    "print(arr.mean()) # 既是方法\n",
    "print(np.mean(arr)) # 也是函数\n",
    "print(arr.sum())"
   ]
  },
  {
   "cell_type": "code",
   "execution_count": null,
   "metadata": {},
   "outputs": [
    {
     "name": "stdout",
     "output_type": "stream",
     "text": [
      "[ 0.54374095  0.06037768 -0.09995098  0.21317774]\n",
      "[ 0.37675318  0.07598404 -0.2834985   1.48722347 -0.75978045]\n"
     ]
    }
   ],
   "source": [
    "print(arr.mean(axis = 0)) # 沿着行计算均值\n",
    "print(arr.mean(axis = 1)) # 沿着列计算均值"
   ]
  },
  {
   "cell_type": "code",
   "execution_count": 13,
   "metadata": {},
   "outputs": [
    {
     "name": "stdout",
     "output_type": "stream",
     "text": [
      "[ 1  3  6 10 15 21 28 36 45]\n",
      "[     1      2      6     24    120    720   5040  40320 362880]\n"
     ]
    }
   ],
   "source": [
    "arr = np.array([1,2, 3, 4, 5, 6, 7, 8, 9])\n",
    "print(arr.cumsum()) # 累计和\n",
    "print(arr.cumprod()) # 累计积"
   ]
  },
  {
   "cell_type": "code",
   "execution_count": 17,
   "metadata": {},
   "outputs": [
    {
     "name": "stdout",
     "output_type": "stream",
     "text": [
      "[[1 2 3]\n",
      " [4 5 6]\n",
      " [7 8 9]]\n",
      "[[ 1  2  3]\n",
      " [ 5  7  9]\n",
      " [12 15 18]]\n",
      "[[ 1  3  6]\n",
      " [ 4  9 15]\n",
      " [ 7 15 24]]\n"
     ]
    }
   ],
   "source": [
    "arr = np.array([[1,2,3],[4,5,6],[7,8,9]])\n",
    "print(arr)\n",
    "print(arr.cumsum(axis=0)) # 沿着行累计\n",
    "print(arr.cumsum(axis=1)) # 沿着列累计"
   ]
  },
  {
   "cell_type": "markdown",
   "metadata": {},
   "source": [
    "## Methods for Boolean Arrays"
   ]
  },
  {
   "cell_type": "markdown",
   "metadata": {},
   "source": [
    "True = 1\n",
    "False = 0\n",
    "所以 arr.sum() 就是 arr 中 True 的个数"
   ]
  },
  {
   "cell_type": "code",
   "execution_count": 20,
   "metadata": {},
   "outputs": [
    {
     "name": "stdout",
     "output_type": "stream",
     "text": [
      "48\n",
      "52\n"
     ]
    }
   ],
   "source": [
    "arr = rng.standard_normal(100)\n",
    "print((arr>0).sum()) # 正数的个数\n",
    "print((arr<=0).sum()) # 非正数的个数"
   ]
  },
  {
   "cell_type": "markdown",
   "metadata": {},
   "source": [
    "any 和 all，对于布尔数组特别有用。any 测试数组中的一个或多个值是否为 True，而 all 检查每个值是否为 True："
   ]
  },
  {
   "cell_type": "code",
   "execution_count": null,
   "metadata": {},
   "outputs": [
    {
     "name": "stdout",
     "output_type": "stream",
     "text": [
      "True\n",
      "False\n",
      "True\n"
     ]
    }
   ],
   "source": [
    "print((arr>0).any()) # 数组中是否有正数\n",
    "print((arr>0).all()) # 数组中是否所有值都为正数\n",
    "\n",
    "print(arr.any()) # 这些方法也适用于非布尔数组，其中非零元素被视为 True。"
   ]
  },
  {
   "cell_type": "markdown",
   "metadata": {},
   "source": [
    "## sorting"
   ]
  },
  {
   "cell_type": "markdown",
   "metadata": {},
   "source": [
    ".sort(axis=1) 方法在原数组上修改"
   ]
  },
  {
   "cell_type": "code",
   "execution_count": null,
   "metadata": {},
   "outputs": [
    {
     "name": "stdout",
     "output_type": "stream",
     "text": [
      "[ 0.23911172 -1.30500814 -0.73123644 -1.62440684  0.00525051]\n",
      "[-1.62440684 -1.30500814 -0.73123644  0.00525051  0.23911172]\n"
     ]
    }
   ],
   "source": [
    "arr = rng.standard_normal(5)\n",
    "print(arr)\n",
    "arr.sort() # 数组的 sort() 方法会直接修改原始数组的内容，将元素按升序排列\n",
    "print(arr)"
   ]
  },
  {
   "cell_type": "code",
   "execution_count": 32,
   "metadata": {},
   "outputs": [
    {
     "name": "stdout",
     "output_type": "stream",
     "text": [
      "[[ 0.994308   -0.47829989 -0.85876457]\n",
      " [-0.93085029 -0.66189936  0.3865009 ]\n",
      " [ 0.84598829 -2.26994787 -0.01866817]\n",
      " [-1.10501888  0.68289973  0.91451849]\n",
      " [-0.77835212 -0.4494232  -0.95161863]]\n"
     ]
    }
   ],
   "source": [
    "arr = rng.standard_normal((5,3))\n",
    "print(arr)\n",
    "arr.sort(axis=0) # 按列排序"
   ]
  },
  {
   "cell_type": "code",
   "execution_count": 33,
   "metadata": {},
   "outputs": [
    {
     "name": "stdout",
     "output_type": "stream",
     "text": [
      "[[-1.10501888 -2.26994787 -0.95161863]\n",
      " [-0.93085029 -0.66189936 -0.85876457]\n",
      " [-0.77835212 -0.47829989 -0.01866817]\n",
      " [ 0.84598829 -0.4494232   0.3865009 ]\n",
      " [ 0.994308    0.68289973  0.91451849]]\n"
     ]
    }
   ],
   "source": [
    "print(arr)"
   ]
  },
  {
   "cell_type": "markdown",
   "metadata": {},
   "source": [
    "numpy.sort() 返回一个copy"
   ]
  },
  {
   "cell_type": "code",
   "execution_count": null,
   "metadata": {},
   "outputs": [
    {
     "name": "stdout",
     "output_type": "stream",
     "text": [
      "[  1   2   3 411  56   6   7   8   9]\n",
      "None\n"
     ]
    },
    {
     "data": {
      "text/plain": [
       "array([  1,   2,   3,   6,   7,   8,   9,  56, 411])"
      ]
     },
     "execution_count": 36,
     "metadata": {},
     "output_type": "execute_result"
    }
   ],
   "source": [
    "arr2 = np.array([1, 2, 3, 411, 56, 6, 7, 8, 9])\n",
    "print(arr2)\n",
    "print(arr2.sort()) # 返回 None\n",
    "np.sort(arr2) # 能直接返回值"
   ]
  },
  {
   "cell_type": "markdown",
   "metadata": {},
   "source": [
    "## Unique and Other Set Logic"
   ]
  },
  {
   "cell_type": "code",
   "execution_count": 37,
   "metadata": {},
   "outputs": [
    {
     "data": {
      "text/plain": [
       "array(['Bob', 'Joe', 'Will'], dtype='<U4')"
      ]
     },
     "execution_count": 37,
     "metadata": {},
     "output_type": "execute_result"
    }
   ],
   "source": [
    "names = np.array(['Bob', 'Joe', 'Will', 'Bob', 'Will', 'Joe', 'Joe'])\n",
    "np.unique(names)\n"
   ]
  },
  {
   "cell_type": "code",
   "execution_count": 38,
   "metadata": {},
   "outputs": [
    {
     "data": {
      "text/plain": [
       "array([1, 2, 3, 4, 7, 8])"
      ]
     },
     "execution_count": 38,
     "metadata": {},
     "output_type": "execute_result"
    }
   ],
   "source": [
    "ints = np.array([1, 2, 3, 4, 3, 3, 7, 8, 8])\n",
    "np.unique(ints)\n"
   ]
  },
  {
   "cell_type": "markdown",
   "metadata": {},
   "source": [
    "遍历数组，检查 value 是否在要求的 list 内"
   ]
  },
  {
   "cell_type": "code",
   "execution_count": 39,
   "metadata": {},
   "outputs": [
    {
     "name": "stderr",
     "output_type": "stream",
     "text": [
      "/var/folders/1m/2jsf455s4r7dx9t8l233n55c0000gp/T/ipykernel_59533/1741557438.py:2: DeprecationWarning: `in1d` is deprecated. Use `np.isin` instead.\n",
      "  np.in1d(values, [2, 3, 6])\n"
     ]
    },
    {
     "data": {
      "text/plain": [
       "array([ True, False, False,  True,  True, False,  True])"
      ]
     },
     "execution_count": 39,
     "metadata": {},
     "output_type": "execute_result"
    }
   ],
   "source": [
    "values = np.array([6, 0, 0, 3, 2, 5, 6])\n",
    "np.in1d(values, [2, 3, 6])\n"
   ]
  },
  {
   "cell_type": "markdown",
   "metadata": {},
   "source": [
    "# 4.5 File Input and Output with Arrays"
   ]
  },
  {
   "cell_type": "markdown",
   "metadata": {},
   "source": [
    "# 4.6 Linear Algebra 线性代数"
   ]
  },
  {
   "cell_type": "code",
   "execution_count": 40,
   "metadata": {},
   "outputs": [
    {
     "name": "stdout",
     "output_type": "stream",
     "text": [
      "[[1. 2. 3.]\n",
      " [4. 5. 6.]]\n",
      "[[ 6. 23.]\n",
      " [-1.  7.]\n",
      " [ 8.  9.]]\n"
     ]
    }
   ],
   "source": [
    "x = np.array([[1., 2., 3.], [4., 5., 6.]])\n",
    "y = np.array([[6., 23.], [-1, 7], [8, 9]])\n",
    "print(x)\n",
    "print(y)"
   ]
  },
  {
   "cell_type": "code",
   "execution_count": null,
   "metadata": {},
   "outputs": [
    {
     "data": {
      "text/plain": [
       "array([[ 28.,  64.],\n",
       "       [ 67., 181.]])"
      ]
     },
     "execution_count": 41,
     "metadata": {},
     "output_type": "execute_result"
    }
   ],
   "source": [
    "x.dot(y)"
   ]
  },
  {
   "cell_type": "code",
   "execution_count": 42,
   "metadata": {},
   "outputs": [
    {
     "data": {
      "text/plain": [
       "array([[ 28.,  64.],\n",
       "       [ 67., 181.]])"
      ]
     },
     "execution_count": 42,
     "metadata": {},
     "output_type": "execute_result"
    }
   ],
   "source": [
    "np.dot(x,y)"
   ]
  },
  {
   "cell_type": "code",
   "execution_count": 43,
   "metadata": {},
   "outputs": [
    {
     "data": {
      "text/plain": [
       "array([[ 28.,  64.],\n",
       "       [ 67., 181.]])"
      ]
     },
     "execution_count": 43,
     "metadata": {},
     "output_type": "execute_result"
    }
   ],
   "source": [
    "x@y"
   ]
  },
  {
   "cell_type": "code",
   "execution_count": 50,
   "metadata": {},
   "outputs": [
    {
     "name": "stdout",
     "output_type": "stream",
     "text": [
      "[1. 1. 1.]\n",
      "1\n",
      "(3,)\n"
     ]
    }
   ],
   "source": [
    "one = np.ones(3)\n",
    "print(one)\n",
    "print(np.ndim(one))\n",
    "print(one.shape)"
   ]
  },
  {
   "cell_type": "code",
   "execution_count": 47,
   "metadata": {},
   "outputs": [
    {
     "data": {
      "text/plain": [
       "array([ 6., 15.])"
      ]
     },
     "execution_count": 47,
     "metadata": {},
     "output_type": "execute_result"
    }
   ],
   "source": [
    "x @ one"
   ]
  },
  {
   "cell_type": "code",
   "execution_count": null,
   "metadata": {},
   "outputs": [
    {
     "data": {
      "text/plain": [
       "2"
      ]
     },
     "execution_count": 49,
     "metadata": {},
     "output_type": "execute_result"
    }
   ],
   "source": [
    "np.ndim(x) # x是二维数组"
   ]
  },
  {
   "cell_type": "markdown",
   "metadata": {},
   "source": [
    "numpy.linalg"
   ]
  },
  {
   "cell_type": "code",
   "execution_count": 65,
   "metadata": {},
   "outputs": [
    {
     "data": {
      "text/plain": [
       "array([[ 1.40307397,  0.03956219, -0.84903432, -1.70274272,  0.2242004 ],\n",
       "       [ 0.03956219,  0.40238273,  1.09585936,  0.8147855 , -0.50930074],\n",
       "       [-0.84903432,  1.09585936,  4.54438502,  4.02488382,  0.50778367],\n",
       "       [-1.70274272,  0.8147855 ,  4.02488382,  5.91600345, -1.33775575],\n",
       "       [ 0.2242004 , -0.50930074,  0.50778367, -1.33775575,  6.70133396]])"
      ]
     },
     "execution_count": 65,
     "metadata": {},
     "output_type": "execute_result"
    }
   ],
   "source": [
    "from numpy.linalg import inv, qr\n",
    "\n",
    "X = rng.standard_normal((5,5)) # 方块矩阵 X\n",
    "\n",
    "mat = X.T @ X # 通过 X.T @ X 的运算，构造出一个非常特殊的、性质优良的对称矩阵 mat。\n",
    "mat"
   ]
  },
  {
   "cell_type": "code",
   "execution_count": 66,
   "metadata": {},
   "outputs": [
    {
     "data": {
      "text/plain": [
       "array([[   9.25724597,  -53.83524723,   19.9991465 ,   -5.09515736,\n",
       "          -6.93371289],\n",
       "       [ -53.83524723,  359.97594781, -135.59186208,   37.79871078,\n",
       "          46.97910586],\n",
       "       [  19.9991465 , -135.59186208,   51.80807528,  -14.85620557,\n",
       "         -17.86541641],\n",
       "       [  -5.09515736,   37.79871078,  -14.85620557,    4.76156277,\n",
       "           5.1193978 ],\n",
       "       [  -6.93371289,   46.97910586,  -17.86541641,    5.1193978 ,\n",
       "           6.32729327]])"
      ]
     },
     "execution_count": 66,
     "metadata": {},
     "output_type": "execute_result"
    }
   ],
   "source": [
    "inv(mat)"
   ]
  },
  {
   "cell_type": "code",
   "execution_count": null,
   "metadata": {},
   "outputs": [
    {
     "data": {
      "text/plain": [
       "array([[ 1.00000000e+00,  9.76996262e-14,  1.50990331e-14,\n",
       "        -7.10542736e-15, -8.88178420e-15],\n",
       "       [-2.66453526e-15,  1.00000000e+00, -8.88178420e-15,\n",
       "         1.77635684e-15,  0.00000000e+00],\n",
       "       [ 0.00000000e+00,  2.13162821e-14,  1.00000000e+00,\n",
       "         7.10542736e-15,  0.00000000e+00],\n",
       "       [ 1.77635684e-15, -4.26325641e-14,  0.00000000e+00,\n",
       "         1.00000000e+00,  0.00000000e+00],\n",
       "       [ 7.10542736e-15, -5.68434189e-14,  2.84217094e-14,\n",
       "         0.00000000e+00,  1.00000000e+00]])"
      ]
     },
     "execution_count": 68,
     "metadata": {},
     "output_type": "execute_result"
    }
   ],
   "source": [
    "mat @ inv(mat) # 通过将 mat 和它的逆矩阵 inv(mat) 相乘，来验证逆矩阵的定义，最终得到单位矩阵。\n",
    "# output：\n",
    "# array([[ 1.,  0.,  0.,  0.,  0.],   \n",
    "#        [ 0.,  1.,  0.,  0.,  0.],   \n",
    "#        [ 0.,  0.,  1., -0.,  0.],   \n",
    "#        [ 0.,  0.,  0.,  1.,  0.],   \n",
    "#        [-0.,  0.,  0.,  0.,  1.]])"
   ]
  },
  {
   "cell_type": "markdown",
   "metadata": {},
   "source": [
    "# 4.7 Example: Random Walks"
   ]
  },
  {
   "cell_type": "code",
   "execution_count": 73,
   "metadata": {},
   "outputs": [],
   "source": [
    "import random\n",
    "position = 0\n",
    "walk = [position]\n",
    "nsteps = 1000\n",
    "for i in range(nsteps):\n",
    "    step = 1 if random.randint(0, 1) else -1\n",
    "    position += step\n",
    "    walk.append(position)"
   ]
  },
  {
   "cell_type": "code",
   "execution_count": 74,
   "metadata": {},
   "outputs": [
    {
     "data": {
      "text/plain": [
       "[<matplotlib.lines.Line2D at 0x11b0429b0>]"
      ]
     },
     "execution_count": 74,
     "metadata": {},
     "output_type": "execute_result"
    },
    {
     "data": {
      "image/png": "[encoded data removed]",
      "text/plain": [
       "<Figure size 640x480 with 1 Axes>"
      ]
     },
     "metadata": {},
     "output_type": "display_data"
    }
   ],
   "source": [
    "import matplotlib.pyplot as plt\n",
    "plt.plot(walk[:100])"
   ]
  },
  {
   "cell_type": "markdown",
   "metadata": {},
   "source": [
    "可以观察到 walk 是随机步长的累积总和，可以计算为数组表达式。因此，我使用 numpy.random 模块一次抽取 1,000 次抛硬币，将它们设置为 1 和 –1，然后计算累积总和："
   ]
  },
  {
   "cell_type": "code",
   "execution_count": null,
   "metadata": {},
   "outputs": [
    {
     "name": "stdout",
     "output_type": "stream",
     "text": [
      "[  1   0   1   0  -1   0   1   2   3   2   3   2   3   4   3   2   1   2\n",
      "   3   4   5   4   5   6   7   8   7   6   5   4   3   4   3   4   3   2\n",
      "   1   2   3   2   3   2   1   0   1   0  -1  -2  -3  -4  -3  -2  -3  -4\n",
      "  -5  -6  -7  -8  -9  -8  -7  -6  -5  -4  -5  -4  -3  -2  -1   0   1   2\n",
      "   3   4   3   4   5   4   3   2   3   2   3   4   5   4   5   6   5   4\n",
      "   3   2   3   2   3   2   1   0  -1   0  -1  -2  -1  -2  -1   0  -1  -2\n",
      "  -3  -4  -3  -4  -3  -4  -3  -4  -3  -4  -5  -6  -5  -6  -7  -8  -7  -8\n",
      "  -7  -8  -7  -8  -7  -8  -7  -8  -7  -8  -7  -6  -7  -8  -9  -8  -7  -8\n",
      "  -9  -8  -9  -8  -7  -8  -7  -6  -7  -8  -9 -10 -11 -10  -9  -8  -9  -8\n",
      "  -9 -10  -9 -10  -9  -8  -7  -8  -7  -6  -5  -6  -7  -6  -5  -6  -5  -6\n",
      "  -7  -8  -9 -10  -9  -8  -7  -6  -5  -6  -5  -6  -7  -8  -7  -6  -7  -8\n",
      "  -9 -10 -11 -12 -13 -14 -13 -12 -13 -14 -15 -14 -13 -14 -15 -14 -15 -16\n",
      " -17 -18 -19 -20 -21 -22 -23 -24 -25 -24 -23 -22 -23 -24 -23 -22 -21 -22\n",
      " -21 -20 -21 -20 -19 -20 -19 -20 -19 -20 -19 -20 -19 -18 -19 -20 -19 -20\n",
      " -21 -20 -21 -22 -23 -24 -23 -24 -23 -22 -23 -22 -21 -20 -21 -22 -23 -22\n",
      " -23 -24 -25 -24 -25 -24 -25 -24 -25 -24 -23 -24 -23 -24 -23 -22 -23 -22\n",
      " -23 -24 -23 -24 -23 -22 -21 -22 -21 -22 -21 -20 -19 -18 -19 -18 -17 -18\n",
      " -17 -18 -19 -18 -17 -18 -17 -18 -19 -20 -21 -22 -21 -20 -19 -18 -19 -18\n",
      " -19 -18 -19 -18 -19 -18 -19 -20 -21 -20 -19 -18 -17 -16 -15 -14 -15 -14\n",
      " -13 -12 -11 -10 -11 -10  -9 -10 -11 -12 -11 -12 -11 -10 -11 -12 -11 -10\n",
      "  -9 -10 -11 -12 -13 -14 -13 -12 -13 -14 -13 -14 -15 -14 -13 -12 -13 -14\n",
      " -15 -16 -15 -14 -13 -14 -15 -14 -13 -12 -13 -14 -15 -16 -15 -16 -15 -16\n",
      " -17 -16 -15 -16 -17 -16 -15 -16 -17 -18 -17 -18 -17 -16 -15 -16 -17 -18\n",
      " -17 -18 -17 -16 -17 -16 -17 -18 -17 -18 -17 -18 -17 -18 -17 -18 -17 -18\n",
      " -17 -18 -17 -16 -15 -14 -15 -16 -17 -18 -17 -18 -17 -16 -17 -16 -15 -14\n",
      " -13 -12 -13 -12 -11 -10 -11 -12 -11 -12 -13 -14 -13 -12 -13 -12 -13 -14\n",
      " -15 -14 -15 -14 -15 -16 -17 -18 -17 -16 -15 -14 -15 -14 -13 -12 -11 -10\n",
      " -11 -10  -9  -8  -7  -8  -9 -10 -11 -10 -11 -12 -11 -10  -9 -10 -11 -12\n",
      " -13 -14 -15 -14 -15 -16 -15 -16 -17 -18 -17 -16 -17 -16 -17 -16 -15 -16\n",
      " -15 -14 -13 -14 -15 -14 -15 -14 -15 -16 -15 -14 -15 -16 -15 -16 -15 -14\n",
      " -13 -14 -15 -14 -13 -14 -13 -12 -13 -14 -13 -14 -13 -14 -15 -16 -17 -18\n",
      " -19 -20 -21 -22 -23 -22 -23 -22 -21 -20 -19 -18 -17 -16 -17 -16 -15 -16\n",
      " -17 -18 -17 -18 -19 -18 -17 -18 -19 -20 -21 -20 -21 -20 -21 -20 -21 -22\n",
      " -21 -22 -23 -24 -23 -22 -23 -24 -23 -22 -21 -22 -23 -22 -21 -22 -23 -24\n",
      " -23 -24 -25 -24 -25 -24 -25 -26 -27 -28 -27 -26 -27 -26 -25 -24 -23 -22\n",
      " -21 -20 -19 -18 -19 -20 -21 -22 -23 -24 -23 -24 -23 -24 -23 -24 -23 -24\n",
      " -23 -24 -23 -24 -25 -24 -23 -24 -25 -24 -23 -24 -23 -22 -23 -24 -23 -22\n",
      " -23 -24 -25 -26 -25 -26 -25 -26 -27 -26 -27 -28 -27 -28 -27 -26 -25 -26\n",
      " -25 -24 -23 -22 -21 -22 -23 -24 -23 -24 -25 -24 -25 -24 -25 -26 -27 -26\n",
      " -27 -28 -29 -30 -29 -30 -31 -32 -33 -32 -33 -34 -33 -32 -33 -34 -33 -32\n",
      " -33 -34 -35 -34 -35 -34 -35 -36 -37 -38 -39 -40 -41 -40 -41 -42 -41 -40\n",
      " -41 -40 -39 -40 -41 -40 -39 -40 -39 -40 -39 -38 -39 -38 -37 -36 -37 -38\n",
      " -37 -38 -37 -38 -39 -40 -39 -40 -41 -42 -43 -42 -43 -44 -43 -44 -43 -42\n",
      " -43 -42 -41 -40 -39 -40 -39 -38 -37 -38 -37 -38 -39 -38 -39 -38 -39 -40\n",
      " -41 -42 -41 -40 -39 -40 -41 -42 -41 -40 -41 -40 -39 -40 -39 -38 -37 -38\n",
      " -37 -36 -37 -38 -37 -36 -37 -36 -37 -36 -35 -36 -35 -34 -33 -34 -33 -34\n",
      " -35 -36 -37 -36 -35 -36 -37 -38 -39 -40 -41 -42 -43 -42 -41 -42 -43 -44\n",
      " -43 -44 -45 -46 -45 -44 -43 -42 -41 -40 -41 -40 -41 -42 -41 -40 -39 -40\n",
      " -41 -40 -41 -42 -41 -40 -39 -38 -39 -40 -41 -42 -43 -44 -43 -44 -43 -42\n",
      " -41 -42 -43 -42 -43 -44 -43 -44 -45 -44 -43 -42 -43 -42 -43 -44 -45 -44\n",
      " -45 -44 -43 -44 -45 -46 -45 -46 -45 -44 -43 -44 -45 -44 -43 -42 -43 -44\n",
      " -43 -42 -43 -42 -41 -40 -41 -42 -41 -42 -43 -42 -41 -42 -41 -42 -41 -42\n",
      " -43 -44 -45 -44 -43 -42 -41 -40 -41 -42 -43 -42 -43 -44 -43 -42 -41 -40\n",
      " -39 -40 -41 -42 -43 -44 -43 -44 -43 -42 -41 -40 -41 -42 -43 -42 -43 -44\n",
      " -45 -46 -47 -46 -45 -44 -45 -46 -45 -44 -45 -46 -47 -48 -47 -48 -49 -48\n",
      " -49 -50 -49 -48 -47 -48 -47 -48 -47 -46]\n"
     ]
    }
   ],
   "source": [
    "nsteps = 1_000\n",
    "rng = np.random.default_rng(seed=12345)\n",
    "draws = rng.integers(0, 2, size=nsteps)\n",
    "steps = np.where(draws > 0, 1, -1) # np.where(condition, if True x, else y)\n",
    "walk = steps.cumsum()\n",
    "print(walk)\n"
   ]
  },
  {
   "cell_type": "code",
   "execution_count": 78,
   "metadata": {},
   "outputs": [
    {
     "name": "stdout",
     "output_type": "stream",
     "text": [
      "-50\n",
      "8\n"
     ]
    },
    {
     "data": {
      "text/plain": [
       "[<matplotlib.lines.Line2D at 0x11b0c2d10>]"
      ]
     },
     "execution_count": 78,
     "metadata": {},
     "output_type": "execute_result"
    },
    {
     "data": {
      "image/png": "[encoded data removed]",
      "text/plain": [
       "<Figure size 640x480 with 1 Axes>"
      ]
     },
     "metadata": {},
     "output_type": "display_data"
    }
   ],
   "source": [
    "print(walk.min())\n",
    "print(walk.max())\n",
    "plt.plot(walk[:100])"
   ]
  },
  {
   "cell_type": "code",
   "execution_count": null,
   "metadata": {},
   "outputs": [
    {
     "data": {
      "text/plain": [
       "np.int64(155)"
      ]
     },
     "execution_count": 82,
     "metadata": {},
     "output_type": "execute_result"
    }
   ],
   "source": [
    "(np.abs(walk) >= 10).argmax()\n",
    "\n",
    "# 1. 计算 walk 数组每个元素的绝对值\n",
    "# 2. 每个值与 10 比较\n",
    "# 3. argmax() 的作用是返回数组中最大值的第一个索引。\n",
    "# 在布尔数组中，True 被当作 1，False 被当作 0。返回第一个 True 的索引\n",
    "# 整体作用：找出随机游走（`walk`）的路径中，第一次距离起点达到或超过10个单位的那个时刻（或步数）的索引。\n"
   ]
  },
  {
   "cell_type": "markdown",
   "metadata": {},
   "source": [
    "## Simulating Many Random Walks at Once"
   ]
  },
  {
   "cell_type": "markdown",
   "metadata": {},
   "source": [
    "一次性计算所有 5000 次随机游走"
   ]
  },
  {
   "cell_type": "code",
   "execution_count": 84,
   "metadata": {},
   "outputs": [
    {
     "data": {
      "text/plain": [
       "array([[  1,   0,   1, ..., -28, -29, -30],\n",
       "       [  1,   0,   1, ..., -20, -19, -18],\n",
       "       [ -1,   0,   1, ...,  38,  39,  40],\n",
       "       ...,\n",
       "       [  1,   2,   1, ..., -14, -13, -12],\n",
       "       [ -1,   0,  -1, ..., -16, -17, -18],\n",
       "       [  1,   0,  -1, ..., -14, -15, -14]], shape=(5000, 1000))"
      ]
     },
     "execution_count": 84,
     "metadata": {},
     "output_type": "execute_result"
    }
   ],
   "source": [
    "nwalks = 5_000\n",
    "nsteps = 1_000\n",
    "\n",
    "draws = rng.integers(0, 2, size=(nwalks, nsteps)) \n",
    "# 生成一个二维NumPy数组（一个矩阵），其维度为 `nwalks` 行 `nsteps` 列，矩阵中填充的每个元素都是随机的整数0或1\n",
    "steps = np.where(draws > 0, 1, -1)\n",
    "walks = steps.cumsum(axis=1)\n",
    "# 沿着数组的第1轴（即列）计算累计和\n",
    "# 每个元素都是当前元素与之前所有元素的总和\n",
    "# 结果是一个新的数组，其中每个元素都是原始数组中对应位置的累计和\n",
    "walks"
   ]
  },
  {
   "cell_type": "code",
   "execution_count": 85,
   "metadata": {},
   "outputs": [
    {
     "name": "stdout",
     "output_type": "stream",
     "text": [
      "112\n",
      "-122\n"
     ]
    }
   ],
   "source": [
    "print(walks.max())\n",
    "print(walks.min())"
   ]
  },
  {
   "cell_type": "code",
   "execution_count": null,
   "metadata": {},
   "outputs": [
    {
     "data": {
      "text/plain": [
       "array([ True, False,  True, ..., False, False,  True], shape=(5000,))"
      ]
     },
     "execution_count": 86,
     "metadata": {},
     "output_type": "execute_result"
    }
   ],
   "source": [
    "hits30 = (np.abs(walks) >= 30).any(axis=1)\n",
    "# 检查每一行（即每次随机游走）是否有任何一个元素的绝对值大于等于30\n",
    "# any(axis=1) 表示在每一行中检查是否有任何一个元素为True\n",
    "# 结果是一个一维布尔数组，长度为nwalks，每个元素表示对应行是否有元素的绝对值大于等于30\n",
    "hits30\n"
   ]
  },
  {
   "cell_type": "code",
   "execution_count": null,
   "metadata": {},
   "outputs": [
    {
     "data": {
      "text/plain": [
       "np.int64(3369)"
      ]
     },
     "execution_count": 87,
     "metadata": {},
     "output_type": "execute_result"
    }
   ],
   "source": [
    "hits30.sum()\n",
    "# 计算有多少次随机游走最终达到了或超过了30"
   ]
  },
  {
   "cell_type": "markdown",
   "metadata": {},
   "source": [
    "我们可以使用这个布尔数组来选择实际穿过绝对 30 级的行， 并跨轴 1 调用 argmax 来获取交叉时间："
   ]
  },
  {
   "cell_type": "code",
   "execution_count": 88,
   "metadata": {},
   "outputs": [
    {
     "data": {
      "text/plain": [
       "array([917,   0, 507, ...,   0,   0, 801], shape=(5000,))"
      ]
     },
     "execution_count": 88,
     "metadata": {},
     "output_type": "execute_result"
    }
   ],
   "source": [
    "cross_times = (np.abs(walks) >= 30).argmax(axis=1)\n",
    "# 计算每个随机游走最终达到或超过30的时间\n",
    "# argmax(axis=1) 表示在每一行中找到第一个大于等于30的元素的索引(即 True 的索引)\n",
    "# 结果是一个一维数组，长度为nwalks，每个元素表示对应行最终达到或超过30的时间\n",
    "cross_times"
   ]
  },
  {
   "cell_type": "code",
   "execution_count": 89,
   "metadata": {},
   "outputs": [
    {
     "data": {
      "text/plain": [
       "np.float64(340.645)"
      ]
     },
     "execution_count": 89,
     "metadata": {},
     "output_type": "execute_result"
    }
   ],
   "source": [
    "cross_times.mean()\n"
   ]
  }
 ],
 "metadata": {
  "kernelspec": {
   "display_name": "jupyter_env",
   "language": "python",
   "name": "python3"
  },
  "language_info": {
   "codemirror_mode": {
    "name": "ipython",
    "version": 3
   },
   "file_extension": ".py",
   "mimetype": "text/x-python",
   "name": "python",
   "nbconvert_exporter": "python",
   "pygments_lexer": "ipython3",
   "version": "3.10.16"
  }
 },
 "nbformat": 4,
 "nbformat_minor": 4
}
