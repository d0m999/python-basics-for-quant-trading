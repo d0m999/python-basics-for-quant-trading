{
 "cells": [
  {
   "cell_type": "code",
   "execution_count": 1,
   "id": "34d68718",
   "metadata": {},
   "outputs": [
    {
     "data": {
      "text/plain": [
       "[1, 2, 3]"
      ]
     },
     "execution_count": 1,
     "metadata": {},
     "output_type": "execute_result"
    }
   ],
   "source": [
    "a = [1,2,3]\n",
    "b = a\n",
    "b\n"
   ]
  },
  {
   "cell_type": "markdown",
   "id": "e09cecea",
   "metadata": {},
   "source": [
    "在 python 中，a 和 b 现在都指向同一个 object"
   ]
  },
  {
   "cell_type": "code",
   "execution_count": 2,
   "id": "4f0b1a73",
   "metadata": {},
   "outputs": [
    {
     "data": {
      "text/plain": [
       "[1, 2, 3, 4]"
      ]
     },
     "execution_count": 2,
     "metadata": {},
     "output_type": "execute_result"
    }
   ],
   "source": [
    "a.append(4)\n",
    "b"
   ]
  },
  {
   "cell_type": "code",
   "execution_count": null,
   "id": "e895150f",
   "metadata": {},
   "outputs": [
    {
     "data": {
      "text/plain": [
       "[1, 2, 3, 4]"
      ]
     },
     "execution_count": 3,
     "metadata": {},
     "output_type": "execute_result"
    }
   ],
   "source": [
    "def append_elements(some_list, element): #pass objects as arguments to a function\n",
    "    some_list.append(element)\n",
    "\n",
    "data = [1, 2, 3]\n",
    "append_elements(data, 4)\n",
    "data"
   ]
  },
  {
   "cell_type": "code",
   "execution_count": null,
   "id": "30383a5a",
   "metadata": {},
   "outputs": [
    {
     "data": {
      "text/plain": [
       "'FOO'"
      ]
     },
     "execution_count": 11,
     "metadata": {},
     "output_type": "execute_result"
    }
   ],
   "source": [
    "a = 'foo'\n",
    "#getattr(a, 'upper')\n",
    "#hasattr(a, 'upper')\n",
    "a.upper() # methods调用带()，attributes调用不带()"
   ]
  },
  {
   "cell_type": "code",
   "execution_count": 3,
   "id": "10200fec",
   "metadata": {},
   "outputs": [
    {
     "data": {
      "text/plain": [
       "True"
      ]
     },
     "execution_count": 3,
     "metadata": {},
     "output_type": "execute_result"
    }
   ],
   "source": [
    "def isiterable(obj):\n",
    "    try:\n",
    "        iter(obj)\n",
    "        return True\n",
    "    except TypeError: # not iterable\n",
    "        return False\n",
    "\n",
    "isiterable(1)\n",
    "isiterable([1,2,3])\n",
    "isiterable('abc')"
   ]
  },
  {
   "cell_type": "code",
   "execution_count": null,
   "id": "7fbfc3bf",
   "metadata": {},
   "outputs": [
    {
     "ename": "TypeError",
     "evalue": "'str' object does not support item assignment",
     "output_type": "error",
     "traceback": [
      "\u001b[0;31m---------------------------------------------------------------------------\u001b[0m",
      "\u001b[0;31mTypeError\u001b[0m                                 Traceback (most recent call last)",
      "Cell \u001b[0;32mIn[8], line 3\u001b[0m\n\u001b[1;32m      1\u001b[0m a \u001b[38;5;241m=\u001b[39m \u001b[38;5;124m'\u001b[39m\u001b[38;5;124mthis is a string\u001b[39m\u001b[38;5;124m'\u001b[39m\n\u001b[0;32m----> 3\u001b[0m \u001b[43ma\u001b[49m\u001b[43m[\u001b[49m\u001b[38;5;241;43m10\u001b[39;49m\u001b[43m]\u001b[49m \u001b[38;5;241m=\u001b[39m \u001b[38;5;124m'\u001b[39m\u001b[38;5;124mf\u001b[39m\u001b[38;5;124m'\u001b[39m\n",
      "\u001b[0;31mTypeError\u001b[0m: 'str' object does not support item assignment"
     ]
    }
   ],
   "source": [
    "a = 'this is a string'\n",
    "\n",
    "a[10] = 'f'  # string is immutable"
   ]
  },
  {
   "cell_type": "code",
   "execution_count": 11,
   "id": "c42baf8e",
   "metadata": {},
   "outputs": [
    {
     "data": {
      "text/plain": [
       "'this is a long string'"
      ]
     },
     "execution_count": 11,
     "metadata": {},
     "output_type": "execute_result"
    }
   ],
   "source": [
    "b = a.replace('string', 'long string')\n",
    "\n",
    "b"
   ]
  },
  {
   "cell_type": "code",
   "execution_count": null,
   "id": "575419c4",
   "metadata": {},
   "outputs": [
    {
     "data": {
      "text/plain": [
       "'5.'"
      ]
     },
     "execution_count": 13,
     "metadata": {},
     "output_type": "execute_result"
    }
   ],
   "source": [
    "s = 5.66\n",
    "w = str(s)\n",
    "w[:-2]  # 字符串是 Unicode 字符序列，因此可以像其他序列一样处理，例如列表和元组"
   ]
  },
  {
   "cell_type": "code",
   "execution_count": 18,
   "id": "92255343",
   "metadata": {},
   "outputs": [
    {
     "name": "stdout",
     "output_type": "stream",
     "text": [
      "12\\34\n"
     ]
    }
   ],
   "source": [
    "s = '12\\\\34'\n",
    "print(s)"
   ]
  },
  {
   "cell_type": "code",
   "execution_count": null,
   "id": "76e4fc37",
   "metadata": {},
   "outputs": [
    {
     "data": {
      "text/plain": [
       "'\\n张柏芝\\n谢霆锋\\n'"
      ]
     },
     "execution_count": 19,
     "metadata": {},
     "output_type": "execute_result"
    }
   ],
   "source": [
    "name = r''' # r stands for raw string\n",
    "张柏芝\n",
    "谢霆锋\n",
    "'''\n",
    "name  #有时候不知道 string 怎么写可以用这个方法\n"
   ]
  },
  {
   "cell_type": "code",
   "execution_count": 20,
   "id": "a7449989",
   "metadata": {},
   "outputs": [
    {
     "data": {
      "text/plain": [
       "False"
      ]
     },
     "execution_count": 20,
     "metadata": {},
     "output_type": "execute_result"
    }
   ],
   "source": [
    "a = None\n",
    "\n",
    "a is not None"
   ]
  },
  {
   "cell_type": "code",
   "execution_count": 21,
   "id": "f15fd8d0",
   "metadata": {},
   "outputs": [
    {
     "data": {
      "text/plain": [
       "False"
      ]
     },
     "execution_count": 21,
     "metadata": {},
     "output_type": "execute_result"
    }
   ],
   "source": [
    "b = 0\n",
    "b is None"
   ]
  },
  {
   "cell_type": "code",
   "execution_count": 28,
   "id": "c330ae02",
   "metadata": {},
   "outputs": [
    {
     "data": {
      "text/plain": [
       "datetime.time(16, 0, 0, 215737)"
      ]
     },
     "execution_count": 28,
     "metadata": {},
     "output_type": "execute_result"
    }
   ],
   "source": [
    "from datetime import datetime, date, time\n",
    "\n",
    "dt = datetime.now()\n",
    "\n",
    "# attributes of datetime object\n",
    "# date.day\n",
    "# date.month\n",
    "# date.year\n",
    "# time.hour\n",
    "\n",
    "# methods of datetime object\n",
    "dt.date()\n",
    "dt.time()"
   ]
  },
  {
   "cell_type": "markdown",
   "id": "04e6f6e9",
   "metadata": {},
   "source": [
    "常用：convert string to datetime"
   ]
  },
  {
   "cell_type": "code",
   "execution_count": 31,
   "id": "07b2d1a7",
   "metadata": {},
   "outputs": [
    {
     "data": {
      "text/plain": [
       "datetime.datetime(2023, 12, 25, 0, 0)"
      ]
     },
     "execution_count": 31,
     "metadata": {},
     "output_type": "execute_result"
    }
   ],
   "source": [
    "datetime.strptime(\"20091031\", \"%Y%m%d\") \n",
    "# 2nd argument is format\n",
    "# format rule is %Y for year, %m for month, %d for day\n",
    "\n",
    "date_string = \"2023-12-25\"\n",
    "datetime_obj = datetime.strptime(date_string, \"%Y-%m-%d\")\n",
    "datetime_obj"
   ]
  },
  {
   "cell_type": "code",
   "execution_count": 32,
   "id": "01691f65",
   "metadata": {},
   "outputs": [
    {
     "data": {
      "text/plain": [
       "datetime.timedelta(days=12250, seconds=34200, microseconds=215737)"
      ]
     },
     "execution_count": 32,
     "metadata": {},
     "output_type": "execute_result"
    }
   ],
   "source": [
    "dt2 = datetime(1992, 2, 14, 6, 30, 0)\n",
    "\n",
    "age = dt - dt2\n",
    "\n",
    "age"
   ]
  },
  {
   "cell_type": "markdown",
   "id": "764afce6",
   "metadata": {},
   "source": [
    "## Control Flow"
   ]
  },
  {
   "cell_type": "code",
   "execution_count": 36,
   "id": "84e057d2",
   "metadata": {},
   "outputs": [
    {
     "name": "stdout",
     "output_type": "stream",
     "text": [
      "it's too small\n"
     ]
    }
   ],
   "source": [
    "x = 2\n",
    "if x < 7:\n",
    "    print(\"it's too small\")\n",
    "elif x > 7:\n",
    "    print(\"it's too big\")\n",
    "else:\n",
    "    print(\"it's just right\")"
   ]
  },
  {
   "cell_type": "markdown",
   "id": "859e3017",
   "metadata": {},
   "source": [
    "### FOR LOOPS"
   ]
  },
  {
   "cell_type": "code",
   "execution_count": null,
   "id": "684b734e",
   "metadata": {},
   "outputs": [
    {
     "data": {
      "text/plain": [
       "10"
      ]
     },
     "execution_count": 37,
     "metadata": {},
     "output_type": "execute_result"
    }
   ],
   "source": [
    "sequence = [1, 2, None, 3, None, 4]\n",
    "sum = 0\n",
    "for num in sequence:\n",
    "    if num is None:\n",
    "        continue # 使用 continue 关键字将 for 循环推进到下一次迭代，跳过块的其余部分。\n",
    "    sum += num\n",
    "\n",
    "sum"
   ]
  },
  {
   "cell_type": "code",
   "execution_count": null,
   "id": "c910eaf8",
   "metadata": {},
   "outputs": [
    {
     "name": "stdout",
     "output_type": "stream",
     "text": [
      "10\n"
     ]
    }
   ],
   "source": [
    "sequence2 = [1, 2, 3, 4, 5, 6, 7, 8, 9, 10]\n",
    "sum_until_4 = 0\n",
    "for i in sequence2:\n",
    "    if i > 4:\n",
    "        break # 停止迭代\n",
    "    sum_until_4 += i\n",
    "\n",
    "print(sum_until_4)"
   ]
  },
  {
   "cell_type": "code",
   "execution_count": 39,
   "id": "3ff4c601",
   "metadata": {},
   "outputs": [
    {
     "name": "stdout",
     "output_type": "stream",
     "text": [
      "(0, 0)\n",
      "(1, 0)\n",
      "(1, 1)\n",
      "(2, 0)\n",
      "(2, 1)\n",
      "(2, 2)\n",
      "(3, 0)\n",
      "(3, 1)\n",
      "(3, 2)\n",
      "(3, 3)\n"
     ]
    }
   ],
   "source": [
    "for i in range(4):\n",
    "    for j in range(4):\n",
    "        if i < j:\n",
    "            break\n",
    "        print((i, j))\n"
   ]
  },
  {
   "cell_type": "markdown",
   "id": "0e559036",
   "metadata": {},
   "source": [
    "### WHILE LOOPS"
   ]
  },
  {
   "cell_type": "code",
   "execution_count": 44,
   "id": "50ec1bc9",
   "metadata": {},
   "outputs": [
    {
     "data": {
      "text/plain": [
       "504"
      ]
     },
     "execution_count": 44,
     "metadata": {},
     "output_type": "execute_result"
    }
   ],
   "source": [
    "x = 256\n",
    "sum = 0\n",
    "while x > 0:\n",
    "    if sum > 500:\n",
    "        break\n",
    "    sum += x\n",
    "    x //= 2\n",
    "sum"
   ]
  },
  {
   "cell_type": "markdown",
   "id": "914e4de8",
   "metadata": {},
   "source": [
    "pass 是 Python 中的“no-op”（或“不做任何事情”）语句。"
   ]
  },
  {
   "cell_type": "code",
   "execution_count": null,
   "id": "2982fc35",
   "metadata": {},
   "outputs": [
    {
     "name": "stdout",
     "output_type": "stream",
     "text": [
      "positive\n"
     ]
    }
   ],
   "source": [
    "if x < 0:\n",
    "    print('negative')\n",
    "elif x == 0:\n",
    "    pass  # do nothing\n",
    "else:\n",
    "    print('positive')"
   ]
  },
  {
   "cell_type": "markdown",
   "id": "6622862c",
   "metadata": {},
   "source": [
    "### range\n",
    "包含 start，不含 stop\n",
    "- ✅ start < stop 且 step > 0\n",
    "- ✅ start > stop 且 step < 0\n",
    "- ❌ start < stop 且 step < 0 (会产生空序列)\n",
    "- ❌ start > stop 且 step > 0 (会产生空序列)"
   ]
  },
  {
   "cell_type": "code",
   "execution_count": 51,
   "id": "59e0c474",
   "metadata": {},
   "outputs": [
    {
     "data": {
      "text/plain": [
       "range(0, 10)"
      ]
     },
     "execution_count": 51,
     "metadata": {},
     "output_type": "execute_result"
    }
   ],
   "source": [
    "i = range(10)\n",
    "j = range(1,10)\n",
    "i"
   ]
  },
  {
   "cell_type": "code",
   "execution_count": 52,
   "id": "3d555333",
   "metadata": {},
   "outputs": [
    {
     "data": {
      "text/plain": [
       "range(1, 10)"
      ]
     },
     "execution_count": 52,
     "metadata": {},
     "output_type": "execute_result"
    }
   ],
   "source": [
    "j"
   ]
  },
  {
   "cell_type": "code",
   "execution_count": 53,
   "id": "7b7712f4",
   "metadata": {},
   "outputs": [
    {
     "data": {
      "text/plain": [
       "[0, 1, 2, 3, 4, 5, 6, 7, 8, 9]"
      ]
     },
     "execution_count": 53,
     "metadata": {},
     "output_type": "execute_result"
    }
   ],
   "source": [
    "list(i)"
   ]
  },
  {
   "cell_type": "code",
   "execution_count": 54,
   "id": "c15c039a",
   "metadata": {},
   "outputs": [
    {
     "data": {
      "text/plain": [
       "[0, 2, 4, 6, 8, 10, 12, 14, 16, 18]"
      ]
     },
     "execution_count": 54,
     "metadata": {},
     "output_type": "execute_result"
    }
   ],
   "source": [
    "list(range(0,20,2))"
   ]
  },
  {
   "cell_type": "code",
   "execution_count": null,
   "id": "a6fe0dc2",
   "metadata": {},
   "outputs": [
    {
     "data": {
      "text/plain": [
       "[]"
      ]
     },
     "execution_count": 56,
     "metadata": {},
     "output_type": "execute_result"
    }
   ],
   "source": [
    "list(range(1, 10, -2)) \n",
    "# 空序列\n",
    "# 起始: 1\n",
    "# 目标: 到达 10 (不包含)\n",
    "# 方向: 每次 -2 (递减)\n",
    "# \n",
    "# 1 → 1-2 = -1 → -1-2 = -3 → -3-2 = -5 → ..."
   ]
  },
  {
   "cell_type": "code",
   "execution_count": 57,
   "id": "bd1bfa06",
   "metadata": {},
   "outputs": [
    {
     "data": {
      "text/plain": [
       "2333316668"
      ]
     },
     "execution_count": 57,
     "metadata": {},
     "output_type": "execute_result"
    }
   ],
   "source": [
    "# 此代码段将 0 到 99,999 中 3 或 5 的倍数的所有数字相加\n",
    "sum = 0\n",
    "for i in range(0, 100000):\n",
    "    if i % 3 == 0 or i % 5 == 0:\n",
    "        sum += i\n",
    "sum"
   ]
  }
 ],
 "metadata": {
  "kernelspec": {
   "display_name": "jupyter_env",
   "language": "python",
   "name": "python3"
  },
  "language_info": {
   "codemirror_mode": {
    "name": "ipython",
    "version": 3
   },
   "file_extension": ".py",
   "mimetype": "text/x-python",
   "name": "python",
   "nbconvert_exporter": "python",
   "pygments_lexer": "ipython3",
   "version": "3.10.16"
  }
 },
 "nbformat": 4,
 "nbformat_minor": 5
}
