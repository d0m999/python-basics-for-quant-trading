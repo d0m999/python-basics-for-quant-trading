{
 "cells": [
  {
   "cell_type": "markdown",
   "id": "11a762ce",
   "metadata": {},
   "source": [
    "# 6.1 Reading and Writing Data in Text Format"
   ]
  },
  {
   "cell_type": "markdown",
   "id": "4ab8dbae",
   "metadata": {},
   "source": [
    "## Reading Text Files in Pieces"
   ]
  }
 ],
 "metadata": {
  "kernelspec": {
   "display_name": "jupyter_env",
   "language": "python",
   "name": "python3"
  },
  "language_info": {
   "name": "python",
   "version": "3.10.16"
  }
 },
 "nbformat": 4,
 "nbformat_minor": 5
}
